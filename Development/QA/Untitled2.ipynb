{
 "cells": [
  {
   "cell_type": "code",
   "execution_count": 1,
   "metadata": {
    "ExecuteTime": {
     "end_time": "2019-02-06T16:08:37.949642Z",
     "start_time": "2019-02-06T16:08:36.877546Z"
    }
   },
   "outputs": [],
   "source": [
    "#Right Joins Overnight\n",
    "import pandas as pd\n",
    "import os\n",
    "import configparser\n",
    "import sys\n",
    "sys.path.append('/project/Development')\n",
    "from helpers import general_helpers\n",
    "import configparser\n",
    "config = configparser.ConfigParser()\n",
    "config.read('/project/Development/config.ini')\n",
    "host = config['DATABASE']['HOST']\n",
    "username = config['DATABASE']['USERNAME']\n",
    "password = config['DATABASE']['PASSWORD']\n",
    "new_database = config['DATABASE']['NEW_DB']\n",
    "old_database = config['DATABASE']['OLD_DB']\n",
    "temporary_upload = config['DATABASE']['TEMP_UPLOAD_DB']\n",
    "previous_qa_loc = config['FOLDERS']['OLD_QA_LOC']\n",
    "new_qa_loc = config['FOLDERS']['NEW_QA_LOC']\n",
    "latest_expected_date = config['CONSTANTS']['LATEST_DATE']\n",
    "\n",
    "engine = general_helpers.connect_to_db(host, username, password, new_database)"
   ]
  },
  {
   "cell_type": "code",
   "execution_count": 4,
   "metadata": {
    "ExecuteTime": {
     "end_time": "2019-02-06T23:03:07.341011Z",
     "start_time": "2019-02-06T16:09:57.244657Z"
    }
   },
   "outputs": [
    {
     "name": "stdout",
     "output_type": "stream",
     "text": [
      "select count(distinct rawlocation.location_id_transformed) from location_assignee right join rawlocation on rawlocation.location_id_transformed = location_assignee.location_id where location_assignee.location_id is null\n"
     ]
    },
    {
     "ename": "AttributeError",
     "evalue": "'str' object has no attribute 'values'",
     "output_type": "error",
     "traceback": [
      "\u001b[0;31m---------------------------------------------------------------------------\u001b[0m",
      "\u001b[0;31mAttributeError\u001b[0m                            Traceback (most recent call last)",
      "\u001b[0;32m<ipython-input-4-79662dee862a>\u001b[0m in \u001b[0;36m<module>\u001b[0;34m\u001b[0m\n\u001b[1;32m     11\u001b[0m         \u001b[0mids_sql_var\u001b[0m \u001b[0;34m=\u001b[0m \u001b[0mpd\u001b[0m\u001b[0;34m.\u001b[0m\u001b[0mread_sql\u001b[0m\u001b[0;34m(\u001b[0m\u001b[0;34m\"select distinct {0}.{1} from {2} right join {0} on {0}.{1} = {2}.{3} where {2}.{3} is null limit 5\"\u001b[0m\u001b[0;34m.\u001b[0m\u001b[0mformat\u001b[0m\u001b[0;34m(\u001b[0m\u001b[0mi\u001b[0m\u001b[0;34m[\u001b[0m\u001b[0;36m0\u001b[0m\u001b[0;34m]\u001b[0m\u001b[0;34m,\u001b[0m \u001b[0mi\u001b[0m\u001b[0;34m[\u001b[0m\u001b[0;36m1\u001b[0m\u001b[0;34m]\u001b[0m\u001b[0;34m,\u001b[0m \u001b[0mj\u001b[0m\u001b[0;34m[\u001b[0m\u001b[0;36m0\u001b[0m\u001b[0;34m]\u001b[0m\u001b[0;34m,\u001b[0m \u001b[0mj\u001b[0m\u001b[0;34m[\u001b[0m\u001b[0;36m1\u001b[0m\u001b[0;34m]\u001b[0m\u001b[0;34m)\u001b[0m\u001b[0;34m,\u001b[0m \u001b[0mconn\u001b[0m\u001b[0;34m)\u001b[0m\u001b[0;34m\u001b[0m\u001b[0;34m\u001b[0m\u001b[0m\n\u001b[1;32m     12\u001b[0m         \u001b[0mids_sql\u001b[0m \u001b[0;34m=\u001b[0m \u001b[0;34m[\u001b[0m\u001b[0mrow\u001b[0m\u001b[0;34m[\u001b[0m\u001b[0;36m0\u001b[0m\u001b[0;34m]\u001b[0m \u001b[0;32mfor\u001b[0m \u001b[0mrow\u001b[0m \u001b[0;32min\u001b[0m \u001b[0mids_sql_var\u001b[0m\u001b[0;34m]\u001b[0m\u001b[0;34m[\u001b[0m\u001b[0;36m0\u001b[0m\u001b[0;34m]\u001b[0m\u001b[0;34m\u001b[0m\u001b[0;34m\u001b[0m\u001b[0m\n\u001b[0;32m---> 13\u001b[0;31m         \u001b[0mids\u001b[0m\u001b[0;34m=\u001b[0m \u001b[0mids_sql\u001b[0m\u001b[0;34m.\u001b[0m\u001b[0mvalues\u001b[0m\u001b[0;34m.\u001b[0m\u001b[0mT\u001b[0m\u001b[0;34m.\u001b[0m\u001b[0mtolist\u001b[0m\u001b[0;34m(\u001b[0m\u001b[0;34m)\u001b[0m\u001b[0;34m\u001b[0m\u001b[0;34m\u001b[0m\u001b[0m\n\u001b[0m\u001b[1;32m     14\u001b[0m         \u001b[0mid_list\u001b[0m\u001b[0;34m.\u001b[0m\u001b[0mappend\u001b[0m\u001b[0;34m(\u001b[0m\u001b[0mids\u001b[0m\u001b[0;34m[\u001b[0m\u001b[0;36m0\u001b[0m\u001b[0;34m]\u001b[0m\u001b[0;34m)\u001b[0m\u001b[0;34m\u001b[0m\u001b[0;34m\u001b[0m\u001b[0m\n\u001b[1;32m     15\u001b[0m     \u001b[0;32melse\u001b[0m\u001b[0;34m:\u001b[0m\u001b[0;34m\u001b[0m\u001b[0;34m\u001b[0m\u001b[0m\n",
      "\u001b[0;31mAttributeError\u001b[0m: 'str' object has no attribute 'values'"
     ]
    }
   ],
   "source": [
    "data_list_overnight= (['rawlocation', 'location_id_transformed'],['location_assignee', 'location_id']), (['location_inventor', 'location_id'], ['location', 'id']), (['location', 'id'], ['location_inventor', 'location_id']), (['patent', 'id'], ['rawinventor', 'patent_id']), (['temp_patent_list', 'id'], ['rawinventor', 'patent_id']),(['inventor', 'id'], ['rawinventor', 'inventor_id']), \n",
    "right_joins = []\n",
    "id_list=[]\n",
    "for i, j in data_list_overnight:\n",
    "    conn=engine.connect()\n",
    "    print (\"select count(distinct {0}.{1}) from {2} right join {0} on {0}.{1} = {2}.{3} where {2}.{3} is null\".format(i[0], i[1], j[0], j[1]))\n",
    "    var = conn.execute(\"select count(distinct {0}.{1}) from {2} right join {0} on {0}.{1} = {2}.{3} where {2}.{3} is null\".format(i[0], i[1], j[0], j[1]))\n",
    "    count = [row[0] for row in var][0]\n",
    "    right_joins.append(\"There are {0} rows in {1} not in {2}\".format(count, i[0], j[0]))\n",
    "    if count >0: #ie if there are any rows in the left table not in the right \n",
    "        ids_sql_var = pd.read_sql(\"select distinct {0}.{1} from {2} right join {0} on {0}.{1} = {2}.{3} where {2}.{3} is null limit 5\".format(i[0], i[1], j[0], j[1]), conn)\n",
    "        ids_sql = [row[0] for row in ids_sql_var][0]\n",
    "        ids= ids_sql.values.T.tolist()\n",
    "        id_list.append(ids[0])\n",
    "    else:\n",
    "        id_list.append('none')\n",
    "return right_joins, id_list"
   ]
  },
  {
   "cell_type": "code",
   "execution_count": null,
   "metadata": {},
   "outputs": [],
   "source": [
    "data_list_overnight= (['rawlocation', 'location_id_transformed'],['location_assignee', 'location_id']), (['location_inventor', 'location_id'], ['location', 'id']), (['location', 'id'], ['location_inventor', 'location_id']), (['patent', 'id'], ['rawinventor', 'patent_id']), (['temp_patent_list', 'id'], ['rawinventor', 'patent_id']),(['inventor', 'id'], ['rawinventor', 'inventor_id']), \n",
    "def right_joins_overnight(new_db,previous_qa_loc,new_qa_loc):\n",
    "    '''new_db: new database\n",
    "   previous_qa_loc: location of previous qa document\n",
    "   new_qa_loc: location of new qa document\n",
    "   this function does right joins that take a long time \n",
    "   in the new database and writes output to a csv file'''\n",
    "    right_joins = []\n",
    "    id_list=[]\n",
    "    for i, j in data_list_overnight:\n",
    "        print \"select count(distinct {0}.{1}) from {2} right join {0} on {0}.{1} = {2}.{3} where {2}.{3} is null\".format(i[0], i[1], j[0], j[1])\n",
    "        cursor.execute(\"select count(distinct {0}.{1}) from {2} right join {0} on {0}.{1} = {2}.{3} where {2}.{3} is null\".format(i[0], i[1], j[0], j[1]))\n",
    "        var = cursor.fetchall()\n",
    "        right_joins.append(\"There are {0} rows in {1} not in {2}\".format(var[0][0], i[0], j[0]))\n",
    "        if var[0][0] >0: #ie if there are any rows in the left table not in the right \n",
    "            ids_sql = pd.read_sql(\"select distinct {0}.{1} from {2} right join {0} on {0}.{1} = {2}.{3} where {2}.{3} is null limit 5\".format(i[0], i[1], j[0], j[1]), mydb)\n",
    "            ids= ids_sql.values.T.tolist()\n",
    "            id_list.append(ids[0])\n",
    "        else:\n",
    "            id_list.append('none')\n",
    "    return right_joins, id_list\n",
    "def write_over_night_results(right_joins, id_list, new_db, previous_qa_loc,new_qa_loc):\n",
    "    results = pd.read_excel(\"{0}/3_right_joins_overnight.xlsx\".format(previous_qa_loc))\n",
    "    results = pd.DataFrame()\n",
    "    results['Description_{0}'.format(new_db)]= right_joins\n",
    "    results['Example missing IDS_{0}'.format(new_db)]= id_list\n",
    "    results.to_excel(\"{0}/3_right_joins_overnight.xlsx\".format(new_qa_loc), index = False)"
   ]
  }
 ],
 "metadata": {
  "kernelspec": {
   "display_name": "Python 3",
   "language": "python",
   "name": "python3"
  },
  "language_info": {
   "codemirror_mode": {
    "name": "ipython",
    "version": 3
   },
   "file_extension": ".py",
   "mimetype": "text/x-python",
   "name": "python",
   "nbconvert_exporter": "python",
   "pygments_lexer": "ipython3",
   "version": "3.6.7"
  },
  "varInspector": {
   "cols": {
    "lenName": 16,
    "lenType": 16,
    "lenVar": 40
   },
   "kernels_config": {
    "python": {
     "delete_cmd_postfix": "",
     "delete_cmd_prefix": "del ",
     "library": "var_list.py",
     "varRefreshCmd": "print(var_dic_list())"
    },
    "r": {
     "delete_cmd_postfix": ") ",
     "delete_cmd_prefix": "rm(",
     "library": "var_list.r",
     "varRefreshCmd": "cat(var_dic_list()) "
    }
   },
   "types_to_exclude": [
    "module",
    "function",
    "builtin_function_or_method",
    "instance",
    "_Feature"
   ],
   "window_display": false
  }
 },
 "nbformat": 4,
 "nbformat_minor": 2
}
