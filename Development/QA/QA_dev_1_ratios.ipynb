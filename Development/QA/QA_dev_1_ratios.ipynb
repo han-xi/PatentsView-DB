{
 "cells": [
  {
   "cell_type": "code",
   "execution_count": 1,
   "metadata": {
    "ExecuteTime": {
     "end_time": "2019-02-13T19:57:56.879577Z",
     "start_time": "2019-02-13T19:57:55.534390Z"
    }
   },
   "outputs": [],
   "source": [
    "#Ratio of Total to Distinct IDs\n",
    "import pandas as pd\n",
    "import os\n",
    "import configparser\n",
    "import sys\n",
    "sys.path.append('/project/Development')\n",
    "from helpers import general_helpers\n",
    "import configparser\n",
    "config = configparser.ConfigParser()\n",
    "config.read('/project/Development/config.ini')\n",
    "host = config['DATABASE']['HOST']\n",
    "username = config['DATABASE']['USERNAME']\n",
    "password = config['DATABASE']['PASSWORD']\n",
    "new_database = config['DATABASE']['NEW_DB']\n",
    "old_database = config['DATABASE']['OLD_DB']\n",
    "temporary_upload = config['DATABASE']['TEMP_UPLOAD_DB']\n",
    "previous_qa_loc = config['FOLDERS']['OLD_QA_LOC']\n",
    "new_qa_loc = config['FOLDERS']['NEW_QA_LOC']\n",
    "latest_expected_date = config['CONSTANTS']['LATEST_DATE']\n",
    "\n",
    "engine = general_helpers.connect_to_db(host, username, password, new_database)\n",
    "max_dif=.05\n",
    "\n",
    "ratios = pd.read_excel('{}/1_distinct_to_total.xlsx'.format(previous_qa_loc))"
   ]
  },
  {
   "cell_type": "code",
   "execution_count": null,
   "metadata": {
    "ExecuteTime": {
     "start_time": "2019-02-13T17:49:31.952Z"
    },
    "scrolled": true
   },
   "outputs": [
    {
     "name": "stdout",
     "output_type": "stream",
     "text": [
      "6819362\n",
      "6819362\n",
      "6819362\n"
     ]
    }
   ],
   "source": [
    "new_ratios = []\n",
    "table_col = zip(ratios['Table'], ratios['Column'])\n",
    "for table, col in table_col:\n",
    "    conn = engine.connect()\n",
    "    query = \"select count({0}), count(distinct {0}) from {1}.{2}\".format(col, new_database, table)\n",
    "    var = conn.execute(query)\n",
    "    #count_var = [row[0] for row in var][0]\n",
    "    print (count_var) \n",
    "    for row in var:\n",
    "        count = row[0]\n",
    "        count_distinct = row[1]\n",
    "    new_ratios.append(count/count_distinct) \n",
    "    \n",
    "    \n",
    "#     if abs(old_db_ratio - new_db_ratio)/float(old_db_ratio) > max_dif:\n",
    "#         return \"Problem: The ratio of distinct to total ids are very different from last year \"\n",
    "#     else:\n",
    "#         return \"No Problem\"\n",
    "\n",
    " \n"
   ]
  },
  {
   "cell_type": "code",
   "execution_count": 4,
   "metadata": {
    "ExecuteTime": {
     "end_time": "2019-02-13T22:00:58.297346Z",
     "start_time": "2019-02-13T22:00:58.227948Z"
    }
   },
   "outputs": [
    {
     "data": {
      "text/plain": [
       "[1.0,\n",
       " 11.989517741030726,\n",
       " 46.551720611853305,\n",
       " 183.05392063121064,\n",
       " 4.304811836166819]"
      ]
     },
     "execution_count": 4,
     "metadata": {},
     "output_type": "execute_result"
    }
   ],
   "source": [
    "ratios"
   ]
  },
  {
   "cell_type": "code",
   "execution_count": 9,
   "metadata": {
    "ExecuteTime": {
     "end_time": "2019-02-13T22:12:17.434470Z",
     "start_time": "2019-02-13T22:12:17.365254Z"
    }
   },
   "outputs": [],
   "source": [
    "#Ratio of Total to Distinct IDs\n",
    "import pandas as pd\n",
    "import os\n",
    "import configparser\n",
    "import sys\n",
    "sys.path.append('/project/Development')\n",
    "from helpers import general_helpers\n",
    "import configparser\n",
    "config = configparser.ConfigParser()\n",
    "config.read('/project/Development/config.ini')\n",
    "host = config['DATABASE']['HOST']\n",
    "username = config['DATABASE']['USERNAME']\n",
    "password = config['DATABASE']['PASSWORD']\n",
    "new_database = config['DATABASE']['NEW_DB']\n",
    "old_database = config['DATABASE']['OLD_DB']\n",
    "temporary_upload = config['DATABASE']['TEMP_UPLOAD_DB']\n",
    "previous_qa_loc = config['FOLDERS']['OLD_QA_LOC']\n",
    "new_qa_loc = config['FOLDERS']['NEW_QA_LOC']\n",
    "latest_expected_date = config['CONSTANTS']['LATEST_DATE']\n",
    "\n",
    "engine = general_helpers.connect_to_db(host, username, password, new_database)\n",
    "\n",
    "def create_ratio_description(old_db_ratio, new_db_ratio, max_dif = .05 ):\n",
    "    if abs(old_db_ratio - new_db_ratio)/float(old_db_ratio) > max_dif:\n",
    "        return \"Problem: The ratio of distinct to total ids are very different from last year \"\n",
    "    else:\n",
    "        return \"No Problem\"\n",
    "    \n",
    "def get_ratios(previous_qa_loc, new_qa_loc, new_database):\n",
    "    ratios = pd.read_excel('{}/1_distinct_to_total.xlsx'.format(previous_qa_loc))\n",
    "    new_ratios = []\n",
    "    table_col = zip(ratios['Table'], ratios['Column'])\n",
    "    for table, col in table_col:\n",
    "        conn = engine.connect()\n",
    "        query = \"select count({0}), count(distinct {0}) from {1}.{2}\".format(col, new_database, table)\n",
    "        var = conn.execute(query)\n",
    "        for row in var:\n",
    "            count = row[0]\n",
    "            count_distinct = row[1]\n",
    "        new_ratios.append(count/count_distinct)  \n",
    "        conn.close()\n",
    "    return new_ratios   \n",
    "\n",
    "def write_distinct_excel(new_ratios, previous_qa_loc, new_qa_loc, new_database):\n",
    "    ratios = pd.read_excel('{}/1_distinct_to_total.xlsx'.format(previous_qa_loc))\n",
    "    ratios[new_database] = new_ratios\n",
    "    del ratios['Description']\n",
    "    #the last row of the table is now the most recent previous database!\n",
    "    ratios['Description'] = ratios.apply(lambda row: create_ratio_description(row[ratios.columns[-2]], row[new_database]), axis=1)\n",
    "    ratios.to_csv('{}/05_ratios.csv'.format(new_qa_loc), index = False)\n",
    "    \n",
    "ratios = get_ratios(previous_qa_loc, new_qa_loc, new_database)\n",
    "write_distinct_excel(ratios, previous_qa_loc, new_qa_loc, new_database)"
   ]
  },
  {
   "cell_type": "code",
   "execution_count": 11,
   "metadata": {
    "ExecuteTime": {
     "end_time": "2019-02-14T21:18:48.780288Z",
     "start_time": "2019-02-14T21:15:44.697284Z"
    }
   },
   "outputs": [],
   "source": [
    "ratios = get_ratios(previous_qa_loc, new_qa_loc, new_database)"
   ]
  },
  {
   "cell_type": "code",
   "execution_count": 10,
   "metadata": {
    "ExecuteTime": {
     "end_time": "2019-02-14T21:13:56.704826Z",
     "start_time": "2019-02-14T21:13:56.674251Z"
    }
   },
   "outputs": [],
   "source": [
    "write_distinct_excel(ratios, previous_qa_loc, new_qa_loc, new_database)"
   ]
  },
  {
   "cell_type": "code",
   "execution_count": 1,
   "metadata": {
    "ExecuteTime": {
     "end_time": "2019-02-01T16:54:11.765367Z",
     "start_time": "2019-02-01T16:54:09.533654Z"
    }
   },
   "outputs": [],
   "source": [
    "#Ratio of Total to Distinct IDs\n",
    "import pandas as pd\n",
    "import os\n",
    "import configparser\n",
    "import sys\n",
    "sys.path.append('/project/Development')\n",
    "from helpers import general_helpers\n",
    "import configparser\n",
    "config = configparser.ConfigParser()\n",
    "config.read('/project/Development/config.ini')\n",
    "host = config['DATABASE']['HOST']\n",
    "username = config['DATABASE']['USERNAME']\n",
    "password = config['DATABASE']['PASSWORD']\n",
    "new_database = config['DATABASE']['NEW_DB']\n",
    "old_database = config['DATABASE']['OLD_DB']\n",
    "temporary_upload = config['DATABASE']['TEMP_UPLOAD_DB']\n",
    "previous_qa_loc = config['FOLDERS']['OLD_QA_LOC']\n",
    "new_qa_loc = config['FOLDERS']['NEW_QA_LOC']\n",
    "latest_expected_date = config['CONSTANTS']['LATEST_DATE']\n",
    "\n",
    "engine = general_helpers.connect_to_db(host, username, password, new_database)"
   ]
  },
  {
   "cell_type": "code",
   "execution_count": 7,
   "metadata": {
    "ExecuteTime": {
     "end_time": "2019-02-13T19:03:06.560784Z",
     "start_time": "2019-02-13T19:02:37.217309Z"
    }
   },
   "outputs": [
    {
     "name": "stdout",
     "output_type": "stream",
     "text": [
      "6819362\n",
      "[]\n"
     ]
    },
    {
     "ename": "TypeError",
     "evalue": "(\"unsupported operand type(s) for -: 'str' and 'NoneType'\", 'occurred at index 0')",
     "output_type": "error",
     "traceback": [
      "\u001b[0;31m---------------------------------------------------------------------------\u001b[0m",
      "\u001b[0;31mTypeError\u001b[0m                                 Traceback (most recent call last)",
      "\u001b[0;32m<ipython-input-7-5f4287a93fa9>\u001b[0m in \u001b[0;36m<module>\u001b[0;34m\u001b[0m\n\u001b[1;32m     54\u001b[0m \u001b[0;34m\u001b[0m\u001b[0m\n\u001b[1;32m     55\u001b[0m \u001b[0mratios\u001b[0m \u001b[0;34m=\u001b[0m \u001b[0mget_ratios\u001b[0m\u001b[0;34m(\u001b[0m\u001b[0mprevious_qa_loc\u001b[0m\u001b[0;34m,\u001b[0m \u001b[0mnew_qa_loc\u001b[0m\u001b[0;34m,\u001b[0m \u001b[0mnew_database\u001b[0m\u001b[0;34m)\u001b[0m\u001b[0;34m\u001b[0m\u001b[0;34m\u001b[0m\u001b[0m\n\u001b[0;32m---> 56\u001b[0;31m \u001b[0mwrite_distinct_excel\u001b[0m\u001b[0;34m(\u001b[0m\u001b[0mratios\u001b[0m\u001b[0;34m,\u001b[0m \u001b[0mprevious_qa_loc\u001b[0m\u001b[0;34m,\u001b[0m \u001b[0mnew_qa_loc\u001b[0m\u001b[0;34m,\u001b[0m \u001b[0mnew_database\u001b[0m\u001b[0;34m)\u001b[0m\u001b[0;34m\u001b[0m\u001b[0;34m\u001b[0m\u001b[0m\n\u001b[0m",
      "\u001b[0;32m<ipython-input-7-5f4287a93fa9>\u001b[0m in \u001b[0;36mwrite_distinct_excel\u001b[0;34m(new_ratios, previous_qa_loc, new_qa_loc, new_database)\u001b[0m\n\u001b[1;32m     50\u001b[0m     \u001b[0;32mdel\u001b[0m \u001b[0mratios\u001b[0m\u001b[0;34m[\u001b[0m\u001b[0;34m'Description'\u001b[0m\u001b[0;34m]\u001b[0m\u001b[0;34m\u001b[0m\u001b[0;34m\u001b[0m\u001b[0m\n\u001b[1;32m     51\u001b[0m     \u001b[0;31m#the last row of the table is now the most recent previous database!\u001b[0m\u001b[0;34m\u001b[0m\u001b[0;34m\u001b[0m\u001b[0;34m\u001b[0m\u001b[0m\n\u001b[0;32m---> 52\u001b[0;31m     \u001b[0mratios\u001b[0m\u001b[0;34m[\u001b[0m\u001b[0;34m'Description'\u001b[0m\u001b[0;34m]\u001b[0m \u001b[0;34m=\u001b[0m \u001b[0mratios\u001b[0m\u001b[0;34m.\u001b[0m\u001b[0mapply\u001b[0m\u001b[0;34m(\u001b[0m\u001b[0;32mlambda\u001b[0m \u001b[0mrow\u001b[0m\u001b[0;34m:\u001b[0m \u001b[0mcreate_ratio_description\u001b[0m\u001b[0;34m(\u001b[0m\u001b[0mrow\u001b[0m\u001b[0;34m[\u001b[0m\u001b[0mratios\u001b[0m\u001b[0;34m.\u001b[0m\u001b[0mcolumns\u001b[0m\u001b[0;34m[\u001b[0m\u001b[0;34m-\u001b[0m\u001b[0;36m4\u001b[0m\u001b[0;34m]\u001b[0m\u001b[0;34m]\u001b[0m\u001b[0;34m,\u001b[0m \u001b[0mrow\u001b[0m\u001b[0;34m[\u001b[0m\u001b[0mnew_database\u001b[0m\u001b[0;34m]\u001b[0m\u001b[0;34m)\u001b[0m\u001b[0;34m,\u001b[0m \u001b[0maxis\u001b[0m\u001b[0;34m=\u001b[0m\u001b[0;36m1\u001b[0m\u001b[0;34m)\u001b[0m\u001b[0;34m\u001b[0m\u001b[0;34m\u001b[0m\u001b[0m\n\u001b[0m\u001b[1;32m     53\u001b[0m     \u001b[0mratios\u001b[0m\u001b[0;34m.\u001b[0m\u001b[0mto_csv\u001b[0m\u001b[0;34m(\u001b[0m\u001b[0;34m'{}/05_ratios.csv'\u001b[0m\u001b[0;34m.\u001b[0m\u001b[0mformat\u001b[0m\u001b[0;34m(\u001b[0m\u001b[0mnew_qa_loc\u001b[0m\u001b[0;34m)\u001b[0m\u001b[0;34m,\u001b[0m \u001b[0mindex\u001b[0m \u001b[0;34m=\u001b[0m \u001b[0;32mFalse\u001b[0m\u001b[0;34m)\u001b[0m\u001b[0;34m\u001b[0m\u001b[0;34m\u001b[0m\u001b[0m\n\u001b[1;32m     54\u001b[0m \u001b[0;34m\u001b[0m\u001b[0m\n",
      "\u001b[0;32m/opt/conda/lib/python3.6/site-packages/pandas/core/frame.py\u001b[0m in \u001b[0;36mapply\u001b[0;34m(self, func, axis, broadcast, raw, reduce, result_type, args, **kwds)\u001b[0m\n\u001b[1;32m   6012\u001b[0m                          \u001b[0margs\u001b[0m\u001b[0;34m=\u001b[0m\u001b[0margs\u001b[0m\u001b[0;34m,\u001b[0m\u001b[0;34m\u001b[0m\u001b[0;34m\u001b[0m\u001b[0m\n\u001b[1;32m   6013\u001b[0m                          kwds=kwds)\n\u001b[0;32m-> 6014\u001b[0;31m         \u001b[0;32mreturn\u001b[0m \u001b[0mop\u001b[0m\u001b[0;34m.\u001b[0m\u001b[0mget_result\u001b[0m\u001b[0;34m(\u001b[0m\u001b[0;34m)\u001b[0m\u001b[0;34m\u001b[0m\u001b[0;34m\u001b[0m\u001b[0m\n\u001b[0m\u001b[1;32m   6015\u001b[0m \u001b[0;34m\u001b[0m\u001b[0m\n\u001b[1;32m   6016\u001b[0m     \u001b[0;32mdef\u001b[0m \u001b[0mapplymap\u001b[0m\u001b[0;34m(\u001b[0m\u001b[0mself\u001b[0m\u001b[0;34m,\u001b[0m \u001b[0mfunc\u001b[0m\u001b[0;34m)\u001b[0m\u001b[0;34m:\u001b[0m\u001b[0;34m\u001b[0m\u001b[0;34m\u001b[0m\u001b[0m\n",
      "\u001b[0;32m/opt/conda/lib/python3.6/site-packages/pandas/core/apply.py\u001b[0m in \u001b[0;36mget_result\u001b[0;34m(self)\u001b[0m\n\u001b[1;32m    140\u001b[0m             \u001b[0;32mreturn\u001b[0m \u001b[0mself\u001b[0m\u001b[0;34m.\u001b[0m\u001b[0mapply_raw\u001b[0m\u001b[0;34m(\u001b[0m\u001b[0;34m)\u001b[0m\u001b[0;34m\u001b[0m\u001b[0;34m\u001b[0m\u001b[0m\n\u001b[1;32m    141\u001b[0m \u001b[0;34m\u001b[0m\u001b[0m\n\u001b[0;32m--> 142\u001b[0;31m         \u001b[0;32mreturn\u001b[0m \u001b[0mself\u001b[0m\u001b[0;34m.\u001b[0m\u001b[0mapply_standard\u001b[0m\u001b[0;34m(\u001b[0m\u001b[0;34m)\u001b[0m\u001b[0;34m\u001b[0m\u001b[0;34m\u001b[0m\u001b[0m\n\u001b[0m\u001b[1;32m    143\u001b[0m \u001b[0;34m\u001b[0m\u001b[0m\n\u001b[1;32m    144\u001b[0m     \u001b[0;32mdef\u001b[0m \u001b[0mapply_empty_result\u001b[0m\u001b[0;34m(\u001b[0m\u001b[0mself\u001b[0m\u001b[0;34m)\u001b[0m\u001b[0;34m:\u001b[0m\u001b[0;34m\u001b[0m\u001b[0;34m\u001b[0m\u001b[0m\n",
      "\u001b[0;32m/opt/conda/lib/python3.6/site-packages/pandas/core/apply.py\u001b[0m in \u001b[0;36mapply_standard\u001b[0;34m(self)\u001b[0m\n\u001b[1;32m    246\u001b[0m \u001b[0;34m\u001b[0m\u001b[0m\n\u001b[1;32m    247\u001b[0m         \u001b[0;31m# compute the result using the series generator\u001b[0m\u001b[0;34m\u001b[0m\u001b[0;34m\u001b[0m\u001b[0;34m\u001b[0m\u001b[0m\n\u001b[0;32m--> 248\u001b[0;31m         \u001b[0mself\u001b[0m\u001b[0;34m.\u001b[0m\u001b[0mapply_series_generator\u001b[0m\u001b[0;34m(\u001b[0m\u001b[0;34m)\u001b[0m\u001b[0;34m\u001b[0m\u001b[0;34m\u001b[0m\u001b[0m\n\u001b[0m\u001b[1;32m    249\u001b[0m \u001b[0;34m\u001b[0m\u001b[0m\n\u001b[1;32m    250\u001b[0m         \u001b[0;31m# wrap results\u001b[0m\u001b[0;34m\u001b[0m\u001b[0;34m\u001b[0m\u001b[0;34m\u001b[0m\u001b[0m\n",
      "\u001b[0;32m/opt/conda/lib/python3.6/site-packages/pandas/core/apply.py\u001b[0m in \u001b[0;36mapply_series_generator\u001b[0;34m(self)\u001b[0m\n\u001b[1;32m    275\u001b[0m             \u001b[0;32mtry\u001b[0m\u001b[0;34m:\u001b[0m\u001b[0;34m\u001b[0m\u001b[0;34m\u001b[0m\u001b[0m\n\u001b[1;32m    276\u001b[0m                 \u001b[0;32mfor\u001b[0m \u001b[0mi\u001b[0m\u001b[0;34m,\u001b[0m \u001b[0mv\u001b[0m \u001b[0;32min\u001b[0m \u001b[0menumerate\u001b[0m\u001b[0;34m(\u001b[0m\u001b[0mseries_gen\u001b[0m\u001b[0;34m)\u001b[0m\u001b[0;34m:\u001b[0m\u001b[0;34m\u001b[0m\u001b[0;34m\u001b[0m\u001b[0m\n\u001b[0;32m--> 277\u001b[0;31m                     \u001b[0mresults\u001b[0m\u001b[0;34m[\u001b[0m\u001b[0mi\u001b[0m\u001b[0;34m]\u001b[0m \u001b[0;34m=\u001b[0m \u001b[0mself\u001b[0m\u001b[0;34m.\u001b[0m\u001b[0mf\u001b[0m\u001b[0;34m(\u001b[0m\u001b[0mv\u001b[0m\u001b[0;34m)\u001b[0m\u001b[0;34m\u001b[0m\u001b[0;34m\u001b[0m\u001b[0m\n\u001b[0m\u001b[1;32m    278\u001b[0m                     \u001b[0mkeys\u001b[0m\u001b[0;34m.\u001b[0m\u001b[0mappend\u001b[0m\u001b[0;34m(\u001b[0m\u001b[0mv\u001b[0m\u001b[0;34m.\u001b[0m\u001b[0mname\u001b[0m\u001b[0;34m)\u001b[0m\u001b[0;34m\u001b[0m\u001b[0;34m\u001b[0m\u001b[0m\n\u001b[1;32m    279\u001b[0m             \u001b[0;32mexcept\u001b[0m \u001b[0mException\u001b[0m \u001b[0;32mas\u001b[0m \u001b[0me\u001b[0m\u001b[0;34m:\u001b[0m\u001b[0;34m\u001b[0m\u001b[0;34m\u001b[0m\u001b[0m\n",
      "\u001b[0;32m<ipython-input-7-5f4287a93fa9>\u001b[0m in \u001b[0;36m<lambda>\u001b[0;34m(row)\u001b[0m\n\u001b[1;32m     50\u001b[0m     \u001b[0;32mdel\u001b[0m \u001b[0mratios\u001b[0m\u001b[0;34m[\u001b[0m\u001b[0;34m'Description'\u001b[0m\u001b[0;34m]\u001b[0m\u001b[0;34m\u001b[0m\u001b[0;34m\u001b[0m\u001b[0m\n\u001b[1;32m     51\u001b[0m     \u001b[0;31m#the last row of the table is now the most recent previous database!\u001b[0m\u001b[0;34m\u001b[0m\u001b[0;34m\u001b[0m\u001b[0;34m\u001b[0m\u001b[0m\n\u001b[0;32m---> 52\u001b[0;31m     \u001b[0mratios\u001b[0m\u001b[0;34m[\u001b[0m\u001b[0;34m'Description'\u001b[0m\u001b[0;34m]\u001b[0m \u001b[0;34m=\u001b[0m \u001b[0mratios\u001b[0m\u001b[0;34m.\u001b[0m\u001b[0mapply\u001b[0m\u001b[0;34m(\u001b[0m\u001b[0;32mlambda\u001b[0m \u001b[0mrow\u001b[0m\u001b[0;34m:\u001b[0m \u001b[0mcreate_ratio_description\u001b[0m\u001b[0;34m(\u001b[0m\u001b[0mrow\u001b[0m\u001b[0;34m[\u001b[0m\u001b[0mratios\u001b[0m\u001b[0;34m.\u001b[0m\u001b[0mcolumns\u001b[0m\u001b[0;34m[\u001b[0m\u001b[0;34m-\u001b[0m\u001b[0;36m4\u001b[0m\u001b[0;34m]\u001b[0m\u001b[0;34m]\u001b[0m\u001b[0;34m,\u001b[0m \u001b[0mrow\u001b[0m\u001b[0;34m[\u001b[0m\u001b[0mnew_database\u001b[0m\u001b[0;34m]\u001b[0m\u001b[0;34m)\u001b[0m\u001b[0;34m,\u001b[0m \u001b[0maxis\u001b[0m\u001b[0;34m=\u001b[0m\u001b[0;36m1\u001b[0m\u001b[0;34m)\u001b[0m\u001b[0;34m\u001b[0m\u001b[0;34m\u001b[0m\u001b[0m\n\u001b[0m\u001b[1;32m     53\u001b[0m     \u001b[0mratios\u001b[0m\u001b[0;34m.\u001b[0m\u001b[0mto_csv\u001b[0m\u001b[0;34m(\u001b[0m\u001b[0;34m'{}/05_ratios.csv'\u001b[0m\u001b[0;34m.\u001b[0m\u001b[0mformat\u001b[0m\u001b[0;34m(\u001b[0m\u001b[0mnew_qa_loc\u001b[0m\u001b[0;34m)\u001b[0m\u001b[0;34m,\u001b[0m \u001b[0mindex\u001b[0m \u001b[0;34m=\u001b[0m \u001b[0;32mFalse\u001b[0m\u001b[0;34m)\u001b[0m\u001b[0;34m\u001b[0m\u001b[0;34m\u001b[0m\u001b[0m\n\u001b[1;32m     54\u001b[0m \u001b[0;34m\u001b[0m\u001b[0m\n",
      "\u001b[0;32m<ipython-input-7-5f4287a93fa9>\u001b[0m in \u001b[0;36mcreate_ratio_description\u001b[0;34m(old_db_ratio, new_db_ratio, max_dif)\u001b[0m\n\u001b[1;32m     23\u001b[0m \u001b[0;34m\u001b[0m\u001b[0m\n\u001b[1;32m     24\u001b[0m \u001b[0;32mdef\u001b[0m \u001b[0mcreate_ratio_description\u001b[0m\u001b[0;34m(\u001b[0m\u001b[0mold_db_ratio\u001b[0m\u001b[0;34m,\u001b[0m \u001b[0mnew_db_ratio\u001b[0m\u001b[0;34m,\u001b[0m \u001b[0mmax_dif\u001b[0m \u001b[0;34m=\u001b[0m \u001b[0;36m.05\u001b[0m \u001b[0;34m)\u001b[0m\u001b[0;34m:\u001b[0m\u001b[0;34m\u001b[0m\u001b[0;34m\u001b[0m\u001b[0m\n\u001b[0;32m---> 25\u001b[0;31m     \u001b[0;32mif\u001b[0m \u001b[0mabs\u001b[0m\u001b[0;34m(\u001b[0m\u001b[0mold_db_ratio\u001b[0m \u001b[0;34m-\u001b[0m \u001b[0mnew_db_ratio\u001b[0m\u001b[0;34m)\u001b[0m\u001b[0;34m/\u001b[0m\u001b[0mfloat\u001b[0m\u001b[0;34m(\u001b[0m\u001b[0mold_db_ratio\u001b[0m\u001b[0;34m)\u001b[0m \u001b[0;34m>\u001b[0m \u001b[0mmax_dif\u001b[0m\u001b[0;34m:\u001b[0m\u001b[0;34m\u001b[0m\u001b[0;34m\u001b[0m\u001b[0m\n\u001b[0m\u001b[1;32m     26\u001b[0m         \u001b[0;32mreturn\u001b[0m \u001b[0;34m\"Problem: The ratio of distinct to total ids are very different from last year \"\u001b[0m\u001b[0;34m\u001b[0m\u001b[0;34m\u001b[0m\u001b[0m\n\u001b[1;32m     27\u001b[0m     \u001b[0;32melse\u001b[0m\u001b[0;34m:\u001b[0m\u001b[0;34m\u001b[0m\u001b[0;34m\u001b[0m\u001b[0m\n",
      "\u001b[0;31mTypeError\u001b[0m: (\"unsupported operand type(s) for -: 'str' and 'NoneType'\", 'occurred at index 0')"
     ]
    }
   ],
   "source": [
    "#Ratio of Total to Distinct IDs\n",
    "import pandas as pd\n",
    "import os\n",
    "import configparser\n",
    "import sys\n",
    "sys.path.append('/project/Development')\n",
    "from helpers import general_helpers\n",
    "import configparser\n",
    "config = configparser.ConfigParser()\n",
    "config.read('/project/Development/config.ini')\n",
    "host = config['DATABASE']['HOST']\n",
    "username = config['DATABASE']['USERNAME']\n",
    "password = config['DATABASE']['PASSWORD']\n",
    "new_database = config['DATABASE']['NEW_DB']\n",
    "old_database = config['DATABASE']['OLD_DB']\n",
    "temporary_upload = config['DATABASE']['TEMP_UPLOAD_DB']\n",
    "previous_qa_loc = config['FOLDERS']['OLD_QA_LOC']\n",
    "new_qa_loc = config['FOLDERS']['NEW_QA_LOC']\n",
    "latest_expected_date = config['CONSTANTS']['LATEST_DATE']\n",
    "\n",
    "engine = general_helpers.connect_to_db(host, username, password, new_database)\n",
    "data = pd.read_excel(\"{}/1_distinct_to_total.xlsx\".format(previous_qa_loc))\n",
    "\n",
    "def create_ratio_description(old_db_ratio, new_db_ratio, max_dif = .05 ):\n",
    "    if abs(old_db_ratio - new_db_ratio)/float(old_db_ratio) > max_dif:\n",
    "        return \"Problem: The ratio of distinct to total ids are very different from last year \"\n",
    "    else:\n",
    "        return \"No Problem\"\n",
    "def get_ratios(previous_qa_loc, new_qa_loc, new_database):\n",
    "    ratios = pd.read_excel('{}/1_distinct_to_total.xlsx'.format(previous_qa_loc))\n",
    "    conn = engine.connect()\n",
    "    conn.execute('use {}'.format(new_database))\n",
    "    new_ratios = []\n",
    "    table_col = zip(ratios['Table'], ratios['Column'])\n",
    "    for table, col in table_col:\n",
    "        query = \"select count({0}), count(distinct {0}) from {1}.{2}\".format(col, new_database, table)\n",
    "        var = engine.execute(query)\n",
    "        counts = [row[0] for row in var][0]\n",
    "        print (counts)\n",
    "        break\n",
    "        for row in counts:\n",
    "            new_ratios.append(row[0]/float(row[1]))\n",
    "    conn.close()\n",
    "    print (new_ratios)\n",
    "    #return new_ratios\n",
    "\n",
    "def write_distinct_excel(new_ratios, previous_qa_loc, new_qa_loc, new_database):\n",
    "    ratios = pd.read_excel('{}/1_distinct_to_total.xlsx'.format(previous_qa_loc))\n",
    "    ratios[new_database] = new_ratios\n",
    "    del ratios['Description']\n",
    "    #the last row of the table is now the most recent previous database!\n",
    "    ratios['Description'] = ratios.apply(lambda row: create_ratio_description(row[ratios.columns[-4]], row[new_database]), axis=1)\n",
    "    ratios.to_csv('{}/05_ratios.csv'.format(new_qa_loc), index = False)\n",
    "    \n",
    "ratios = get_ratios(previous_qa_loc, new_qa_loc, new_database)\n",
    "write_distinct_excel(ratios, previous_qa_loc, new_qa_loc, new_database)"
   ]
  },
  {
   "cell_type": "code",
   "execution_count": 1,
   "metadata": {
    "ExecuteTime": {
     "end_time": "2019-01-16T17:06:46.110641Z",
     "start_time": "2019-01-16T17:06:45.463166Z"
    }
   },
   "outputs": [],
   "source": [
    "#Ratio of Total to Distinct IDs\n",
    "\n",
    "#set up sql alchemy engine\n",
    "import pandas as pd\n",
    "import os\n",
    "import configparser\n",
    "import sys\n",
    "sys.path.append('/project/Development')\n",
    "from helpers import general_helpers\n",
    "import configparser\n",
    "config = configparser.ConfigParser()\n",
    "config.read('/project/Development/config.ini')\n",
    "host = config['DATABASE']['HOST']\n",
    "username = config['DATABASE']['USERNAME']\n",
    "password = config['DATABASE']['PASSWORD']\n",
    "new_database = config['DATABASE']['NEW_DB']\n",
    "old_database = config['DATABASE']['OLD_DB']\n",
    "temporary_upload = config['DATABASE']['TEMP_UPLOAD_DB']\n",
    "previous_qa_loc = config['FOLDERS']['OLD_QA_LOC']\n",
    "new_qa_loc = config['FOLDERS']['OLD_QA_LOC']\n",
    "latest_expected_date = config['CONSTANTS']['LATEST_DATE']"
   ]
  },
  {
   "cell_type": "code",
   "execution_count": 2,
   "metadata": {
    "ExecuteTime": {
     "end_time": "2019-01-16T17:06:47.111834Z",
     "start_time": "2019-01-16T17:06:47.046907Z"
    }
   },
   "outputs": [
    {
     "name": "stdout",
     "output_type": "stream",
     "text": [
      "   patent_20180528        Table       Column  \\\n",
      "0         1.000000       patent           id   \n",
      "1        15.166234  rawassignee  assignee_id   \n",
      "2        46.031170    rawlawyer    lawyer_id   \n",
      "3       193.740275  rawlocation  location_id   \n",
      "4         4.121288  rawinventor  inventor_id   \n",
      "\n",
      "                                         Description  \n",
      "0  Ratio of Distinct Ids to Total Ids From Last T...  \n",
      "1  Ratio of Distinct Ids to Total Ids From Last T...  \n",
      "2  Ratio of Distinct Ids to Total Ids From Last T...  \n",
      "3  Ratio of Distinct Ids to Total Ids From Last T...  \n",
      "4  Ratio of Distinct Ids to Total Ids From Last T...  \n"
     ]
    }
   ],
   "source": [
    "engine = general_helpers.connect_to_db(host, username, password, new_database)\n",
    "data = pd.read_excel(\"{}/1_distinct_to_total.xlsx\".format(previous_qa_loc))\n",
    "print (data.head())"
   ]
  },
  {
   "cell_type": "code",
   "execution_count": 8,
   "metadata": {
    "ExecuteTime": {
     "end_time": "2019-01-16T17:17:18.441272Z",
     "start_time": "2019-01-16T17:11:03.950109Z"
    }
   },
   "outputs": [],
   "source": [
    "ratios = pd.read_excel('{}/1_distinct_to_total.xlsx'.format(previous_qa_loc))\n",
    "engine.execute('use {}'.format(new_database))\n",
    "new_ratios = []\n",
    "table_col = zip(ratios['Table'], ratios['Column'])\n",
    "for table, col in table_col:\n",
    "    query = \"select count({0}), count(distinct {0}) from {1}.{2}\".format(col, new_database, table)\n",
    "    counts = engine.execute(query)\n",
    "    for row in counts:\n",
    "        new_ratios.append(row[0]/float(row[1]))"
   ]
  },
  {
   "cell_type": "code",
   "execution_count": 13,
   "metadata": {
    "ExecuteTime": {
     "end_time": "2019-01-16T17:46:38.778284Z",
     "start_time": "2019-01-16T17:46:38.767409Z"
    }
   },
   "outputs": [],
   "source": [
    "def create_ratio_description(old_db_ratio, new_db_ratio, max_dif = .05 ):\n",
    "    if abs(old_db_ratio - new_db_ratio)/float(old_db_ratio) > max_dif:\n",
    "        return \"Problem: The ratio of distinct to total ids are very different from last year \"\n",
    "    else:\n",
    "        return \"No Problem\"\n",
    "def get_ratios(previous_qa_loc, new_qa_loc, new_database):\n",
    "    ratios = pd.read_excel('{}/1_distinct_to_total.xlsx'.format(previous_qa_loc))\n",
    "    engine.execute('use {}'.format(new_database))\n",
    "    new_ratios = []\n",
    "    table_col = zip(ratios['Table'], ratios['Column'])\n",
    "    for table, col in table_col:\n",
    "        query = \"select count({0}), count(distinct {0}) from {1}.{2}\".format(col, new_database, table)\n",
    "        counts = engine.execute(query)\n",
    "        for row in counts:\n",
    "            new_ratios.append(row[0]/float(row[1]))\n",
    "    return new_ratios\n",
    "\n",
    "def write_distinct_excel(new_ratios, previous_qa_loc, new_qa_loc, new_database):\n",
    "    ratios = pd.read_excel('{}/1_distinct_to_total.xlsx'.format(previous_qa_loc))\n",
    "    ratios[new_database] = new_ratios\n",
    "    del ratios['Description']\n",
    "    #the last row of the table is now the most recent previous database!\n",
    "    ratios['Description'] = ratios.apply(lambda row: create_ratio_description(row[ratios.columns[-4]], row[new_database]), axis=1)\n",
    "    ratios.to_excel('{}/1_distinct_to_total.xlsx'.format(new_qa_loc), index = False)"
   ]
  },
  {
   "cell_type": "code",
   "execution_count": 15,
   "metadata": {
    "ExecuteTime": {
     "end_time": "2019-01-16T19:10:35.039803Z",
     "start_time": "2019-01-16T19:03:50.174558Z"
    }
   },
   "outputs": [],
   "source": [
    "ratios = get_ratios(previous_qa_loc, new_qa_loc, new_database)\n",
    "write_distinct_excel(ratios, previous_qa_loc, new_qa_loc, new_database)"
   ]
  },
  {
   "cell_type": "code",
   "execution_count": null,
   "metadata": {},
   "outputs": [],
   "source": []
  }
 ],
 "metadata": {
  "kernelspec": {
   "display_name": "Python 3",
   "language": "python",
   "name": "python3"
  },
  "language_info": {
   "codemirror_mode": {
    "name": "ipython",
    "version": 3
   },
   "file_extension": ".py",
   "mimetype": "text/x-python",
   "name": "python",
   "nbconvert_exporter": "python",
   "pygments_lexer": "ipython3",
   "version": "3.6.7"
  },
  "varInspector": {
   "cols": {
    "lenName": 16,
    "lenType": 16,
    "lenVar": 40
   },
   "kernels_config": {
    "python": {
     "delete_cmd_postfix": "",
     "delete_cmd_prefix": "del ",
     "library": "var_list.py",
     "varRefreshCmd": "print(var_dic_list())"
    },
    "r": {
     "delete_cmd_postfix": ") ",
     "delete_cmd_prefix": "rm(",
     "library": "var_list.r",
     "varRefreshCmd": "cat(var_dic_list()) "
    }
   },
   "types_to_exclude": [
    "module",
    "function",
    "builtin_function_or_method",
    "instance",
    "_Feature"
   ],
   "window_display": false
  }
 },
 "nbformat": 4,
 "nbformat_minor": 2
}
