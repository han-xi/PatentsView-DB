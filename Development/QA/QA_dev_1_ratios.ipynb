{
 "cells": [
  {
   "cell_type": "code",
   "execution_count": 1,
   "metadata": {
    "ExecuteTime": {
     "end_time": "2019-01-15T21:28:36.531925Z",
     "start_time": "2019-01-15T21:28:35.941566Z"
    }
   },
   "outputs": [],
   "source": [
    "#Ratio of Total to Distinct IDs\n",
    "\n",
    "#set up sql alchemy engine\n",
    "import pandas as pd\n",
    "import os\n",
    "import configparser\n",
    "import sys\n",
    "sys.path.append('/project/Development')\n",
    "from helpers import general_helpers\n",
    "import configparser\n",
    "config = configparser.ConfigParser()\n",
    "config.read('/project/Development/config.ini')\n",
    "host = config['DATABASE']['HOST']\n",
    "username = config['DATABASE']['USERNAME']\n",
    "password = config['DATABASE']['PASSWORD']\n",
    "new_database = config['DATABASE']['NEW_DB']\n",
    "old_database = config['DATABASE']['OLD_DB']\n",
    "temporary_upload = config['DATABASE']['TEMP_UPLOAD_DB']\n",
    "previous_qa_loc = config['FOLDERS']['OLD_QA_LOC']\n",
    "new_qa_loc = config['FOLDERS']['OLD_QA_LOC']\n",
    "latest_expected_date = config['CONSTANTS']['LATEST_DATE']"
   ]
  },
  {
   "cell_type": "code",
   "execution_count": 2,
   "metadata": {
    "ExecuteTime": {
     "end_time": "2019-01-15T21:28:37.524255Z",
     "start_time": "2019-01-15T21:28:37.464519Z"
    }
   },
   "outputs": [
    {
     "name": "stdout",
     "output_type": "stream",
     "text": [
      "   patent_20180528        Table       Column  \\\n",
      "0         1.000000       patent           id   \n",
      "1        15.166234  rawassignee  assignee_id   \n",
      "2        46.031170    rawlawyer    lawyer_id   \n",
      "3       193.740275  rawlocation  location_id   \n",
      "4         4.121288  rawinventor  inventor_id   \n",
      "\n",
      "                                         Description  \n",
      "0  Ratio of Distinct Ids to Total Ids From Last T...  \n",
      "1  Ratio of Distinct Ids to Total Ids From Last T...  \n",
      "2  Ratio of Distinct Ids to Total Ids From Last T...  \n",
      "3  Ratio of Distinct Ids to Total Ids From Last T...  \n",
      "4  Ratio of Distinct Ids to Total Ids From Last T...  \n"
     ]
    }
   ],
   "source": [
    "engine = general_helpers.connect_to_db(host, username, password, new_database)\n",
    "data = pd.read_excel(\"{}/1_distinct_to_total.xlsx\".format(previous_qa_loc))\n",
    "print (data.head())"
   ]
  },
  {
   "cell_type": "code",
   "execution_count": 3,
   "metadata": {
    "ExecuteTime": {
     "end_time": "2019-01-15T21:35:49.945433Z",
     "start_time": "2019-01-15T21:35:49.928098Z"
    }
   },
   "outputs": [],
   "source": [
    "def create_ratio_description(old_db_ratio, new_db_ratio, max_dif = .05 ):\n",
    "    if abs(old_db_ratio - new_db_ratio)/float(old_db_ratio) > max_dif:\n",
    "        return \"Problem: The ratio of distinct to total ids are very different from last year \"\n",
    "    else:\n",
    "        return \"No Problem\"\n",
    "def get_ratios(previous_qa_loc, new_qa_loc, new_database):\n",
    "    ratios = pd.read_excel('{}/1_distinct_to_total.xlsx'.format(previous_qa_loc))\n",
    "    engine.execute('use {}'.format(new_database))\n",
    "    new_ratios = []\n",
    "    table_col = zip(ratios['Table'], ratios['Column'])\n",
    "    for table, col in table_col:\n",
    "        query = \"select count({0}), count(distinct {0}) from {1}.{2}\".format(col, new_database, table)\n",
    "        counts = engine.execute(query)\n",
    "        new_ratios.append(counts[0]/float(counts[1]))\n",
    "    return new_ratios\n",
    "\n",
    "def write_distinct_excel(new_ratios, previous_qa_loc, new_qa_loc, new_database):\n",
    "    ratios = pd.read_excel('{}/1_distinct_to_total.xlsx'.format(previous_qa_loc))\n",
    "    ratios[new_db] = new_ratios\n",
    "    del ratios['Description']\n",
    "    #the last row of the table is now the most recent previous database!\n",
    "    ratios['Description'] = ratios.apply(lambda row: create_ratio_description(row[ratios.columns[-4]], row[new_db]), axis=1)\n",
    "    ratios.to_excel('{}/1_distinct_to_total.xlsx'.format(new_qa_loc), index = False)"
   ]
  },
  {
   "cell_type": "code",
   "execution_count": 5,
   "metadata": {
    "ExecuteTime": {
     "end_time": "2019-01-15T21:36:35.903602Z",
     "start_time": "2019-01-15T21:36:05.740913Z"
    }
   },
   "outputs": [
    {
     "ename": "TypeError",
     "evalue": "'ResultProxy' object does not support indexing",
     "output_type": "error",
     "traceback": [
      "\u001b[0;31m---------------------------------------------------------------------------\u001b[0m",
      "\u001b[0;31mTypeError\u001b[0m                                 Traceback (most recent call last)",
      "\u001b[0;32m<ipython-input-5-8d82fe3b05f8>\u001b[0m in \u001b[0;36m<module>\u001b[0;34m\u001b[0m\n\u001b[0;32m----> 1\u001b[0;31m \u001b[0mratios\u001b[0m \u001b[0;34m=\u001b[0m \u001b[0mget_ratios\u001b[0m\u001b[0;34m(\u001b[0m\u001b[0mprevious_qa_loc\u001b[0m\u001b[0;34m,\u001b[0m \u001b[0mnew_qa_loc\u001b[0m\u001b[0;34m,\u001b[0m \u001b[0mnew_database\u001b[0m\u001b[0;34m)\u001b[0m\u001b[0;34m\u001b[0m\u001b[0;34m\u001b[0m\u001b[0m\n\u001b[0m\u001b[1;32m      2\u001b[0m \u001b[0mwrite_distinct_excel\u001b[0m\u001b[0;34m(\u001b[0m\u001b[0mratios\u001b[0m\u001b[0;34m,\u001b[0m \u001b[0mprevious_qa_loc\u001b[0m\u001b[0;34m,\u001b[0m \u001b[0mnew_qa_loc\u001b[0m\u001b[0;34m,\u001b[0m \u001b[0mnew_database\u001b[0m\u001b[0;34m)\u001b[0m\u001b[0;34m\u001b[0m\u001b[0;34m\u001b[0m\u001b[0m\n",
      "\u001b[0;32m<ipython-input-3-48509e6c652d>\u001b[0m in \u001b[0;36mget_ratios\u001b[0;34m(previous_qa_loc, new_qa_loc, new_database)\u001b[0m\n\u001b[1;32m     12\u001b[0m         \u001b[0mquery\u001b[0m \u001b[0;34m=\u001b[0m \u001b[0;34m\"select count({0}), count(distinct {0}) from {1}.{2}\"\u001b[0m\u001b[0;34m.\u001b[0m\u001b[0mformat\u001b[0m\u001b[0;34m(\u001b[0m\u001b[0mcol\u001b[0m\u001b[0;34m,\u001b[0m \u001b[0mnew_database\u001b[0m\u001b[0;34m,\u001b[0m \u001b[0mtable\u001b[0m\u001b[0;34m)\u001b[0m\u001b[0;34m\u001b[0m\u001b[0;34m\u001b[0m\u001b[0m\n\u001b[1;32m     13\u001b[0m         \u001b[0mcounts\u001b[0m \u001b[0;34m=\u001b[0m \u001b[0mengine\u001b[0m\u001b[0;34m.\u001b[0m\u001b[0mexecute\u001b[0m\u001b[0;34m(\u001b[0m\u001b[0mquery\u001b[0m\u001b[0;34m)\u001b[0m\u001b[0;34m\u001b[0m\u001b[0;34m\u001b[0m\u001b[0m\n\u001b[0;32m---> 14\u001b[0;31m         \u001b[0mnew_ratios\u001b[0m\u001b[0;34m.\u001b[0m\u001b[0mappend\u001b[0m\u001b[0;34m(\u001b[0m\u001b[0mcounts\u001b[0m\u001b[0;34m[\u001b[0m\u001b[0;36m0\u001b[0m\u001b[0;34m]\u001b[0m\u001b[0;34m/\u001b[0m\u001b[0mfloat\u001b[0m\u001b[0;34m(\u001b[0m\u001b[0mcounts\u001b[0m\u001b[0;34m[\u001b[0m\u001b[0;36m1\u001b[0m\u001b[0;34m]\u001b[0m\u001b[0;34m)\u001b[0m\u001b[0;34m)\u001b[0m\u001b[0;34m\u001b[0m\u001b[0;34m\u001b[0m\u001b[0m\n\u001b[0m\u001b[1;32m     15\u001b[0m     \u001b[0;32mreturn\u001b[0m \u001b[0mnew_ratios\u001b[0m\u001b[0;34m\u001b[0m\u001b[0;34m\u001b[0m\u001b[0m\n\u001b[1;32m     16\u001b[0m \u001b[0;34m\u001b[0m\u001b[0m\n",
      "\u001b[0;31mTypeError\u001b[0m: 'ResultProxy' object does not support indexing"
     ]
    }
   ],
   "source": [
    "ratios = get_ratios(previous_qa_loc, new_qa_loc, new_database)\n",
    "write_distinct_excel(ratios, previous_qa_loc, new_qa_loc, new_database)"
   ]
  },
  {
   "cell_type": "code",
   "execution_count": null,
   "metadata": {},
   "outputs": [],
   "source": []
  }
 ],
 "metadata": {
  "kernelspec": {
   "display_name": "Python 3",
   "language": "python",
   "name": "python3"
  },
  "language_info": {
   "codemirror_mode": {
    "name": "ipython",
    "version": 3
   },
   "file_extension": ".py",
   "mimetype": "text/x-python",
   "name": "python",
   "nbconvert_exporter": "python",
   "pygments_lexer": "ipython3",
   "version": "3.6.7"
  },
  "varInspector": {
   "cols": {
    "lenName": 16,
    "lenType": 16,
    "lenVar": 40
   },
   "kernels_config": {
    "python": {
     "delete_cmd_postfix": "",
     "delete_cmd_prefix": "del ",
     "library": "var_list.py",
     "varRefreshCmd": "print(var_dic_list())"
    },
    "r": {
     "delete_cmd_postfix": ") ",
     "delete_cmd_prefix": "rm(",
     "library": "var_list.r",
     "varRefreshCmd": "cat(var_dic_list()) "
    }
   },
   "types_to_exclude": [
    "module",
    "function",
    "builtin_function_or_method",
    "instance",
    "_Feature"
   ],
   "window_display": false
  }
 },
 "nbformat": 4,
 "nbformat_minor": 2
}
