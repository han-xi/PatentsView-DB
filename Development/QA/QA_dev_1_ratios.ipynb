{
 "cells": [
  {
   "cell_type": "code",
   "execution_count": 16,
   "metadata": {
    "ExecuteTime": {
     "end_time": "2019-01-16T21:33:30.362611Z",
     "start_time": "2019-01-16T21:30:14.253981Z"
    }
   },
   "outputs": [
    {
     "name": "stdout",
     "output_type": "stream",
     "text": [
      "   patent_20180528        Table       Column  patent_20180828  \\\n",
      "0         1.000000       patent           id         1.000000   \n",
      "1        15.166234  rawassignee  assignee_id        12.109223   \n",
      "2        46.031170    rawlawyer    lawyer_id        46.030117   \n",
      "3       193.740275  rawlocation  location_id       193.740275   \n",
      "4         4.121288  rawinventor  inventor_id         3.547261   \n",
      "\n",
      "                                         Description  \n",
      "0                                         No Problem  \n",
      "1  Problem: The ratio of distinct to total ids ar...  \n",
      "2                                         No Problem  \n",
      "3                                         No Problem  \n",
      "4  Problem: The ratio of distinct to total ids ar...  \n"
     ]
    }
   ],
   "source": [
    "#Ratio of Total to Distinct IDs\n",
    "\n",
    "#set up sql alchemy engine\n",
    "import pandas as pd\n",
    "import os\n",
    "import configparser\n",
    "import sys\n",
    "sys.path.append('/project/Development')\n",
    "from helpers import general_helpers\n",
    "import configparser\n",
    "config = configparser.ConfigParser()\n",
    "config.read('/project/Development/config.ini')\n",
    "host = config['DATABASE']['HOST']\n",
    "username = config['DATABASE']['USERNAME']\n",
    "password = config['DATABASE']['PASSWORD']\n",
    "new_database = config['DATABASE']['NEW_DB']\n",
    "old_database = config['DATABASE']['OLD_DB']\n",
    "temporary_upload = config['DATABASE']['TEMP_UPLOAD_DB']\n",
    "previous_qa_loc = config['FOLDERS']['OLD_QA_LOC']\n",
    "new_qa_loc = config['FOLDERS']['OLD_QA_LOC']\n",
    "latest_expected_date = config['CONSTANTS']['LATEST_DATE']\n",
    "\n",
    "engine = general_helpers.connect_to_db(host, username, password, new_database)\n",
    "data = pd.read_excel(\"{}/1_distinct_to_total.xlsx\".format(previous_qa_loc))\n",
    "#print (data.head())\n",
    "\n",
    "def create_ratio_description(old_db_ratio, new_db_ratio, max_dif = .05 ):\n",
    "    if abs(old_db_ratio - new_db_ratio)/float(old_db_ratio) > max_dif:\n",
    "        return \"Problem: The ratio of distinct to total ids are very different from last year \"\n",
    "    else:\n",
    "        return \"No Problem\"\n",
    "def get_ratios(previous_qa_loc, new_qa_loc, new_database):\n",
    "    ratios = pd.read_excel('{}/1_distinct_to_total.xlsx'.format(previous_qa_loc))\n",
    "    engine.execute('use {}'.format(new_database))\n",
    "    new_ratios = []\n",
    "    table_col = zip(ratios['Table'], ratios['Column'])\n",
    "    for table, col in table_col:\n",
    "        query = \"select count({0}), count(distinct {0}) from {1}.{2}\".format(col, new_database, table)\n",
    "        counts = engine.execute(query)\n",
    "        for row in counts:\n",
    "            new_ratios.append(row[0]/float(row[1]))\n",
    "    return new_ratios\n",
    "\n",
    "def write_distinct_excel(new_ratios, previous_qa_loc, new_qa_loc, new_database):\n",
    "    ratios = pd.read_excel('{}/1_distinct_to_total.xlsx'.format(previous_qa_loc))\n",
    "    ratios[new_database] = new_ratios\n",
    "    del ratios['Description']\n",
    "    #the last row of the table is now the most recent previous database!\n",
    "    ratios['Description'] = ratios.apply(lambda row: create_ratio_description(row[ratios.columns[-4]], row[new_database]), axis=1)\n",
    "    ratios.to_excel('{}/1_distinct_to_total.xlsx'.format(new_qa_loc), index = False)\n",
    "    \n",
    "ratios = get_ratios(previous_qa_loc, new_qa_loc, new_database)\n",
    "write_distinct_excel(ratios, previous_qa_loc, new_qa_loc, new_database)"
   ]
  },
  {
   "cell_type": "code",
   "execution_count": 1,
   "metadata": {
    "ExecuteTime": {
     "end_time": "2019-01-16T17:06:46.110641Z",
     "start_time": "2019-01-16T17:06:45.463166Z"
    }
   },
   "outputs": [],
   "source": [
    "#Ratio of Total to Distinct IDs\n",
    "\n",
    "#set up sql alchemy engine\n",
    "import pandas as pd\n",
    "import os\n",
    "import configparser\n",
    "import sys\n",
    "sys.path.append('/project/Development')\n",
    "from helpers import general_helpers\n",
    "import configparser\n",
    "config = configparser.ConfigParser()\n",
    "config.read('/project/Development/config.ini')\n",
    "host = config['DATABASE']['HOST']\n",
    "username = config['DATABASE']['USERNAME']\n",
    "password = config['DATABASE']['PASSWORD']\n",
    "new_database = config['DATABASE']['NEW_DB']\n",
    "old_database = config['DATABASE']['OLD_DB']\n",
    "temporary_upload = config['DATABASE']['TEMP_UPLOAD_DB']\n",
    "previous_qa_loc = config['FOLDERS']['OLD_QA_LOC']\n",
    "new_qa_loc = config['FOLDERS']['OLD_QA_LOC']\n",
    "latest_expected_date = config['CONSTANTS']['LATEST_DATE']"
   ]
  },
  {
   "cell_type": "code",
   "execution_count": 2,
   "metadata": {
    "ExecuteTime": {
     "end_time": "2019-01-16T17:06:47.111834Z",
     "start_time": "2019-01-16T17:06:47.046907Z"
    }
   },
   "outputs": [
    {
     "name": "stdout",
     "output_type": "stream",
     "text": [
      "   patent_20180528        Table       Column  \\\n",
      "0         1.000000       patent           id   \n",
      "1        15.166234  rawassignee  assignee_id   \n",
      "2        46.031170    rawlawyer    lawyer_id   \n",
      "3       193.740275  rawlocation  location_id   \n",
      "4         4.121288  rawinventor  inventor_id   \n",
      "\n",
      "                                         Description  \n",
      "0  Ratio of Distinct Ids to Total Ids From Last T...  \n",
      "1  Ratio of Distinct Ids to Total Ids From Last T...  \n",
      "2  Ratio of Distinct Ids to Total Ids From Last T...  \n",
      "3  Ratio of Distinct Ids to Total Ids From Last T...  \n",
      "4  Ratio of Distinct Ids to Total Ids From Last T...  \n"
     ]
    }
   ],
   "source": [
    "engine = general_helpers.connect_to_db(host, username, password, new_database)\n",
    "data = pd.read_excel(\"{}/1_distinct_to_total.xlsx\".format(previous_qa_loc))\n",
    "print (data.head())"
   ]
  },
  {
   "cell_type": "code",
   "execution_count": 8,
   "metadata": {
    "ExecuteTime": {
     "end_time": "2019-01-16T17:17:18.441272Z",
     "start_time": "2019-01-16T17:11:03.950109Z"
    }
   },
   "outputs": [],
   "source": [
    "ratios = pd.read_excel('{}/1_distinct_to_total.xlsx'.format(previous_qa_loc))\n",
    "engine.execute('use {}'.format(new_database))\n",
    "new_ratios = []\n",
    "table_col = zip(ratios['Table'], ratios['Column'])\n",
    "for table, col in table_col:\n",
    "    query = \"select count({0}), count(distinct {0}) from {1}.{2}\".format(col, new_database, table)\n",
    "    counts = engine.execute(query)\n",
    "    for row in counts:\n",
    "        new_ratios.append(row[0]/float(row[1]))"
   ]
  },
  {
   "cell_type": "code",
   "execution_count": 13,
   "metadata": {
    "ExecuteTime": {
     "end_time": "2019-01-16T17:46:38.778284Z",
     "start_time": "2019-01-16T17:46:38.767409Z"
    }
   },
   "outputs": [],
   "source": [
    "def create_ratio_description(old_db_ratio, new_db_ratio, max_dif = .05 ):\n",
    "    if abs(old_db_ratio - new_db_ratio)/float(old_db_ratio) > max_dif:\n",
    "        return \"Problem: The ratio of distinct to total ids are very different from last year \"\n",
    "    else:\n",
    "        return \"No Problem\"\n",
    "def get_ratios(previous_qa_loc, new_qa_loc, new_database):\n",
    "    ratios = pd.read_excel('{}/1_distinct_to_total.xlsx'.format(previous_qa_loc))\n",
    "    engine.execute('use {}'.format(new_database))\n",
    "    new_ratios = []\n",
    "    table_col = zip(ratios['Table'], ratios['Column'])\n",
    "    for table, col in table_col:\n",
    "        query = \"select count({0}), count(distinct {0}) from {1}.{2}\".format(col, new_database, table)\n",
    "        counts = engine.execute(query)\n",
    "        for row in counts:\n",
    "            new_ratios.append(row[0]/float(row[1]))\n",
    "    return new_ratios\n",
    "\n",
    "def write_distinct_excel(new_ratios, previous_qa_loc, new_qa_loc, new_database):\n",
    "    ratios = pd.read_excel('{}/1_distinct_to_total.xlsx'.format(previous_qa_loc))\n",
    "    ratios[new_database] = new_ratios\n",
    "    del ratios['Description']\n",
    "    #the last row of the table is now the most recent previous database!\n",
    "    ratios['Description'] = ratios.apply(lambda row: create_ratio_description(row[ratios.columns[-4]], row[new_database]), axis=1)\n",
    "    ratios.to_excel('{}/1_distinct_to_total.xlsx'.format(new_qa_loc), index = False)"
   ]
  },
  {
   "cell_type": "code",
   "execution_count": 15,
   "metadata": {
    "ExecuteTime": {
     "end_time": "2019-01-16T19:10:35.039803Z",
     "start_time": "2019-01-16T19:03:50.174558Z"
    }
   },
   "outputs": [],
   "source": [
    "ratios = get_ratios(previous_qa_loc, new_qa_loc, new_database)\n",
    "write_distinct_excel(ratios, previous_qa_loc, new_qa_loc, new_database)"
   ]
  },
  {
   "cell_type": "code",
   "execution_count": null,
   "metadata": {},
   "outputs": [],
   "source": []
  }
 ],
 "metadata": {
  "kernelspec": {
   "display_name": "Python 3",
   "language": "python",
   "name": "python3"
  },
  "language_info": {
   "codemirror_mode": {
    "name": "ipython",
    "version": 3
   },
   "file_extension": ".py",
   "mimetype": "text/x-python",
   "name": "python",
   "nbconvert_exporter": "python",
   "pygments_lexer": "ipython3",
   "version": "3.6.7"
  },
  "varInspector": {
   "cols": {
    "lenName": 16,
    "lenType": 16,
    "lenVar": 40
   },
   "kernels_config": {
    "python": {
     "delete_cmd_postfix": "",
     "delete_cmd_prefix": "del ",
     "library": "var_list.py",
     "varRefreshCmd": "print(var_dic_list())"
    },
    "r": {
     "delete_cmd_postfix": ") ",
     "delete_cmd_prefix": "rm(",
     "library": "var_list.r",
     "varRefreshCmd": "cat(var_dic_list()) "
    }
   },
   "types_to_exclude": [
    "module",
    "function",
    "builtin_function_or_method",
    "instance",
    "_Feature"
   ],
   "window_display": false
  }
 },
 "nbformat": 4,
 "nbformat_minor": 2
}
