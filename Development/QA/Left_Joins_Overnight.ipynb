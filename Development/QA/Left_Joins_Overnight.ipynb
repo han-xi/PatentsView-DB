{
 "cells": [
  {
   "cell_type": "code",
   "execution_count": 1,
   "metadata": {
    "ExecuteTime": {
     "end_time": "2019-02-01T18:04:30.586687Z",
     "start_time": "2019-02-01T18:04:28.785005Z"
    }
   },
   "outputs": [],
   "source": [
    "#Left Joins Overnight\n",
    "import pandas as pd\n",
    "import os\n",
    "import configparser\n",
    "import sys\n",
    "sys.path.append('/project/Development')\n",
    "from helpers import general_helpers\n",
    "import configparser\n",
    "config = configparser.ConfigParser()\n",
    "config.read('/project/Development/config.ini')\n",
    "host = config['DATABASE']['HOST']\n",
    "username = config['DATABASE']['USERNAME']\n",
    "password = config['DATABASE']['PASSWORD']\n",
    "new_database = config['DATABASE']['NEW_DB']\n",
    "old_database = config['DATABASE']['OLD_DB']\n",
    "temporary_upload = config['DATABASE']['TEMP_UPLOAD_DB']\n",
    "previous_qa_loc = config['FOLDERS']['OLD_QA_LOC']\n",
    "new_qa_loc = config['FOLDERS']['NEW_QA_LOC']\n",
    "latest_expected_date = config['CONSTANTS']['LATEST_DATE']\n",
    "\n",
    "engine = general_helpers.connect_to_db(host, username, password, new_database)"
   ]
  },
  {
   "cell_type": "code",
   "execution_count": 2,
   "metadata": {
    "ExecuteTime": {
     "end_time": "2019-02-01T18:10:58.200326Z",
     "start_time": "2019-02-01T18:08:33.746888Z"
    }
   },
   "outputs": [
    {
     "name": "stdout",
     "output_type": "stream",
     "text": [
      "Problem with join: rawinventor and persistent_inventor_disambig\n",
      "0\n",
      "0\n",
      "0\n"
     ]
    }
   ],
   "source": [
    "#Left Joins Overnight\n",
    "import pandas as pd\n",
    "import os\n",
    "import configparser\n",
    "import sys\n",
    "sys.path.append('/project/Development')\n",
    "from helpers import general_helpers\n",
    "import configparser\n",
    "config = configparser.ConfigParser()\n",
    "config.read('/project/Development/config.ini')\n",
    "host = config['DATABASE']['HOST']\n",
    "username = config['DATABASE']['USERNAME']\n",
    "password = config['DATABASE']['PASSWORD']\n",
    "new_database = config['DATABASE']['NEW_DB']\n",
    "old_database = config['DATABASE']['OLD_DB']\n",
    "temporary_upload = config['DATABASE']['TEMP_UPLOAD_DB']\n",
    "previous_qa_loc = config['FOLDERS']['OLD_QA_LOC']\n",
    "new_qa_loc = config['FOLDERS']['NEW_QA_LOC']\n",
    "latest_expected_date = config['CONSTANTS']['LATEST_DATE']\n",
    "\n",
    "engine = general_helpers.connect_to_db(host, username, password, new_database)\n",
    "\n",
    "data_list_overnight=[(['rawinventor', 'uuid'], ['persistent_inventor_disambig', 'rawinventor_id']),(['patent', 'id'], ['rawinventor', 'patent_id']), (['inventor', 'id'], ['rawinventor', 'inventor_id']), (['patent', 'id'], ['rawlawyer', 'patent_id'])] \n",
    "def left_joins_overnight(new_database, previous_qa_loc, new_qa_loc):\n",
    "    '''new_db: new database\n",
    "   previous_qa_loc: location of previous qa document\n",
    "   new_qa_loc: location of new qa document\n",
    "   this function does left joins that take a long time \n",
    "   in the new database and writes output to a csv file'''\n",
    "    results = pd.read_excel(\"{0}/4_left_joins_overnight.xlsx\".format(previous_qa_loc))\n",
    "    left_joins = []\n",
    "    id_list=[]\n",
    "    for i, j in data_list_overnight:\n",
    "        try:\n",
    "            conn=engine.connect()\n",
    "            var = conn.execute(\"select count(distinct {2}.{3}) from {0} right join {2} on {2}.{3} = {0}.{1} where {0}.{1} is null\".format(i[0], i[1], j[0], j[1]))\n",
    "            count = [row[0] for row in var][0]\n",
    "            print (count)\n",
    "            left_joins.append(\"There are {0} rows in {2} not in {1}\".format(count, i[0], j[0]))  \n",
    "            if count >0: # if there are tables in the right table not in the left\n",
    "                print (count)\n",
    "                var_ids = pd.read_sql(\"select distinct {2}.{3} from {0} right join {2} on {2}.{3} = {0}.{1} where {0}.{1} is null limit 5\".format(i[0], i[1], j[0], j[1]), conn)\n",
    "                #print(var_ids)\n",
    "                ids_sql=[row[0] for row in var_ids][0]\n",
    "                ids= ids_sql.values.T.tolist()\n",
    "                id_list.append(ids[0])\n",
    "            else:\n",
    "                id_list.append('none')\n",
    "        except:\n",
    "            print (\"Problem with join: {} and {}\".format(i[0],j[0]))\n",
    "            left_joins.append(\"Problem with join: {} and {}\".format(i[0],j[0]))\n",
    "            id_list.append('Problem')\n",
    "    conn.close()   \n",
    "    results['Description_{0}'.format(new_database)]= left_joins\n",
    "    results['Example missing IDS_{0}'.format(new_database)]= id_list\n",
    "    return results    \n",
    "def write_overnight(results, new_qa_loc):\n",
    "    results.to_csv(\"{0}/08_left_joins_overnight.csv\".format(new_qa_loc), index = False)\n",
    "    \n",
    "overnight_results = left_joins_overnight(new_database, previous_qa_loc, new_qa_loc)\n",
    "write_overnight(overnight_results, new_qa_loc)"
   ]
  },
  {
   "cell_type": "code",
   "execution_count": 11,
   "metadata": {
    "ExecuteTime": {
     "end_time": "2019-01-31T20:04:11.151515Z",
     "start_time": "2019-01-31T20:04:11.091927Z"
    }
   },
   "outputs": [
    {
     "ename": "SyntaxError",
     "evalue": "invalid syntax (<ipython-input-11-a04aad914510>, line 19)",
     "output_type": "error",
     "traceback": [
      "\u001b[0;36m  File \u001b[0;32m\"<ipython-input-11-a04aad914510>\"\u001b[0;36m, line \u001b[0;32m19\u001b[0m\n\u001b[0;31m    ids_sql=[row[0] for row in var_ids][0]\u001b[0m\n\u001b[0m          ^\u001b[0m\n\u001b[0;31mSyntaxError\u001b[0m\u001b[0;31m:\u001b[0m invalid syntax\n"
     ]
    }
   ],
   "source": [
    "data_list_overnight=[(['rawinventor', 'uuid'], ['persistent_inventor_disambig', 'rawinventor_id']),(['patent', 'id'], ['rawinventor', 'patent_id']), (['inventor', 'id'], ['rawinventor', 'inventor_id']), (['patent', 'id'], ['rawlawyer', 'patent_id'])] \n",
    "def left_joins_overnight(new_database, previous_qa_loc, new_qa_loc):\n",
    "    '''new_db: new database\n",
    "   previous_qa_loc: location of previous qa document\n",
    "   new_qa_loc: location of new qa document\n",
    "   this function does left joins that take a long time \n",
    "   in the new database and writes output to a csv file'''\n",
    "    results = pd.read_excel(\"{0}/4_left_joins_overnight.xlsx\".format(previous_qa_loc))\n",
    "    left_joins = []\n",
    "    id_list=[]\n",
    "    for i, j in data_list_overnight:\n",
    "        try:\n",
    "            conn=engine.connect()\n",
    "            var = conn.execute(\"select count(distinct {2}.{3}) from {0} right join {2} on {2}.{3} = {0}.{1} where {0}.{1} is null\".format(i[0], i[1], j[0], j[1]))\n",
    "            count = [row[0] for row in var][0]\n",
    "            left_joins.append(\"There are {0} rows in {2} not in {1}\".format(count, i[0], j[0]))  \n",
    "            if count >0: # if there are tables in the right table not in the left\n",
    "                var_ids = conn.execute(\"select distinct {2}.{3} from {0} right join {2} on {2}.{3} = {0}.{1} where {0}.{1} is null limit 5\".format(i[0], i[1], j[0], j[1])\n",
    "                ids_sql=[row[0] for row in var_ids][0]\n",
    "                ids= ids_sql.values.T.tolist()\n",
    "                id_list.append(ids[0])\n",
    "            else:\n",
    "                id_list.append('none')\n",
    "        except:\n",
    "            print \"Problem with join: {} and {}\".format(i[0],j[0])\n",
    "            left_joins.append(\"Problem with join: {} and {}\".format(i[0],j[0]))\n",
    "            id_list.append('Problem')\n",
    "    conn.close()        \n",
    "    results['Description_{0}'.format(new_database)]= left_joins\n",
    "    results['Example missing IDS_{0}'.format(new_database)]= id_list\n",
    "    return results\n",
    "def write_overnight(results, new_qa_loc):\n",
    "    results.to_csv(\"{0}/08_left_joins_overnight\".format(new_qa_loc), index = False)"
   ]
  },
  {
   "cell_type": "code",
   "execution_count": null,
   "metadata": {
    "ExecuteTime": {
     "end_time": "2019-01-31T19:57:31.990386Z",
     "start_time": "2019-01-31T19:57:31.502Z"
    }
   },
   "outputs": [],
   "source": [
    "overnight_results = left_joins_overnight(new_db, previous_qa_loc, new_qa_loc)\n",
    "write_overnight(overnight_results, new_qa_loc)"
   ]
  },
  {
   "cell_type": "code",
   "execution_count": null,
   "metadata": {},
   "outputs": [],
   "source": []
  }
 ],
 "metadata": {
  "kernelspec": {
   "display_name": "Python 3",
   "language": "python",
   "name": "python3"
  },
  "language_info": {
   "codemirror_mode": {
    "name": "ipython",
    "version": 3
   },
   "file_extension": ".py",
   "mimetype": "text/x-python",
   "name": "python",
   "nbconvert_exporter": "python",
   "pygments_lexer": "ipython3",
   "version": "3.6.7"
  },
  "varInspector": {
   "cols": {
    "lenName": 16,
    "lenType": 16,
    "lenVar": 40
   },
   "kernels_config": {
    "python": {
     "delete_cmd_postfix": "",
     "delete_cmd_prefix": "del ",
     "library": "var_list.py",
     "varRefreshCmd": "print(var_dic_list())"
    },
    "r": {
     "delete_cmd_postfix": ") ",
     "delete_cmd_prefix": "rm(",
     "library": "var_list.r",
     "varRefreshCmd": "cat(var_dic_list()) "
    }
   },
   "types_to_exclude": [
    "module",
    "function",
    "builtin_function_or_method",
    "instance",
    "_Feature"
   ],
   "window_display": false
  }
 },
 "nbformat": 4,
 "nbformat_minor": 2
}
