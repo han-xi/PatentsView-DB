{
 "cells": [
  {
   "cell_type": "code",
   "execution_count": 1,
   "metadata": {
    "ExecuteTime": {
     "end_time": "2019-01-15T21:04:52.622765Z",
     "start_time": "2019-01-15T21:04:52.548000Z"
    }
   },
   "outputs": [
    {
     "ename": "NameError",
     "evalue": "name 'os' is not defined",
     "output_type": "error",
     "traceback": [
      "\u001b[0;31m---------------------------------------------------------------------------\u001b[0m",
      "\u001b[0;31mNameError\u001b[0m                                 Traceback (most recent call last)",
      "\u001b[0;32m<ipython-input-1-a78b1fb2bab9>\u001b[0m in \u001b[0;36m<module>\u001b[0;34m\u001b[0m\n\u001b[0;32m----> 1\u001b[0;31m \u001b[0mos\u001b[0m\u001b[0;34m.\u001b[0m\u001b[0mgetcwd\u001b[0m\u001b[0;34m(\u001b[0m\u001b[0;34m)\u001b[0m\u001b[0;34m\u001b[0m\u001b[0;34m\u001b[0m\u001b[0m\n\u001b[0m",
      "\u001b[0;31mNameError\u001b[0m: name 'os' is not defined"
     ]
    }
   ],
   "source": [
    "os.getcwd()"
   ]
  },
  {
   "cell_type": "code",
   "execution_count": 6,
   "metadata": {
    "ExecuteTime": {
     "end_time": "2019-01-18T19:26:54.633895Z",
     "start_time": "2019-01-18T19:26:54.625022Z"
    }
   },
   "outputs": [],
   "source": [
    "#Counts QA\n",
    "\n",
    "#set up sql alchemy engine\n",
    "import pandas as pd\n",
    "import os\n",
    "import configparser\n",
    "import sys\n",
    "sys.path.append('/project/Development')\n",
    "from helpers import general_helpers\n",
    "import configparser\n",
    "config = configparser.ConfigParser()\n",
    "config.read('/project/Development/config.ini')\n",
    "host = config['DATABASE']['HOST']\n",
    "username = config['DATABASE']['USERNAME']\n",
    "password = config['DATABASE']['PASSWORD']\n",
    "new_database = config['DATABASE']['NEW_DB']\n",
    "old_database = config['DATABASE']['OLD_DB']\n",
    "temporary_upload = config['DATABASE']['TEMP_UPLOAD_DB']\n",
    "previous_qa_loc = config['FOLDERS']['OLD_QA_LOC']\n",
    "new_qa_loc = config['FOLDERS']['OLD_QA_LOC']\n",
    "latest_expected_date = config['CONSTANTS']['LATEST_DATE']"
   ]
  },
  {
   "cell_type": "code",
   "execution_count": 9,
   "metadata": {
    "ExecuteTime": {
     "end_time": "2019-01-15T20:10:35.912556Z",
     "start_time": "2019-01-15T20:10:35.905447Z"
    }
   },
   "outputs": [
    {
     "data": {
      "text/plain": [
       "['10_db_parameters.xlsx',\n",
       " '1_distinct_to_total.xlsx',\n",
       " '1_latest_date_check.xlsx',\n",
       " '1_null_and_blank_count.xlsx',\n",
       " '1_table_counts.xlsx',\n",
       " '2_data_by_year.xlsx',\n",
       " '3_right_joins_nonstandard.xlsx',\n",
       " '3_right_joins_overnight_1.xlsx',\n",
       " '3_right_joins_standard.xlsx',\n",
       " '4_left_joins.csv',\n",
       " '~$4_left_joins_nonstandard_v2.xlsx',\n",
       " '4_left_joins_nonstandard_v2.xlsx',\n",
       " '4_left_joins_nonstandard.xlsx',\n",
       " '4_left_joins_overnight.xlsx',\n",
       " '4_left_joins_weird.csv',\n",
       " '4_left_joins.xlsx',\n",
       " '~$5_loc_distinct.xlsx',\n",
       " '5_loc_distinct.xlsx',\n",
       " '5_loc_NOT_distinct_test.xlsx',\n",
       " '5_loc_NOT_distinct.xlsx',\n",
       " '5_right_joins_overnight.xlsx',\n",
       " '6_list_length',\n",
       " '6_list_length_cd.xlsx',\n",
       " '6_list_length.xlsx',\n",
       " '7_date_sum_count_distinct_TEST.xlsx',\n",
       " '7_date_sum_count_distinct.xlsx',\n",
       " '7_date_sum_count_TEST.xlsx',\n",
       " '7_date_sum_count.xlsx',\n",
       " '8_other_sum_qa_new.xlsx',\n",
       " '8_other_sum_qa_null_titles.xlsx',\n",
       " '8_other_sum_qa_TEST.xlsx',\n",
       " '8_other_sum_qa.xlsx',\n",
       " '9_db_parameters.xlsx',\n",
       " 'date_sum_qa_1_v2.xlsx',\n",
       " '~$date_sum_qa_1.xlsx',\n",
       " 'date_sum_qa_1.xlsx',\n",
       " 'date_sum_qa_v2.xlsx',\n",
       " 'date_sum_qa.xlsx',\n",
       " '~$ft_joins.docx',\n",
       " '~$ght_joins.docx',\n",
       " 'left_joins.docx',\n",
       " 'other_sum_qa_not_group_by.xlsx',\n",
       " '~$other_sum_qa.xlsx',\n",
       " 'other_sum_qa.xlsx',\n",
       " '~$qa_spreadsheet.xlsx',\n",
       " 'qa_spreadsheet.xlsx',\n",
       " 'Reporting_DB_top_assignee_inventor_patent.xlsx',\n",
       " 'right_joins.docx']"
      ]
     },
     "execution_count": 9,
     "metadata": {},
     "output_type": "execute_result"
    }
   ],
   "source": [
    "os.listdir(\"/project/previous_QA_output\")"
   ]
  },
  {
   "cell_type": "code",
   "execution_count": 7,
   "metadata": {
    "ExecuteTime": {
     "end_time": "2019-01-18T19:27:01.178594Z",
     "start_time": "2019-01-18T19:27:01.158843Z"
    }
   },
   "outputs": [],
   "source": [
    "engine = general_helpers.connect_to_db(host, username, password, new_database)\n",
    "data = pd.read_excel(\"{}/1_table_counts.xlsx\".format(previous_qa_loc))\n",
    "#print (data.head())"
   ]
  },
  {
   "cell_type": "code",
   "execution_count": 8,
   "metadata": {
    "ExecuteTime": {
     "end_time": "2019-01-18T19:27:04.137371Z",
     "start_time": "2019-01-18T19:27:04.127116Z"
    }
   },
   "outputs": [],
   "source": [
    "#Counts- creating count description\n",
    "def create_count_description(old_db_count, new_db_count, table, min_inc = 1.01, max_inc = 1.1):\n",
    "    unchanging = ['cpc_subsection', 'wipo_field', 'nber_category', 'nber', 'cpc_group',\n",
    "                  'nber_subcategory', 'mainclass', 'mainclass_current', 'subclass', 'subclass_current']\n",
    "    slight_changes = ['cpc_subgroup']\n",
    "    if not table in unchanging + slight_changes:\n",
    "        if new_db_count < old_db_count:\n",
    "            return \"Problem: New table has fewer rows than old table \"\n",
    "        elif new_db_count == old_db_count:\n",
    "            return \"Problem: No new entries\"\n",
    "        elif new_db_count > old_db_count*max_inc:\n",
    "            return \"Problem: Too many new entries\"\n",
    "        elif new_db_count < old_db_count*min_inc:\n",
    "            return \"Problem: Too few new entries\"\n",
    "        elif old_db_count*min_inc < new_db_count < old_db_count*max_inc:\n",
    "            return \"No Problem!\"\n",
    "        else:\n",
    "            return \"Check the logic!\"\n",
    "    elif table in unchanging:\n",
    "        if new_db_count == old_db_count:\n",
    "            return \"No Problem!\"\n",
    "        else:\n",
    "            return \"Problem: Number of rows in unchanging table changed\"\n",
    "    elif table in slight_changes:\n",
    "        if old_db_count*.9 < new_db_count < old_db_count*1.1:\n",
    "            return \"No Problem!\"\n",
    "        else: \n",
    "            return \"Problem: Number of rows in slightly changing table changed\""
   ]
  },
  {
   "cell_type": "code",
   "execution_count": 9,
   "metadata": {
    "ExecuteTime": {
     "end_time": "2019-01-18T19:27:09.547693Z",
     "start_time": "2019-01-18T19:27:09.530428Z"
    }
   },
   "outputs": [],
   "source": [
    "#Counts- Get counts\n",
    "def get_counts(previous_qa_loc, new_qa_loc, new_database):\n",
    "    counts = pd.read_excel('{}/1_table_counts.xlsx'.format(previous_qa_loc))\n",
    "    engine.execute('use {}'.format(new_database))\n",
    "    new_counts = []\n",
    "    for table in counts['Table']:\n",
    "       # print table\n",
    "        count = engine.execute('select count(*) from {}'.format(table))\n",
    "        new_counts.append(count)\n",
    "    return new_counts\n",
    "#Counts- write to excel\n",
    "def make_excel(new_counts, previous_qa_loc, new_qa_loc, new_database):\n",
    "    counts = pd.read_excel('{}/1_table_counts.xlsx'.format(OLD_QA))\n",
    "    counts[new_database] = new_counts\n",
    "    del counts['Description']\n",
    "    #the last row of the table is now the most recent previous database!\n",
    "    counts['Description'] = counts.apply(lambda row: create_count_description(row[counts.columns[-3]], row[new_database],row['Table']), axis=1)\n",
    "    counts.to_excel('{}/1_table_counts.xlsx'.format(new_qa_loc), index = False)"
   ]
  },
  {
   "cell_type": "code",
   "execution_count": null,
   "metadata": {
    "ExecuteTime": {
     "start_time": "2019-01-18T19:27:12.178Z"
    }
   },
   "outputs": [],
   "source": [
    "\n",
    "#Approximately \n",
    "new_counts = get_counts(previous_qa_loc, new_qa_loc, new_database)\n",
    "make_excel(new_counts,previous_qa_loc, new_qa_loc, new_database)\n"
   ]
  },
  {
   "cell_type": "code",
   "execution_count": null,
   "metadata": {},
   "outputs": [],
   "source": []
  }
 ],
 "metadata": {
  "kernelspec": {
   "display_name": "Python 3",
   "language": "python",
   "name": "python3"
  },
  "language_info": {
   "codemirror_mode": {
    "name": "ipython",
    "version": 3
   },
   "file_extension": ".py",
   "mimetype": "text/x-python",
   "name": "python",
   "nbconvert_exporter": "python",
   "pygments_lexer": "ipython3",
   "version": "3.6.7"
  },
  "varInspector": {
   "cols": {
    "lenName": 16,
    "lenType": 16,
    "lenVar": 40
   },
   "kernels_config": {
    "python": {
     "delete_cmd_postfix": "",
     "delete_cmd_prefix": "del ",
     "library": "var_list.py",
     "varRefreshCmd": "print(var_dic_list())"
    },
    "r": {
     "delete_cmd_postfix": ") ",
     "delete_cmd_prefix": "rm(",
     "library": "var_list.r",
     "varRefreshCmd": "cat(var_dic_list()) "
    }
   },
   "types_to_exclude": [
    "module",
    "function",
    "builtin_function_or_method",
    "instance",
    "_Feature"
   ],
   "window_display": false
  }
 },
 "nbformat": 4,
 "nbformat_minor": 2
}
