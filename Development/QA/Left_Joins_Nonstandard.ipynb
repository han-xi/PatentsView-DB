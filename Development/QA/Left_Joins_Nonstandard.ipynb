{
 "cells": [
  {
   "cell_type": "code",
   "execution_count": 3,
   "metadata": {
    "ExecuteTime": {
     "end_time": "2019-02-06T15:35:47.155346Z",
     "start_time": "2019-02-06T15:35:47.110538Z"
    }
   },
   "outputs": [],
   "source": [
    "#Left Joins nonstandard\n",
    "import pandas as pd\n",
    "import os\n",
    "import configparser\n",
    "import sys\n",
    "sys.path.append('/project/Development')\n",
    "from helpers import general_helpers\n",
    "import configparser\n",
    "config = configparser.ConfigParser()\n",
    "config.read('/project/Development/config.ini')\n",
    "host = config['DATABASE']['HOST']\n",
    "username = config['DATABASE']['USERNAME']\n",
    "password = config['DATABASE']['PASSWORD']\n",
    "new_database = config['DATABASE']['NEW_DB']\n",
    "old_database = config['DATABASE']['OLD_DB']\n",
    "temporary_upload = config['DATABASE']['TEMP_UPLOAD_DB']\n",
    "previous_qa_loc = config['FOLDERS']['OLD_QA_LOC']\n",
    "new_qa_loc = config['FOLDERS']['NEW_QA_LOC']\n",
    "latest_expected_date = config['CONSTANTS']['LATEST_DATE']\n",
    "\n",
    "engine = general_helpers.connect_to_db(host, username, password, new_database)"
   ]
  },
  {
   "cell_type": "code",
   "execution_count": 5,
   "metadata": {
    "ExecuteTime": {
     "end_time": "2019-02-08T05:30:09.577715Z",
     "start_time": "2019-02-07T16:15:47.357543Z"
    }
   },
   "outputs": [
    {
     "name": "stdout",
     "output_type": "stream",
     "text": [
      "SELECT count(distinct patent_id) FROM rawassignee LEFT JOIN patent on patent.id = patent_id where patent.id is null;\n",
      "SELECT count(distinct patent_id) FROM rawassignee LEFT JOIN patent on patent.id = patent_id where patent.id is null;\n",
      "SELECT count(pct_data.patent_id) FROM pct_data LEFT JOIN patent on patent.id = pct_data.patent_id where patent.id is null;\n",
      "SELECT count(distinct rawlocation.location_id) FROM location_assignee LEFT JOIN rawlocation on rawlocation.location_id_transformed = location_assignee.location_id LEFT JOIN location on location.id = rawlocation.location_id where assignee_id = '';\n",
      "SELECT count(*) FROM cpc_current LEFT JOIN cpc_subsection on cpc_subsection.id = cpc_current.subsection_id where id is null limit 100;\n",
      "SELECT count(distinct location_assignee.location_id) FROM temp_patent_list LEFT JOIN patent_assignee on patent_assignee.patent_id = temp_patent_list.id LEFT JOIN location_assignee on location_assignee.assignee_id = patent_assignee.assignee_id LEFT JOIN rawlocation on rawlocation.location_id_transformed = location_assignee.location_id;\n"
     ]
    },
    {
     "name": "stderr",
     "output_type": "stream",
     "text": [
      "Exception during reset or similar\n",
      "Traceback (most recent call last):\n",
      "  File \"/opt/conda/lib/python3.6/site-packages/sqlalchemy/pool.py\", line 709, in _finalize_fairy\n",
      "    fairy._reset(pool)\n",
      "  File \"/opt/conda/lib/python3.6/site-packages/sqlalchemy/pool.py\", line 880, in _reset\n",
      "    pool._dialect.do_rollback(self)\n",
      "  File \"/opt/conda/lib/python3.6/site-packages/sqlalchemy/dialects/mysql/base.py\", line 1805, in do_rollback\n",
      "    dbapi_connection.rollback()\n",
      "_mysql_exceptions.OperationalError: (2006, 'MySQL server has gone away')\n",
      "Exception during reset or similar\n",
      "Traceback (most recent call last):\n",
      "  File \"/opt/conda/lib/python3.6/site-packages/sqlalchemy/pool.py\", line 709, in _finalize_fairy\n",
      "    fairy._reset(pool)\n",
      "  File \"/opt/conda/lib/python3.6/site-packages/sqlalchemy/pool.py\", line 880, in _reset\n",
      "    pool._dialect.do_rollback(self)\n",
      "  File \"/opt/conda/lib/python3.6/site-packages/sqlalchemy/dialects/mysql/base.py\", line 1805, in do_rollback\n",
      "    dbapi_connection.rollback()\n",
      "_mysql_exceptions.OperationalError: (2006, 'MySQL server has gone away')\n",
      "Exception during reset or similar\n",
      "Traceback (most recent call last):\n",
      "  File \"/opt/conda/lib/python3.6/site-packages/sqlalchemy/pool.py\", line 709, in _finalize_fairy\n",
      "    fairy._reset(pool)\n",
      "  File \"/opt/conda/lib/python3.6/site-packages/sqlalchemy/pool.py\", line 880, in _reset\n",
      "    pool._dialect.do_rollback(self)\n",
      "  File \"/opt/conda/lib/python3.6/site-packages/sqlalchemy/dialects/mysql/base.py\", line 1805, in do_rollback\n",
      "    dbapi_connection.rollback()\n",
      "_mysql_exceptions.OperationalError: (2006, 'MySQL server has gone away')\n"
     ]
    },
    {
     "ename": "AttributeError",
     "evalue": "'str' object has no attribute 'values'",
     "output_type": "error",
     "traceback": [
      "\u001b[0;31m---------------------------------------------------------------------------\u001b[0m",
      "\u001b[0;31mAttributeError\u001b[0m                            Traceback (most recent call last)",
      "\u001b[0;32m<ipython-input-5-cdf8bc998f2b>\u001b[0m in \u001b[0;36m<module>\u001b[0;34m\u001b[0m\n\u001b[1;32m     43\u001b[0m         \u001b[0mids_sql_var\u001b[0m \u001b[0;34m=\u001b[0m \u001b[0mconn\u001b[0m\u001b[0;34m.\u001b[0m\u001b[0mexecute\u001b[0m\u001b[0;34m(\u001b[0m\u001b[0mselect_list\u001b[0m\u001b[0;34m[\u001b[0m\u001b[0mi\u001b[0m\u001b[0;34m]\u001b[0m\u001b[0;34m)\u001b[0m\u001b[0;34m\u001b[0m\u001b[0;34m\u001b[0m\u001b[0m\n\u001b[1;32m     44\u001b[0m         \u001b[0mids_sql\u001b[0m\u001b[0;34m=\u001b[0m\u001b[0;34m[\u001b[0m\u001b[0mrow\u001b[0m\u001b[0;34m[\u001b[0m\u001b[0;36m0\u001b[0m\u001b[0;34m]\u001b[0m \u001b[0;32mfor\u001b[0m \u001b[0mrow\u001b[0m \u001b[0;32min\u001b[0m \u001b[0mids_sql_var\u001b[0m\u001b[0;34m]\u001b[0m\u001b[0;34m[\u001b[0m\u001b[0;36m0\u001b[0m\u001b[0;34m]\u001b[0m\u001b[0;34m\u001b[0m\u001b[0;34m\u001b[0m\u001b[0m\n\u001b[0;32m---> 45\u001b[0;31m         \u001b[0mids\u001b[0m\u001b[0;34m=\u001b[0m \u001b[0mids_sql\u001b[0m\u001b[0;34m.\u001b[0m\u001b[0mvalues\u001b[0m\u001b[0;34m.\u001b[0m\u001b[0mT\u001b[0m\u001b[0;34m.\u001b[0m\u001b[0mtolist\u001b[0m\u001b[0;34m(\u001b[0m\u001b[0;34m)\u001b[0m\u001b[0;34m\u001b[0m\u001b[0;34m\u001b[0m\u001b[0m\n\u001b[0m\u001b[1;32m     46\u001b[0m         \u001b[0mid_list\u001b[0m\u001b[0;34m.\u001b[0m\u001b[0mappend\u001b[0m\u001b[0;34m(\u001b[0m\u001b[0mids\u001b[0m\u001b[0;34m[\u001b[0m\u001b[0;36m0\u001b[0m\u001b[0;34m]\u001b[0m\u001b[0;34m)\u001b[0m\u001b[0;34m\u001b[0m\u001b[0;34m\u001b[0m\u001b[0m\n\u001b[1;32m     47\u001b[0m     \u001b[0;32melse\u001b[0m\u001b[0;34m:\u001b[0m\u001b[0;34m\u001b[0m\u001b[0;34m\u001b[0m\u001b[0m\n",
      "\u001b[0;31mAttributeError\u001b[0m: 'str' object has no attribute 'values'"
     ]
    }
   ],
   "source": [
    "query_list=[\"SELECT count(distinct patent_id) FROM rawassignee LEFT JOIN patent on patent.id = patent_id where patent.id is null;\",\n",
    "            \"SELECT count(distinct patent_id) FROM rawassignee LEFT JOIN patent on patent.id = patent_id where patent.id is null;\",\n",
    "            \"SELECT count(pct_data.patent_id) FROM pct_data LEFT JOIN patent on patent.id = pct_data.patent_id where patent.id is null;\",\n",
    "            \"SELECT count(distinct rawlocation.location_id) FROM location_assignee LEFT JOIN rawlocation on rawlocation.location_id_transformed = location_assignee.location_id LEFT JOIN location on location.id = rawlocation.location_id where assignee_id = '';\",\n",
    "            \"SELECT count(*) FROM cpc_current LEFT JOIN cpc_subsection on cpc_subsection.id = cpc_current.subsection_id where id is null limit 100;\",\n",
    "            \"SELECT count(distinct location_assignee.location_id) FROM temp_patent_list LEFT JOIN patent_assignee on patent_assignee.patent_id = temp_patent_list.id LEFT JOIN location_assignee on location_assignee.assignee_id = patent_assignee.assignee_id LEFT JOIN rawlocation on rawlocation.location_id_transformed = location_assignee.location_id;\",\"SELECT count(distinct location_inventor.location_id) FROM temp_patent_list LEFT JOIN patent_inventor on patent_inventor.patent_id = temp_patent_list.id LEFT JOIN location_inventor on location_inventor.inventor_id = patent_inventor.inventor_id LEFT JOIN location on location.id = location_inventor.location_id where location.id is null;\",\"SELECT count(distinct patent_id) FROM rawinventor LEFT JOIN rawlocation on rawlocation.id = rawinventor.rawlocation_id where rawlocation.id is null;\",\n",
    "            \"SELECT count(distinct patent_id) FROM cpc_current LEFT JOIN cpc_subgroup on cpc_subgroup.id = cpc_current.subgroup_id where id is null;\",\n",
    "            \"SELECT count(distinct mainclass_id) FROM uspc_current LEFT JOIN mainclass_current on mainclass_current.id = uspc_current.mainclass_id where title is null AND mainclass_id != 'No longer published';\",\n",
    "            \"SELECT count(distinct id) FROM location_inventor LEFT JOIN location on location.id = location_inventor.location_id where location_inventor.location_id is null;\",\"SELECT count(distinct patent_id) FROM nber LEFT JOIN nber_category on nber_category.id = nber.category_id where title is null;\",\"SELECT count(distinct category_id) FROM nber LEFT JOIN nber_category on nber_category.id = nber.category_id where title is null;\",\n",
    "\"SELECT count(distinct patent_id) FROM nber LEFT JOIN nber_subcategory on nber_subcategory.id = nber.subcategory_id where title is null;\",\"SELECT count(distinct subcategory_id) FROM nber LEFT JOIN nber_subcategory on nber_subcategory.id = nber.subcategory_id where title is null;\",\"SELECT count(distinct patent_id) FROM uspc LEFT JOIN mainclass on mainclass.id = uspc.mainclass_id where mainclass.id is null;\",\n",
    "            \"SELECT count(distinct mainclass_id) FROM uspc LEFT JOIN mainclass on mainclass.id = uspc.mainclass_id where patent_id is null;\",\"SELECT count(distinct patent_id) FROM uspc LEFT JOIN subclass on subclass.id = uspc.mainclass_id where subclass.id is null;\",\n",
    "            \"SELECT count(distinct subclass_id) FROM uspc LEFT JOIN subclass on subclass.id = uspc.mainclass_id where patent_id is null;\",\"SELECT count(distinct wipo.patent_id) FROM wipo LEFT JOIN wipo_field on wipo_field.id = wipo.field_id where wipo_field.id is null;\",\n",
    "            \"SELECT count(distinct patent_id) FROM cpc_current LEFT JOIN cpc_subgroup on cpc_subgroup.id = cpc_current.subgroup_id where id is null;\"]\n",
    "select_list=[\"SELECT distinct patent_id FROM rawassignee LEFT JOIN patent on patent.id = patent_id where patent.id is null limit 5;\",\"SELECT distinct patent_id FROM rawassignee LEFT JOIN patent on patent.id = patent_id where patent.id is null limit 5;\",\"SELECT pct_data.patent_id FROM pct_data LEFT JOIN patent on patent.id = pct_data.patent_id where patent.id is null limit 5;\",\n",
    "             \"SELECT distinct rawlocation.location_id FROM location_assignee LEFT JOIN rawlocation on rawlocation.location_id_transformed = location_assignee.location_id LEFT JOIN location on location.id = rawlocation.location_id where assignee_id = '' limit 5;\",\"SELECT * FROM cpc_current LEFT JOIN cpc_subsection on cpc_subsection.id = cpc_current.subsection_id where id is null limit 100;\",\"SELECT distinct location_assignee.location_id FROM temp_patent_list LEFT JOIN patent_assignee on patent_assignee.patent_id = temp_patent_list.id LEFT JOIN location_assignee on location_assignee.assignee_id = patent_assignee.assignee_id LEFT JOIN rawlocation on rawlocation.location_id_transformed = location_assignee.location_id limit 5;\",\"SELECT distinct location_inventor.location_id FROM temp_patent_list LEFT JOIN patent_inventor on patent_inventor.patent_id = temp_patent_list.id LEFT JOIN location_inventor on location_inventor.inventor_id = patent_inventor.inventor_id LEFT JOIN location on location.id = location_inventor.location_id where location.id is null limit 5;\",\"SELECT distinct patent_id FROM rawinventor LEFT JOIN rawlocation on rawlocation.id = rawinventor.rawlocation_id where rawlocation.id is null limit 5;\",\"SELECT distinct patent_id FROM cpc_current LEFT JOIN cpc_subgroup on cpc_subgroup.id = cpc_current.subgroup_id where id is null limit 5;\"\n",
    ",\"SELECT distinct mainclass_id FROM uspc_current LEFT JOIN mainclass_current on mainclass_current.id = uspc_current.mainclass_id where title is null AND mainclass_id != 'No longer published' limit 5;\"\n",
    ",\"SELECT distinct id FROM location_inventor LEFT JOIN location on location.id = location_inventor.location_id where location_inventor.location_id is null limit 5;\"\n",
    ",\"SELECT distinct patent_id FROM nber LEFT JOIN nber_category on nber_category.id = nber.category_id where title is null limit 5;\"\n",
    ",\"SELECT distinct category_id FROM nber LEFT JOIN nber_category on nber_category.id = nber.category_id where title is null limit 5;\"\n",
    ",\"SELECT distinct patent_id FROM nber LEFT JOIN nber_subcategory on nber_subcategory.id = nber.subcategory_id where title is null limit 5;\"\n",
    ",\"SELECT distinct subcategory_id FROM nber LEFT JOIN nber_subcategory on nber_subcategory.id = nber.subcategory_id where title is null limit 5;\"\n",
    ",\"SELECT distinct patent_id FROM uspc LEFT JOIN mainclass on mainclass.id = uspc.mainclass_id where mainclass.id is null limit 5;\"\n",
    ",\"SELECT distinct mainclass_id FROM uspc LEFT JOIN mainclass on mainclass.id = uspc.mainclass_id where patent_id is null limit 5;\"\n",
    ",\"SELECT distinct patent_id FROM uspc LEFT JOIN subclass on subclass.id = uspc.mainclass_id where subclass.id is null limit 5;\"\n",
    ",\"SELECT distinct subclass_id FROM uspc LEFT JOIN subclass on subclass.id = uspc.mainclass_id where patent_id is null limit 5;\"\n",
    ",\"SELECT distinct wipo.patent_id FROM wipo LEFT JOIN wipo_field on wipo_field.id = wipo.field_id where wipo_field.id is null limit 5;\"\n",
    ",\"SELECT distinct patent_id FROM cpc_current LEFT JOIN cpc_subgroup on cpc_subgroup.id = cpc_current.subgroup_id where id is null limit 5;\"]\n",
    "\n",
    "results = pd.read_excel(\"{0}/4_left_joins_nonstandard.xlsx\".format(previous_qa_loc))\n",
    "left_joins_counts = []\n",
    "left_joins_queries = []\n",
    "id_list=[]\n",
    "for i in range(len(query_list)):\n",
    "    print (query_list[i])\n",
    "    conn = engine.connect()\n",
    "    var = conn.execute(query_list[i])\n",
    "    count = [row[0] for row in var][0]\n",
    "    left_joins_counts.append(count)\n",
    "    #print (var)\n",
    "    #print (\"---------------------------------\")\n",
    "    left_joins_queries.append(query_list[i])   \n",
    "    if count >0: #ie if there are any rows in the left table not in the right \n",
    "        ids_sql_var = conn.execute(select_list[i])\n",
    "        ids_sql=[row[0] for row in ids_sql_var][0]\n",
    "        ids= ids_sql.values.T.tolist()\n",
    "        id_list.append(ids[0])\n",
    "    else:\n",
    "        id_list.append('none')\n",
    "conn.close()"
   ]
  },
  {
   "cell_type": "code",
   "execution_count": null,
   "metadata": {},
   "outputs": [],
   "source": [
    "query_list=[\"SELECT count(distinct patent_id) FROM rawassignee LEFT JOIN patent on patent.id = patent_id where patent.id is null;\",\n",
    "            \"SELECT count(distinct patent_id) FROM rawassignee LEFT JOIN patent on patent.id = patent_id where patent.id is null;\",\n",
    "            \"SELECT count(pct_data.patent_id) FROM pct_data LEFT JOIN patent on patent.id = pct_data.patent_id where patent.id is null;\",\n",
    "            \"SELECT count(distinct rawlocation.location_id) FROM location_assignee LEFT JOIN rawlocation on rawlocation.location_id_transformed = location_assignee.location_id LEFT JOIN location on location.id = rawlocation.location_id where assignee_id = '';\",\n",
    "            \"SELECT count(*) FROM cpc_current LEFT JOIN cpc_subsection on cpc_subsection.id = cpc_current.subsection_id where id is null limit 100;\",\n",
    "            \"SELECT count(distinct location_assignee.location_id) FROM temp_patent_list LEFT JOIN patent_assignee on patent_assignee.patent_id = temp_patent_list.id LEFT JOIN location_assignee on location_assignee.assignee_id = patent_assignee.assignee_id LEFT JOIN rawlocation on rawlocation.location_id_transformed = location_assignee.location_id;\",\"SELECT count(distinct location_inventor.location_id) FROM temp_patent_list LEFT JOIN patent_inventor on patent_inventor.patent_id = temp_patent_list.id LEFT JOIN location_inventor on location_inventor.inventor_id = patent_inventor.inventor_id LEFT JOIN location on location.id = location_inventor.location_id where location.id is null;\",\"SELECT count(distinct patent_id) FROM rawinventor LEFT JOIN rawlocation on rawlocation.id = rawinventor.rawlocation_id where rawlocation.id is null;\",\n",
    "            \"SELECT count(distinct patent_id) FROM cpc_current LEFT JOIN cpc_subgroup on cpc_subgroup.id = cpc_current.subgroup_id where id is null;\",\n",
    "            \"SELECT count(distinct mainclass_id) FROM uspc_current LEFT JOIN mainclass_current on mainclass_current.id = uspc_current.mainclass_id where title is null AND mainclass_id != 'No longer published';\",\n",
    "            \"SELECT count(distinct id) FROM location_inventor LEFT JOIN location on location.id = location_inventor.location_id where location_inventor.location_id is null;\",\"SELECT count(distinct patent_id) FROM nber LEFT JOIN nber_category on nber_category.id = nber.category_id where title is null;\",\"SELECT count(distinct category_id) FROM nber LEFT JOIN nber_category on nber_category.id = nber.category_id where title is null;\",\n",
    "\"SELECT count(distinct patent_id) FROM nber LEFT JOIN nber_subcategory on nber_subcategory.id = nber.subcategory_id where title is null;\",\"SELECT count(distinct subcategory_id) FROM nber LEFT JOIN nber_subcategory on nber_subcategory.id = nber.subcategory_id where title is null;\",\"SELECT count(distinct patent_id) FROM uspc LEFT JOIN mainclass on mainclass.id = uspc.mainclass_id where mainclass.id is null;\",\n",
    "            \"SELECT count(distinct mainclass_id) FROM uspc LEFT JOIN mainclass on mainclass.id = uspc.mainclass_id where patent_id is null;\",\"SELECT count(distinct patent_id) FROM uspc LEFT JOIN subclass on subclass.id = uspc.mainclass_id where subclass.id is null;\",\n",
    "            \"SELECT count(distinct subclass_id) FROM uspc LEFT JOIN subclass on subclass.id = uspc.mainclass_id where patent_id is null;\",\"SELECT count(distinct wipo.patent_id) FROM wipo LEFT JOIN wipo_field on wipo_field.id = wipo.field_id where wipo_field.id is null;\",\n",
    "            \"SELECT count(distinct patent_id) FROM cpc_current LEFT JOIN cpc_subgroup on cpc_subgroup.id = cpc_current.subgroup_id where id is null;\"]\n",
    "select_list=[\"SELECT distinct patent_id FROM rawassignee LEFT JOIN patent on patent.id = patent_id where patent.id is null limit 5;\",\"SELECT distinct patent_id FROM rawassignee LEFT JOIN patent on patent.id = patent_id where patent.id is null limit 5;\",\"SELECT pct_data.patent_id FROM pct_data LEFT JOIN patent on patent.id = pct_data.patent_id where patent.id is null limit 5;\",\n",
    "             \"SELECT distinct rawlocation.location_id FROM location_assignee LEFT JOIN rawlocation on rawlocation.location_id_transformed = location_assignee.location_id LEFT JOIN location on location.id = rawlocation.location_id where assignee_id = '' limit 5;\",\"SELECT * FROM cpc_current LEFT JOIN cpc_subsection on cpc_subsection.id = cpc_current.subsection_id where id is null limit 100;\",\"SELECT distinct location_assignee.location_id FROM temp_patent_list LEFT JOIN patent_assignee on patent_assignee.patent_id = temp_patent_list.id LEFT JOIN location_assignee on location_assignee.assignee_id = patent_assignee.assignee_id LEFT JOIN rawlocation on rawlocation.location_id_transformed = location_assignee.location_id limit 5;\",\"SELECT distinct location_inventor.location_id FROM temp_patent_list LEFT JOIN patent_inventor on patent_inventor.patent_id = temp_patent_list.id LEFT JOIN location_inventor on location_inventor.inventor_id = patent_inventor.inventor_id LEFT JOIN location on location.id = location_inventor.location_id where location.id is null limit 5;\",\"SELECT distinct patent_id FROM rawinventor LEFT JOIN rawlocation on rawlocation.id = rawinventor.rawlocation_id where rawlocation.id is null limit 5;\",\"SELECT distinct patent_id FROM cpc_current LEFT JOIN cpc_subgroup on cpc_subgroup.id = cpc_current.subgroup_id where id is null limit 5;\"\n",
    ",\"SELECT distinct mainclass_id FROM uspc_current LEFT JOIN mainclass_current on mainclass_current.id = uspc_current.mainclass_id where title is null AND mainclass_id != 'No longer published' limit 5;\"\n",
    ",\"SELECT distinct id FROM location_inventor LEFT JOIN location on location.id = location_inventor.location_id where location_inventor.location_id is null limit 5;\"\n",
    ",\"SELECT distinct patent_id FROM nber LEFT JOIN nber_category on nber_category.id = nber.category_id where title is null limit 5;\"\n",
    ",\"SELECT distinct category_id FROM nber LEFT JOIN nber_category on nber_category.id = nber.category_id where title is null limit 5;\"\n",
    ",\"SELECT distinct patent_id FROM nber LEFT JOIN nber_subcategory on nber_subcategory.id = nber.subcategory_id where title is null limit 5;\"\n",
    ",\"SELECT distinct subcategory_id FROM nber LEFT JOIN nber_subcategory on nber_subcategory.id = nber.subcategory_id where title is null limit 5;\"\n",
    ",\"SELECT distinct patent_id FROM uspc LEFT JOIN mainclass on mainclass.id = uspc.mainclass_id where mainclass.id is null limit 5;\"\n",
    ",\"SELECT distinct mainclass_id FROM uspc LEFT JOIN mainclass on mainclass.id = uspc.mainclass_id where patent_id is null limit 5;\"\n",
    ",\"SELECT distinct patent_id FROM uspc LEFT JOIN subclass on subclass.id = uspc.mainclass_id where subclass.id is null limit 5;\"\n",
    ",\"SELECT distinct subclass_id FROM uspc LEFT JOIN subclass on subclass.id = uspc.mainclass_id where patent_id is null limit 5;\"\n",
    ",\"SELECT distinct wipo.patent_id FROM wipo LEFT JOIN wipo_field on wipo_field.id = wipo.field_id where wipo_field.id is null limit 5;\"\n",
    ",\"SELECT distinct patent_id FROM cpc_current LEFT JOIN cpc_subgroup on cpc_subgroup.id = cpc_current.subgroup_id where id is null limit 5;\"]\n",
    "\n",
    "def left_joins_weird(new_database, previous_qa_loc, new_qa_loc, query_list, select_list):\n",
    "    '''new_db: new database\n",
    "    previous_qa_loc: location of previous qa document\n",
    "    new_qa_loc: location of new qa document\n",
    "    this function does all left joins that don't follow the same pattern \n",
    "    in the new database and writes output to a csv file'''\n",
    "    results = pd.read_excel(\"{0}/4_left_joins_nonstandard.xlsx\".format(previous_qa_loc))\n",
    "    left_joins_counts = []\n",
    "    left_joins_queries = []\n",
    "    id_list=[]\n",
    "    for i in range(len(query_list)):\n",
    "        print query_list[i]\n",
    "        conn = conn.connect\n",
    "        var = conn.execute(query_list[i])\n",
    "        count = [row[0] for row in var][0]\n",
    "        left_joins_counts.append(count)\n",
    "        print var\n",
    "        print \"---------------------------------\"\n",
    "        left_joins_queries.append(query_list[i])   \n",
    "        if count >0: #ie if there are any rows in the left table not in the right \n",
    "            ids_sql = conn.connect(select_list[i])\n",
    "            ids= ids_sql.values.T.tolist()\n",
    "            id_list.append(ids[0])\n",
    "        else:\n",
    "            id_list.append('none')\n",
    "    results['{}_counts'.format(new_database)] = left_joins_counts\n",
    "    results['{}_example_ids'.format(new_database)] = id_list\n",
    "    return results\n",
    "def write_wierd(results, new_qa_loc):\n",
    "    results.to_csv(\"{0}/07_left_joins_nonstandard\".format(new_qa_loc), index =False)"
   ]
  },
  {
   "cell_type": "code",
   "execution_count": null,
   "metadata": {},
   "outputs": [],
   "source": [
    "nonstandard_results = left_joins_weird(new_db, previous_qa_loc, new_qa_loc, query_list, select_list)\n",
    "write_weird(nonstandard_results, new_qa_loc)"
   ]
  }
 ],
 "metadata": {
  "kernelspec": {
   "display_name": "Python 3",
   "language": "python",
   "name": "python3"
  },
  "language_info": {
   "codemirror_mode": {
    "name": "ipython",
    "version": 3
   },
   "file_extension": ".py",
   "mimetype": "text/x-python",
   "name": "python",
   "nbconvert_exporter": "python",
   "pygments_lexer": "ipython3",
   "version": "3.6.7"
  },
  "varInspector": {
   "cols": {
    "lenName": 16,
    "lenType": 16,
    "lenVar": 40
   },
   "kernels_config": {
    "python": {
     "delete_cmd_postfix": "",
     "delete_cmd_prefix": "del ",
     "library": "var_list.py",
     "varRefreshCmd": "print(var_dic_list())"
    },
    "r": {
     "delete_cmd_postfix": ") ",
     "delete_cmd_prefix": "rm(",
     "library": "var_list.r",
     "varRefreshCmd": "cat(var_dic_list()) "
    }
   },
   "types_to_exclude": [
    "module",
    "function",
    "builtin_function_or_method",
    "instance",
    "_Feature"
   ],
   "window_display": false
  }
 },
 "nbformat": 4,
 "nbformat_minor": 2
}
