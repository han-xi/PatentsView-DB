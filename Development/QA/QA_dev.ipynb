{
 "cells": [
  {
   "cell_type": "code",
   "execution_count": 2,
   "metadata": {
    "ExecuteTime": {
     "end_time": "2019-01-15T19:52:36.442986Z",
     "start_time": "2019-01-15T19:52:36.430212Z"
    }
   },
   "outputs": [
    {
     "data": {
      "text/plain": [
       "'/project/Development/QA'"
      ]
     },
     "execution_count": 2,
     "metadata": {},
     "output_type": "execute_result"
    }
   ],
   "source": [
    "os.getcwd()"
   ]
  },
  {
   "cell_type": "code",
   "execution_count": 6,
   "metadata": {
    "ExecuteTime": {
     "end_time": "2019-01-15T20:08:43.975491Z",
     "start_time": "2019-01-15T20:08:43.967411Z"
    }
   },
   "outputs": [],
   "source": [
    "#Counts QA\n",
    "\n",
    "#set up sql alchemy engine\n",
    "import pandas as pd\n",
    "import os\n",
    "import configparser\n",
    "import sys\n",
    "sys.path.append('/project/Development')\n",
    "from helpers import general_helpers\n",
    "import configparser\n",
    "config = configparser.ConfigParser()\n",
    "config.read('/project/Development/config.ini')\n",
    "host = config['DATABASE']['HOST']\n",
    "username = config['DATABASE']['USERNAME']\n",
    "password = config['DATABASE']['PASSWORD']\n",
    "new_database = config['DATABASE']['NEW_DB']\n",
    "old_database = config['DATABASE']['OLD_DB']\n",
    "temporary_upload = config['DATABASE']['TEMP_UPLOAD_DB']\n",
    "previous_qa_loc = config['FOLDERS']['OLD_QA_LOC']\n",
    "new_qa_loc = config['FOLDERS']['OLD_QA_LOC']\n",
    "latest_expected_date = config['CONSTANTS']['LATEST_DATE']"
   ]
  },
  {
   "cell_type": "code",
   "execution_count": 9,
   "metadata": {
    "ExecuteTime": {
     "end_time": "2019-01-15T20:10:35.912556Z",
     "start_time": "2019-01-15T20:10:35.905447Z"
    }
   },
   "outputs": [
    {
     "data": {
      "text/plain": [
       "['10_db_parameters.xlsx',\n",
       " '1_distinct_to_total.xlsx',\n",
       " '1_latest_date_check.xlsx',\n",
       " '1_null_and_blank_count.xlsx',\n",
       " '1_table_counts.xlsx',\n",
       " '2_data_by_year.xlsx',\n",
       " '3_right_joins_nonstandard.xlsx',\n",
       " '3_right_joins_overnight_1.xlsx',\n",
       " '3_right_joins_standard.xlsx',\n",
       " '4_left_joins.csv',\n",
       " '~$4_left_joins_nonstandard_v2.xlsx',\n",
       " '4_left_joins_nonstandard_v2.xlsx',\n",
       " '4_left_joins_nonstandard.xlsx',\n",
       " '4_left_joins_overnight.xlsx',\n",
       " '4_left_joins_weird.csv',\n",
       " '4_left_joins.xlsx',\n",
       " '~$5_loc_distinct.xlsx',\n",
       " '5_loc_distinct.xlsx',\n",
       " '5_loc_NOT_distinct_test.xlsx',\n",
       " '5_loc_NOT_distinct.xlsx',\n",
       " '5_right_joins_overnight.xlsx',\n",
       " '6_list_length',\n",
       " '6_list_length_cd.xlsx',\n",
       " '6_list_length.xlsx',\n",
       " '7_date_sum_count_distinct_TEST.xlsx',\n",
       " '7_date_sum_count_distinct.xlsx',\n",
       " '7_date_sum_count_TEST.xlsx',\n",
       " '7_date_sum_count.xlsx',\n",
       " '8_other_sum_qa_new.xlsx',\n",
       " '8_other_sum_qa_null_titles.xlsx',\n",
       " '8_other_sum_qa_TEST.xlsx',\n",
       " '8_other_sum_qa.xlsx',\n",
       " '9_db_parameters.xlsx',\n",
       " 'date_sum_qa_1_v2.xlsx',\n",
       " '~$date_sum_qa_1.xlsx',\n",
       " 'date_sum_qa_1.xlsx',\n",
       " 'date_sum_qa_v2.xlsx',\n",
       " 'date_sum_qa.xlsx',\n",
       " '~$ft_joins.docx',\n",
       " '~$ght_joins.docx',\n",
       " 'left_joins.docx',\n",
       " 'other_sum_qa_not_group_by.xlsx',\n",
       " '~$other_sum_qa.xlsx',\n",
       " 'other_sum_qa.xlsx',\n",
       " '~$qa_spreadsheet.xlsx',\n",
       " 'qa_spreadsheet.xlsx',\n",
       " 'Reporting_DB_top_assignee_inventor_patent.xlsx',\n",
       " 'right_joins.docx']"
      ]
     },
     "execution_count": 9,
     "metadata": {},
     "output_type": "execute_result"
    }
   ],
   "source": [
    "os.listdir(\"/project/previous_QA_output\")"
   ]
  },
  {
   "cell_type": "code",
   "execution_count": 11,
   "metadata": {
    "ExecuteTime": {
     "end_time": "2019-01-15T20:11:37.795147Z",
     "start_time": "2019-01-15T20:11:37.771990Z"
    }
   },
   "outputs": [
    {
     "name": "stdout",
     "output_type": "stream",
     "text": [
      "   patent_20170808  patent_20180528  Description         Table\n",
      "0          6502933          6647699  No Problems   application\n",
      "1           383348           389246  No Problems      assignee\n",
      "2            13366            13888  No Problems       botanic\n",
      "3          5937953          6069808  No Problems  brf_sum_text\n",
      "4         91920308         94162123  No Problems         claim\n"
     ]
    }
   ],
   "source": [
    "#engine = general_helpers.connect_to_db(host, username, password, new_database)\n",
    "data = pd.read_excel(\"{}/1_table_counts.xlsx\".format(previous_qa_loc))\n",
    "print (data.head())"
   ]
  },
  {
   "cell_type": "code",
   "execution_count": null,
   "metadata": {},
   "outputs": [],
   "source": [
    "\n",
    "\n",
    "\n",
    "'''\n",
    "#Counts- creating count description\n",
    "def create_count_description(old_db_count, new_db_count, table, min_inc = 1.01, max_inc = 1.1):\n",
    "    unchanging = ['cpc_subsection', 'wipo_field', 'nber_category', 'nber', 'cpc_group',\n",
    "                  'nber_subcategory', 'mainclass', 'mainclass_current', 'subclass', 'subclass_current']\n",
    "    slight_changes = ['cpc_subgroup']\n",
    "    if not table in unchanging + slight_changes:\n",
    "        if new_db_count < old_db_count:\n",
    "            return \"Problem: New table has fewer rows than old table \"\n",
    "        elif new_db_count == old_db_count:\n",
    "            return \"Problem: No new entries\"\n",
    "        elif new_db_count > old_db_count*max_inc:\n",
    "            return \"Problem: Too many new entries\"\n",
    "        elif new_db_count < old_db_count*min_inc:\n",
    "            return \"Problem: Too few new entries\"\n",
    "        elif old_db_count*min_inc < new_db_count < old_db_count*max_inc:\n",
    "            return \"No Problem!\"\n",
    "        else:\n",
    "            return \"Check the logic!\"\n",
    "    elif table in unchanging:\n",
    "        if new_db_count == old_db_count:\n",
    "            return \"No Problem!\"\n",
    "        else:\n",
    "            return \"Problem: Number of rows in unchanging table changed\"\n",
    "    elif table in slight_changes:\n",
    "        if old_db_count*.9 < new_db_count < old_db_count*1.1:\n",
    "            return \"No Problem!\"\n",
    "        else: \n",
    "            return \"Problem: Number of rows in slightly changing table changed\"\n",
    "#Counts- Get counts\n",
    "def get_counts(OLD_QA_LOC, NEW_QA_LOC, new_db):\n",
    "    counts = pd.read_excel('{}/1_table_counts.xlsx'.format(previous_qa_loc))\n",
    "    cursor = connect()\n",
    "    cursor.execute('use {}'.format(new_db))\n",
    "    new_counts = []\n",
    "    for table in counts['Table']:\n",
    "       # print table\n",
    "        cursor.execute('select count(*) from {}'.format(table))\n",
    "        count = cursor.fetchall()[0][0]\n",
    "        new_counts.append(count)\n",
    "    return new_counts\n",
    "#Counts- write to excel\n",
    "def make_excel(new_counts, OLD_QA_LOC, NEW_QA_LOC, new_db):\n",
    "    counts = pd.read_excel('{}/1_table_counts.xlsx'.format(OLD_QA))\n",
    "    counts[new_db] = new_counts\n",
    "    del counts['Description']\n",
    "    #the last row of the table is now the most recent previous database!\n",
    "    counts['Description'] = counts.apply(lambda row: create_count_description(row[counts.columns[-3]], row[new_db],row['Table']), axis=1)\n",
    "    counts.to_excel('{}/1_table_counts.xlsx'.format(NEW_QA_LOC), index = False)\n",
    "#Approximately \n",
    "new_counts = get_counts(OLD_QA_LOC, NEW_QA_LOC, new_db)\n",
    "make_excel(new_counts,OLD_QA_LOC, NEW_QA_LOC, new_db)\n",
    "'''"
   ]
  }
 ],
 "metadata": {
  "kernelspec": {
   "display_name": "Python 3",
   "language": "python",
   "name": "python3"
  },
  "language_info": {
   "codemirror_mode": {
    "name": "ipython",
    "version": 3
   },
   "file_extension": ".py",
   "mimetype": "text/x-python",
   "name": "python",
   "nbconvert_exporter": "python",
   "pygments_lexer": "ipython3",
   "version": "3.6.7"
  },
  "varInspector": {
   "cols": {
    "lenName": 16,
    "lenType": 16,
    "lenVar": 40
   },
   "kernels_config": {
    "python": {
     "delete_cmd_postfix": "",
     "delete_cmd_prefix": "del ",
     "library": "var_list.py",
     "varRefreshCmd": "print(var_dic_list())"
    },
    "r": {
     "delete_cmd_postfix": ") ",
     "delete_cmd_prefix": "rm(",
     "library": "var_list.r",
     "varRefreshCmd": "cat(var_dic_list()) "
    }
   },
   "types_to_exclude": [
    "module",
    "function",
    "builtin_function_or_method",
    "instance",
    "_Feature"
   ],
   "window_display": false
  }
 },
 "nbformat": 4,
 "nbformat_minor": 2
}
