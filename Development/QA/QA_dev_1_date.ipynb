{
 "cells": [
  {
   "cell_type": "code",
   "execution_count": 35,
   "metadata": {
    "ExecuteTime": {
     "end_time": "2019-01-16T21:34:39.322850Z",
     "start_time": "2019-01-16T21:34:39.200253Z"
    }
   },
   "outputs": [
    {
     "name": "stdout",
     "output_type": "stream",
     "text": [
      "          database                                  latest date check\n",
      "0  patent_20170808                                       date matches\n",
      "1  patent_20171226                                       date matches\n",
      "2  patent_20180528  The latest date is 2018-05-29, and it should b...\n",
      "3  patent_20180828  The latest date is <sqlalchemy.engine.result.R...\n",
      "4  patent_20180828  The latest date is <sqlalchemy.engine.result.R...\n"
     ]
    }
   ],
   "source": [
    "#Date\n",
    "\n",
    "#set up sql alchemy engine\n",
    "import pandas as pd\n",
    "import os\n",
    "import configparser\n",
    "import sys\n",
    "sys.path.append('/project/Development')\n",
    "from helpers import general_helpers\n",
    "import configparser\n",
    "config = configparser.ConfigParser()\n",
    "config.read('/project/Development/config.ini')\n",
    "host = config['DATABASE']['HOST']\n",
    "username = config['DATABASE']['USERNAME']\n",
    "password = config['DATABASE']['PASSWORD']\n",
    "new_database = config['DATABASE']['NEW_DB']\n",
    "old_database = config['DATABASE']['OLD_DB']\n",
    "temporary_upload = config['DATABASE']['TEMP_UPLOAD_DB']\n",
    "previous_qa_loc = config['FOLDERS']['OLD_QA_LOC']\n",
    "new_qa_loc = config['FOLDERS']['OLD_QA_LOC']\n",
    "latest_expected_date = config['CONSTANTS']['LATEST_DATE']\n",
    "\n",
    "engine = general_helpers.connect_to_db(host, username, password, new_database)\n",
    "data = pd.read_excel(\"{}/1_latest_date_check.xlsx\".format(previous_qa_loc))\n",
    "print (data.head())\n",
    "\n",
    "def check_latest_date(newdb, last_date):\n",
    "    date_dict = {}\n",
    "    found_date = engine.execute(\"select max(date) from {0}.patent;\".format(new_database))\n",
    "    if str(found_date) != str(latest_expected_date):\n",
    "        date_error =  \"The latest date is {0}, and it should be {1}\".format(str(found_date), str(latest_expected_date))\n",
    "        date_dict.update({new_database:date_error})\n",
    "    else:\n",
    "        date_match = \"date matches\"\n",
    "        date_dict.update({new_database:date_match})\n",
    "    return date_dict\n",
    "def date_check_to_excel(previous_qa_loc, date_dict, new_qa_loc):\n",
    "    df = pd.read_excel('{}/1_latest_date_check.xlsx'.format(previous_qa_loc))\n",
    "    df_2 = pd.DataFrame.from_dict(date_dict, orient = 'index')\n",
    "    df_2.reset_index(inplace=True)\n",
    "    df_2.rename(columns={'index':'database', 0:'latest date check'}, inplace=True)\n",
    "    df_3 = df.append(df_2)\n",
    "    df_3.to_excel('{}/1_latest_date_check.xlsx'.format(new_qa_loc), engine='xlsxwriter', index=False)\n",
    "    \n",
    "date_dict = check_latest_date(new_database, latest_expected_date)\n",
    "date_check_to_excel(previous_qa_loc, date_dict, new_qa_loc)"
   ]
  },
  {
   "cell_type": "code",
   "execution_count": 1,
   "metadata": {
    "ExecuteTime": {
     "end_time": "2019-01-16T17:42:46.947824Z",
     "start_time": "2019-01-16T17:42:46.361135Z"
    }
   },
   "outputs": [],
   "source": [
    "#Date\n",
    "\n",
    "#set up sql alchemy engine\n",
    "import pandas as pd\n",
    "import os\n",
    "import configparser\n",
    "import sys\n",
    "sys.path.append('/project/Development')\n",
    "from helpers import general_helpers\n",
    "import configparser\n",
    "config = configparser.ConfigParser()\n",
    "config.read('/project/Development/config.ini')\n",
    "host = config['DATABASE']['HOST']\n",
    "username = config['DATABASE']['USERNAME']\n",
    "password = config['DATABASE']['PASSWORD']\n",
    "new_database = config['DATABASE']['NEW_DB']\n",
    "old_database = config['DATABASE']['OLD_DB']\n",
    "temporary_upload = config['DATABASE']['TEMP_UPLOAD_DB']\n",
    "previous_qa_loc = config['FOLDERS']['OLD_QA_LOC']\n",
    "new_qa_loc = config['FOLDERS']['OLD_QA_LOC']\n",
    "latest_expected_date = config['CONSTANTS']['LATEST_DATE']"
   ]
  },
  {
   "cell_type": "code",
   "execution_count": 2,
   "metadata": {
    "ExecuteTime": {
     "end_time": "2019-01-16T17:42:48.493374Z",
     "start_time": "2019-01-16T17:42:48.390688Z"
    }
   },
   "outputs": [
    {
     "name": "stdout",
     "output_type": "stream",
     "text": [
      "          database                                  latest date check\n",
      "0  patent_20170808                                       date matches\n",
      "1  patent_20171226                                       date matches\n",
      "2  patent_20180528  The latest date is 2018-05-29, and it should b...\n"
     ]
    }
   ],
   "source": [
    "engine = general_helpers.connect_to_db(host, username, password, new_database)\n",
    "data = pd.read_excel(\"{}/1_latest_date_check.xlsx\".format(previous_qa_loc))\n",
    "print (data.head())"
   ]
  },
  {
   "cell_type": "code",
   "execution_count": null,
   "metadata": {},
   "outputs": [],
   "source": []
  },
  {
   "cell_type": "code",
   "execution_count": 27,
   "metadata": {
    "ExecuteTime": {
     "end_time": "2019-01-16T19:29:07.876836Z",
     "start_time": "2019-01-16T19:29:07.867127Z"
    }
   },
   "outputs": [],
   "source": [
    "date_dict = {}\n",
    "found_date = engine.execute(\"select max(date) from {0}.patent;\".format(new_database))\n",
    "if str(found_date) != str(latest_expected_date):\n",
    "    date_error =  \"The latest date is {0}, and it should be {1}\".format(str(found_date), str(latest_expected_date))\n",
    "    date_dict.update({new_database:date_error})\n",
    "else:\n",
    "    date_match = \"date matches\"\n",
    "    date_dict.update({new_database:date_match})"
   ]
  },
  {
   "cell_type": "code",
   "execution_count": 30,
   "metadata": {
    "ExecuteTime": {
     "end_time": "2019-01-16T21:30:33.943916Z",
     "start_time": "2019-01-16T21:30:33.911850Z"
    }
   },
   "outputs": [
    {
     "name": "stdout",
     "output_type": "stream",
     "text": [
      "                                                                 0\n",
      "patent_20180828  The latest date is <sqlalchemy.engine.result.R...\n"
     ]
    }
   ],
   "source": [
    "df = pd.read_excel('{}/1_latest_date_check.xlsx'.format(previous_qa_loc))\n",
    "df = pd.read_excel('{}/1_latest_date_check.xlsx'.format(previous_qa_loc))\n",
    "df_2 = pd.DataFrame.from_dict(date_dict, orient = 'index')\n",
    "print (df_2.head())\n",
    "# df_2.reset_index(inplace=True)\n",
    "# df_2.rename(columns={'index':'database', 0:'latest date check'}, inplace=True)\n",
    "# df_3 = df.append(df_2)\n",
    "# df_3.to_excel('{}/1_latest_date_check.xlsx'.format(new_qa_loc), engine='xlsxwriter', index=False)"
   ]
  },
  {
   "cell_type": "code",
   "execution_count": 33,
   "metadata": {
    "ExecuteTime": {
     "end_time": "2019-01-16T21:33:38.869485Z",
     "start_time": "2019-01-16T21:33:38.855537Z"
    }
   },
   "outputs": [],
   "source": [
    "def check_latest_date(newdb, last_date):\n",
    "    date_dict = {}\n",
    "    found_date = engine.execute(\"select max(date) from {0}.patent;\".format(new_database))\n",
    "    if str(found_date) != str(latest_expected_date):\n",
    "        date_error =  \"The latest date is {0}, and it should be {1}\".format(str(found_date), str(latest_expected_date))\n",
    "        date_dict.update({new_database:date_error})\n",
    "    else:\n",
    "        date_match = \"date matches\"\n",
    "        date_dict.update({new_database:date_match})\n",
    "    return date_dict\n",
    "def date_check_to_excel(previous_qa_loc, date_dict, new_qa_loc):\n",
    "    df = pd.read_excel('{}/1_latest_date_check.xlsx'.format(previous_qa_loc))\n",
    "    df_2 = pd.DataFrame.from_dict(date_dict, orient = 'index')\n",
    "    df_2.reset_index(inplace=True)\n",
    "    df_2.rename(columns={'index':'database', 0:'latest date check'}, inplace=True)\n",
    "    df_3 = df.append(df_2)\n",
    "    df_3.to_excel('{}/1_latest_date_check.xlsx'.format(new_qa_loc), engine='xlsxwriter', index=False)"
   ]
  },
  {
   "cell_type": "code",
   "execution_count": 34,
   "metadata": {
    "ExecuteTime": {
     "end_time": "2019-01-16T21:33:39.681667Z",
     "start_time": "2019-01-16T21:33:39.659700Z"
    }
   },
   "outputs": [],
   "source": [
    "date_dict = check_latest_date(new_database, latest_expected_date)\n",
    "date_check_to_excel(previous_qa_loc, date_dict, new_qa_loc)"
   ]
  },
  {
   "cell_type": "code",
   "execution_count": null,
   "metadata": {},
   "outputs": [],
   "source": []
  }
 ],
 "metadata": {
  "kernelspec": {
   "display_name": "Python 3",
   "language": "python",
   "name": "python3"
  },
  "language_info": {
   "codemirror_mode": {
    "name": "ipython",
    "version": 3
   },
   "file_extension": ".py",
   "mimetype": "text/x-python",
   "name": "python",
   "nbconvert_exporter": "python",
   "pygments_lexer": "ipython3",
   "version": "3.6.7"
  },
  "varInspector": {
   "cols": {
    "lenName": 16,
    "lenType": 16,
    "lenVar": 40
   },
   "kernels_config": {
    "python": {
     "delete_cmd_postfix": "",
     "delete_cmd_prefix": "del ",
     "library": "var_list.py",
     "varRefreshCmd": "print(var_dic_list())"
    },
    "r": {
     "delete_cmd_postfix": ") ",
     "delete_cmd_prefix": "rm(",
     "library": "var_list.r",
     "varRefreshCmd": "cat(var_dic_list()) "
    }
   },
   "types_to_exclude": [
    "module",
    "function",
    "builtin_function_or_method",
    "instance",
    "_Feature"
   ],
   "window_display": false
  }
 },
 "nbformat": 4,
 "nbformat_minor": 2
}
