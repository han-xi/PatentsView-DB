{
 "cells": [
  {
   "cell_type": "code",
   "execution_count": 1,
   "metadata": {
    "ExecuteTime": {
     "end_time": "2019-01-22T20:40:31.399601Z",
     "start_time": "2019-01-22T20:40:30.937574Z"
    }
   },
   "outputs": [],
   "source": [
    "#Left Joins That Follow Pattern\n",
    "\n",
    "#set up sql alchemy engine\n",
    "import pandas as pd\n",
    "import os\n",
    "import configparser\n",
    "import sys\n",
    "sys.path.append('/project/Development')\n",
    "from helpers import general_helpers\n",
    "import configparser\n",
    "config = configparser.ConfigParser()\n",
    "config.read('/project/Development/config.ini')\n",
    "host = config['DATABASE']['HOST']\n",
    "username = config['DATABASE']['USERNAME']\n",
    "password = config['DATABASE']['PASSWORD']\n",
    "new_database = config['DATABASE']['NEW_DB']\n",
    "old_database = config['DATABASE']['OLD_DB']\n",
    "temporary_upload = config['DATABASE']['TEMP_UPLOAD_DB']\n",
    "previous_qa_loc = config['FOLDERS']['OLD_QA_LOC']\n",
    "new_qa_loc = config['FOLDERS']['OLD_QA_LOC']\n",
    "latest_expected_date = config['CONSTANTS']['LATEST_DATE']"
   ]
  },
  {
   "cell_type": "code",
   "execution_count": 4,
   "metadata": {
    "ExecuteTime": {
     "end_time": "2019-01-22T20:41:10.013262Z",
     "start_time": "2019-01-22T20:41:09.995102Z"
    }
   },
   "outputs": [],
   "source": [
    "engine = general_helpers.connect_to_db(host, username, password, new_database)\n",
    "data = pd.read_excel(\"{}/4_left_joins.xlsx\".format(previous_qa_loc))\n",
    "#print (data.head())"
   ]
  },
  {
   "cell_type": "code",
   "execution_count": 17,
   "metadata": {
    "ExecuteTime": {
     "end_time": "2019-01-22T21:37:02.274302Z",
     "start_time": "2019-01-22T21:36:51.373647Z"
    }
   },
   "outputs": [
    {
     "name": "stdout",
     "output_type": "stream",
     "text": [
      "patent\n",
      "id\n",
      "application\n",
      "patent_id\n",
      "<sqlalchemy.engine.result.ResultProxy object at 0x7ff8efe871d0>\n"
     ]
    }
   ],
   "source": [
    "data_list = [(['patent', 'id'], ['application', 'patent_id']), (['patent', 'id'], ['botanic', 'patent_id']), (['patent', 'id'], ['brf_sum_text', 'patent_id']), (['patent', 'id'], ['claim', 'patent_id']), (['patent', 'id'], ['cpc_current', 'patent_id']), (['cpc_subsection', 'id'], ['cpc_current', 'subsection_id']), (['cpc_group', 'id'], ['cpc_current', 'group_id']), (['cpc_subgroup', 'id'], ['cpc_current', 'subgroup_id']), (['cpc_subgroup', 'id'], ['cpc_current', 'subgroup_id']), (['patent', 'id'], ['detail_desc_text', 'patent_id']), (['patent', 'id'], ['draw_desc_text', 'patent_id']), (['patent', 'id'], ['figures', 'patent_id']), (['patent', 'id'], ['foreign_priority', 'patent_id']), (['patent', 'id'], ['foreigncitation', 'patent_id']), (['patent', 'id'], ['government_interest', 'patent_id']), (['patent', 'id'], ['ipcr', 'patent_id']), (['patent', 'id'], ['nber', 'patent_id']), (['nber_category', 'id'], ['nber', 'category_id']), (['nber_category', 'id'], ['nber', 'category_id']), (['nber_subcategory', 'id'], ['nber', 'subcategory_id']), (['nber_subcategory', 'id'], ['nber', 'subcategory_id']), (['patent', 'id'], ['non_inventor_applicant', 'patent_id']), (['rawlocation', 'id'], ['non_inventor_applicant', 'rawlocation_id']), (['patent', 'id'], ['otherreference', 'patent_id']), (['patent', 'id'], ['patent_assignee', 'patent_id']), (['assignee', 'id'], ['patent_assignee', 'assignee_id']), (['patent', 'id'], ['patent_contractawardnumber', 'patent_id']), (['patent', 'id'], ['patent_govintorg', 'patent_id']), (['government_organization', 'organization_id'], ['patent_govintorg', 'organization_id']), (['patent', 'id'], ['patent_inventor', 'patent_id']), (['inventor', 'id'], ['patent_inventor', 'inventor_id']), (['patent', 'id'], ['pct_data', 'patent_id']), (['assignee', 'id'], ['rawassignee', 'assignee_id']), (['rawlocation', 'id'], ['rawassignee', 'rawlocation_id']), (['patent', 'id'], ['rawexaminer', 'patent_id']), (['rawlocation', 'id'], ['rawinventor', 'rawlocation_id']), (['patent', 'id'], ['rel_app_text', 'patent_id']), (['patent', 'id'], ['us_term_of_grant', 'patent_id']), (['patent', 'id'], ['usapplicationcitation', 'patent_id']), (['patent', 'id'], ['uspatentcitation', 'patent_id']), (['patent', 'id'], ['uspc_current', 'patent_id']), (['mainclass_current', 'id'], ['uspc_current', 'mainclass_id']), (['mainclass_current', 'id'], ['uspc_current', 'mainclass_id']), (['subclass_current', 'id'], ['uspc_current', 'mainclass_id']), (['subclass_current', 'id'], ['uspc_current', 'mainclass_id']), (['patent', 'id'], ['uspc', 'patent_id']), (['mainclass', 'id'], ['uspc', 'mainclass_id']), (['mainclass', 'id'], ['uspc', 'mainclass_id']), (['subclass', 'id'], ['uspc', 'mainclass_id']), (['subclass', 'id'], ['uspc', 'mainclass_id']), (['patent', 'id'], ['usreldoc', 'patent_id']), (['patent', 'id'], ['wipo', 'patent_id']), (['wipo_field', 'id'], ['wipo', 'field_id'])]\n",
    "\n",
    "'''new_database: new database\n",
    "previous_qa_loc: location of previous qa document\n",
    "new_qa_loc: location of new qa document\n",
    "this function does all left joins that follow the same pattern \n",
    "in the new database and writes output to a csv file'''\n",
    "results = pd.read_excel(\"{0}/4_left_joins.xlsx\".format(previous_qa_loc))\n",
    "left_joins = []\n",
    "id_list=[]\n",
    "for i, j in data_list:\n",
    "    var = engine.execute(\"select count(distinct {2}.{3}) from {0} right join {2} on {2}.{3} = {0}.{1} where {0}.{1} is null\".format(i[0], i[1], j[0], j[1]))\n",
    "    print (i[0])\n",
    "    print (i[1])\n",
    "    print (j[0])\n",
    "    print (j[1])\n",
    "    print (var)\n",
    "    break\n",
    "#     left_joins.append(\"There are {0} rows in {2} not in {1}\".format(var[0][0], i[0], j[0]))\n",
    "#     if var[0][0] >0: #ie if there are any rows in the left table not in the right \n",
    "#         ids_sql = pd.read_sql(\"select distinct {2}.{3} from {0} right join {2} on {2}.{3} = {0}.{1} where {0}.{1} is null limit 5\".format(i[0], i[1], j[0], j[1]), mydb)\n",
    "#         ids= ids_sql.values.T.tolist()\n",
    "#         id_list.append(ids[0])\n",
    "#     else:\n",
    "#         id_list.append('none')"
   ]
  },
  {
   "cell_type": "code",
   "execution_count": 13,
   "metadata": {
    "ExecuteTime": {
     "end_time": "2019-01-22T21:33:42.540332Z",
     "start_time": "2019-01-22T21:33:42.494836Z"
    }
   },
   "outputs": [],
   "source": [
    "data_list = [(['patent', 'id'], ['application', 'patent_id']), (['patent', 'id'], ['botanic', 'patent_id']), (['patent', 'id'], ['brf_sum_text', 'patent_id']), (['patent', 'id'], ['claim', 'patent_id']), (['patent', 'id'], ['cpc_current', 'patent_id']), (['cpc_subsection', 'id'], ['cpc_current', 'subsection_id']), (['cpc_group', 'id'], ['cpc_current', 'group_id']), (['cpc_subgroup', 'id'], ['cpc_current', 'subgroup_id']), (['cpc_subgroup', 'id'], ['cpc_current', 'subgroup_id']), (['patent', 'id'], ['detail_desc_text', 'patent_id']), (['patent', 'id'], ['draw_desc_text', 'patent_id']), (['patent', 'id'], ['figures', 'patent_id']), (['patent', 'id'], ['foreign_priority', 'patent_id']), (['patent', 'id'], ['foreigncitation', 'patent_id']), (['patent', 'id'], ['government_interest', 'patent_id']), (['patent', 'id'], ['ipcr', 'patent_id']), (['patent', 'id'], ['nber', 'patent_id']), (['nber_category', 'id'], ['nber', 'category_id']), (['nber_category', 'id'], ['nber', 'category_id']), (['nber_subcategory', 'id'], ['nber', 'subcategory_id']), (['nber_subcategory', 'id'], ['nber', 'subcategory_id']), (['patent', 'id'], ['non_inventor_applicant', 'patent_id']), (['rawlocation', 'id'], ['non_inventor_applicant', 'rawlocation_id']), (['patent', 'id'], ['otherreference', 'patent_id']), (['patent', 'id'], ['patent_assignee', 'patent_id']), (['assignee', 'id'], ['patent_assignee', 'assignee_id']), (['patent', 'id'], ['patent_contractawardnumber', 'patent_id']), (['patent', 'id'], ['patent_govintorg', 'patent_id']), (['government_organization', 'organization_id'], ['patent_govintorg', 'organization_id']), (['patent', 'id'], ['patent_inventor', 'patent_id']), (['inventor', 'id'], ['patent_inventor', 'inventor_id']), (['patent', 'id'], ['pct_data', 'patent_id']), (['assignee', 'id'], ['rawassignee', 'assignee_id']), (['rawlocation', 'id'], ['rawassignee', 'rawlocation_id']), (['patent', 'id'], ['rawexaminer', 'patent_id']), (['rawlocation', 'id'], ['rawinventor', 'rawlocation_id']), (['patent', 'id'], ['rel_app_text', 'patent_id']), (['patent', 'id'], ['us_term_of_grant', 'patent_id']), (['patent', 'id'], ['usapplicationcitation', 'patent_id']), (['patent', 'id'], ['uspatentcitation', 'patent_id']), (['patent', 'id'], ['uspc_current', 'patent_id']), (['mainclass_current', 'id'], ['uspc_current', 'mainclass_id']), (['mainclass_current', 'id'], ['uspc_current', 'mainclass_id']), (['subclass_current', 'id'], ['uspc_current', 'mainclass_id']), (['subclass_current', 'id'], ['uspc_current', 'mainclass_id']), (['patent', 'id'], ['uspc', 'patent_id']), (['mainclass', 'id'], ['uspc', 'mainclass_id']), (['mainclass', 'id'], ['uspc', 'mainclass_id']), (['subclass', 'id'], ['uspc', 'mainclass_id']), (['subclass', 'id'], ['uspc', 'mainclass_id']), (['patent', 'id'], ['usreldoc', 'patent_id']), (['patent', 'id'], ['wipo', 'patent_id']), (['wipo_field', 'id'], ['wipo', 'field_id'])]\n",
    "def left_joins(new_db, previous_qa_loc, new_qa_loc):\n",
    "    '''new_db: new database\n",
    "   previous_qa_loc: location of previous qa document\n",
    "   new_qa_loc: location of new qa document\n",
    "   this function does all left joins that follow the same pattern \n",
    "   in the new database and writes output to a csv file'''\n",
    "    results = pd.read_excel(\"{0}/4_left_joins.xlsx\".format(previous_qa_loc))\n",
    "    left_joins = []\n",
    "    id_list=[]\n",
    "    for i, j in data_list:\n",
    "        cursor.execute(\"select count(distinct {2}.{3}) from {0} right join {2} on {2}.{3} = {0}.{1} where {0}.{1} is null\".format(i[0], i[1], j[0], j[1]))\n",
    "        var = cursor.fetchall()\n",
    "        left_joins.append(\"There are {0} rows in {2} not in {1}\".format(var[0][0], i[0], j[0]))\n",
    "        if var[0][0] >0: #ie if there are any rows in the left table not in the right \n",
    "            ids_sql = pd.read_sql(\"select distinct {2}.{3} from {0} right join {2} on {2}.{3} = {0}.{1} where {0}.{1} is null limit 5\".format(i[0], i[1], j[0], j[1]), mydb)\n",
    "            ids= ids_sql.values.T.tolist()\n",
    "            id_list.append(ids[0])\n",
    "        else:\n",
    "            id_list.append('none')\n",
    "    results['Description_{0}'.format(new_db)]= left_joins\n",
    "    results['Example missing IDS_{0}'.format(new_db)]= id_list\n",
    "    return results\n",
    "def write_left_joins(results, new_qa_loc):\n",
    "    results.to_excel(\"{0}/4_left_joins.xlsx\".format(new_qa_loc), index = False)"
   ]
  },
  {
   "cell_type": "code",
   "execution_count": null,
   "metadata": {},
   "outputs": [],
   "source": [
    "left_join_results = left_joins(new_db, previous_qa_loc, new_qa_loc)\n",
    "write_left_joins(left_join_results, new_qa_loc)"
   ]
  }
 ],
 "metadata": {
  "kernelspec": {
   "display_name": "Python 3",
   "language": "python",
   "name": "python3"
  },
  "language_info": {
   "codemirror_mode": {
    "name": "ipython",
    "version": 3
   },
   "file_extension": ".py",
   "mimetype": "text/x-python",
   "name": "python",
   "nbconvert_exporter": "python",
   "pygments_lexer": "ipython3",
   "version": "3.6.7"
  },
  "varInspector": {
   "cols": {
    "lenName": 16,
    "lenType": 16,
    "lenVar": 40
   },
   "kernels_config": {
    "python": {
     "delete_cmd_postfix": "",
     "delete_cmd_prefix": "del ",
     "library": "var_list.py",
     "varRefreshCmd": "print(var_dic_list())"
    },
    "r": {
     "delete_cmd_postfix": ") ",
     "delete_cmd_prefix": "rm(",
     "library": "var_list.r",
     "varRefreshCmd": "cat(var_dic_list()) "
    }
   },
   "types_to_exclude": [
    "module",
    "function",
    "builtin_function_or_method",
    "instance",
    "_Feature"
   ],
   "window_display": false
  }
 },
 "nbformat": 4,
 "nbformat_minor": 2
}
