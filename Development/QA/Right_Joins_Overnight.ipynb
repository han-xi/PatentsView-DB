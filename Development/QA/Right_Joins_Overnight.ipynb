{
 "cells": [
  {
   "cell_type": "code",
   "execution_count": 9,
   "metadata": {
    "ExecuteTime": {
     "end_time": "2019-02-12T14:51:26.447278Z",
     "start_time": "2019-02-12T14:51:26.420242Z"
    }
   },
   "outputs": [],
   "source": [
    "#Right Joins Overnight\n",
    "import pandas as pd\n",
    "import os\n",
    "import configparser\n",
    "import sys\n",
    "sys.path.append('/project/Development')\n",
    "from helpers import general_helpers\n",
    "import configparser\n",
    "config = configparser.ConfigParser()\n",
    "config.read('/project/Development/config.ini')\n",
    "host = config['DATABASE']['HOST']\n",
    "username = config['DATABASE']['USERNAME']\n",
    "password = config['DATABASE']['PASSWORD']\n",
    "new_database = config['DATABASE']['NEW_DB']\n",
    "old_database = config['DATABASE']['OLD_DB']\n",
    "temporary_upload = config['DATABASE']['TEMP_UPLOAD_DB']\n",
    "previous_qa_loc = config['FOLDERS']['OLD_QA_LOC']\n",
    "new_qa_loc = config['FOLDERS']['NEW_QA_LOC']\n",
    "latest_expected_date = config['CONSTANTS']['LATEST_DATE']\n",
    "\n",
    "engine = general_helpers.connect_to_db(host, username, password, new_database)"
   ]
  },
  {
   "cell_type": "code",
   "execution_count": null,
   "metadata": {
    "ExecuteTime": {
     "start_time": "2019-02-12T14:52:58.510Z"
    }
   },
   "outputs": [
    {
     "name": "stdout",
     "output_type": "stream",
     "text": [
      "select count(distinct rawlocation.location_id_transformed) from location_assignee right join rawlocation on rawlocation.location_id_transformed = location_assignee.location_id where location_assignee.location_id is null\n"
     ]
    }
   ],
   "source": [
    "data_list_overnight= (['rawlocation', 'location_id_transformed'],['location_assignee', 'location_id']), (['location_inventor', 'location_id'], ['location', 'id']), (['location', 'id'], ['location_inventor', 'location_id']), (['patent', 'id'], ['rawinventor', 'patent_id']), (['temp_patent_list', 'id'], ['rawinventor', 'patent_id']),(['inventor', 'id'], ['rawinventor', 'inventor_id']), \n",
    "results = pd.read_excel(\"{0}/3_right_joins_overnight_1.xlsx\".format(previous_qa_loc))\n",
    "right_joins = []\n",
    "id_list=[]\n",
    "def right_joins_overnight(new_database,previous_qa_loc,new_qa_loc):\n",
    "    for i, j in data_list_overnight:\n",
    "        conn=engine.connect()\n",
    "        print (\"select count(distinct {0}.{1}) from {2} right join {0} on {0}.{1} = {2}.{3} where {2}.{3} is null\".format(i[0], i[1], j[0], j[1]))\n",
    "        var = conn.execute(\"select count(distinct {0}.{1}) from {2} right join {0} on {0}.{1} = {2}.{3} where {2}.{3} is null\".format(i[0], i[1], j[0], j[1]))\n",
    "        count = [row[0] for row in var][0]\n",
    "        right_joins.append(\"There are {0} rows in {1} not in {2}\".format(count, i[0], j[0]))\n",
    "        if count >0: #ie if there are any rows in the left table not in the right \n",
    "            ids_sql = pd.read_sql(\"select distinct {0}.{1} from {2} right join {0} on {0}.{1} = {2}.{3} where {2}.{3} is null limit 5\".format(i[0], i[1], j[0], j[1]), conn)\n",
    "            ids= ids_sql.values.T.tolist()\n",
    "            id_list.append(ids[0])\n",
    "        else:\n",
    "            id_list.append('none')\n",
    "    conn.close()\n",
    "    return right_joins, id_list\n",
    "    results['Description_{0}'.format(new_database)]= right_joins\n",
    "    results['Example missing IDS_{0}'.format(new_database)]= id_list\n",
    "def write_over_night_results(new_qa_loc):\n",
    "    results.to_csv(\"{0}/11_right_joins_overnight.csv\".format(new_qa_loc), index = False)\n",
    "    \n",
    "right_joins_overnight(new_database,previous_qa_loc,new_qa_loc)\n",
    "write_over_night_results(new_qa_loc)"
   ]
  },
  {
   "cell_type": "code",
   "execution_count": null,
   "metadata": {},
   "outputs": [],
   "source": [
    "data_list_overnight= (['rawlocation', 'location_id_transformed'],['location_assignee', 'location_id']), (['location_inventor', 'location_id'], ['location', 'id']), (['location', 'id'], ['location_inventor', 'location_id']), (['patent', 'id'], ['rawinventor', 'patent_id']), (['temp_patent_list', 'id'], ['rawinventor', 'patent_id']),(['inventor', 'id'], ['rawinventor', 'inventor_id']), \n",
    "def right_joins_overnight(new_db,previous_qa_loc,new_qa_loc):\n",
    "    '''new_db: new database\n",
    "   previous_qa_loc: location of previous qa document\n",
    "   new_qa_loc: location of new qa document\n",
    "   this function does right joins that take a long time \n",
    "   in the new database and writes output to a csv file'''\n",
    "    right_joins = []\n",
    "    id_list=[]\n",
    "    for i, j in data_list_overnight:\n",
    "        print \"select count(distinct {0}.{1}) from {2} right join {0} on {0}.{1} = {2}.{3} where {2}.{3} is null\".format(i[0], i[1], j[0], j[1])\n",
    "        cursor.execute(\"select count(distinct {0}.{1}) from {2} right join {0} on {0}.{1} = {2}.{3} where {2}.{3} is null\".format(i[0], i[1], j[0], j[1]))\n",
    "        var = cursor.fetchall()\n",
    "        right_joins.append(\"There are {0} rows in {1} not in {2}\".format(var[0][0], i[0], j[0]))\n",
    "        if var[0][0] >0: #ie if there are any rows in the left table not in the right \n",
    "            ids_sql = pd.read_sql(\"select distinct {0}.{1} from {2} right join {0} on {0}.{1} = {2}.{3} where {2}.{3} is null limit 5\".format(i[0], i[1], j[0], j[1]), mydb)\n",
    "            ids= ids_sql.values.T.tolist()\n",
    "            id_list.append(ids[0])\n",
    "        else:\n",
    "            id_list.append('none')\n",
    "    return right_joins, id_list\n",
    "def write_over_night_results(right_joins, id_list, new_db, previous_qa_loc,new_qa_loc):\n",
    "    results = pd.read_excel(\"{0}/3_right_joins_overnight.xlsx\".format(previous_qa_loc))\n",
    "    results = pd.DataFrame()\n",
    "    results['Description_{0}'.format(new_db)]= right_joins\n",
    "    results['Example missing IDS_{0}'.format(new_db)]= id_list\n",
    "    results.to_excel(\"{0}/3_right_joins_overnight.xlsx\".format(new_qa_loc), index = False)"
   ]
  }
 ],
 "metadata": {
  "kernelspec": {
   "display_name": "Python 3",
   "language": "python",
   "name": "python3"
  },
  "language_info": {
   "codemirror_mode": {
    "name": "ipython",
    "version": 3
   },
   "file_extension": ".py",
   "mimetype": "text/x-python",
   "name": "python",
   "nbconvert_exporter": "python",
   "pygments_lexer": "ipython3",
   "version": "3.6.7"
  },
  "varInspector": {
   "cols": {
    "lenName": 16,
    "lenType": 16,
    "lenVar": 40
   },
   "kernels_config": {
    "python": {
     "delete_cmd_postfix": "",
     "delete_cmd_prefix": "del ",
     "library": "var_list.py",
     "varRefreshCmd": "print(var_dic_list())"
    },
    "r": {
     "delete_cmd_postfix": ") ",
     "delete_cmd_prefix": "rm(",
     "library": "var_list.r",
     "varRefreshCmd": "cat(var_dic_list()) "
    }
   },
   "types_to_exclude": [
    "module",
    "function",
    "builtin_function_or_method",
    "instance",
    "_Feature"
   ],
   "window_display": false
  }
 },
 "nbformat": 4,
 "nbformat_minor": 2
}
