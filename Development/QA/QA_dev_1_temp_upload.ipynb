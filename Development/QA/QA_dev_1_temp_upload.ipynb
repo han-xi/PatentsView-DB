{
 "cells": [
  {
   "cell_type": "code",
   "execution_count": 3,
   "metadata": {
    "ExecuteTime": {
     "end_time": "2019-01-31T15:10:34.675301Z",
     "start_time": "2019-01-31T15:10:34.399588Z"
    }
   },
   "outputs": [
    {
     "name": "stdout",
     "output_type": "stream",
     "text": [
      "application\n",
      "botanic\n",
      "brf_sum_text\n",
      "claim\n",
      "detail_desc_text\n",
      "draw_desc_text\n",
      "figures\n",
      "foreign_priority\n",
      "foreigncitation\n",
      "government_interest\n",
      "ipcr\n",
      "mainclass\n",
      "non_inventor_applicant\n",
      "otherreference\n",
      "patent\n",
      "pct_data\n",
      "rawassignee\n",
      "rawexaminer\n",
      "rawinventor\n",
      "rawlawyer\n",
      "rawlocation\n",
      "rel_app_text\n",
      "subclass\n",
      "us_term_of_grant\n",
      "usapplicationcitation\n",
      "uspatentcitation\n",
      "uspc\n",
      "usreldoc\n"
     ]
    }
   ],
   "source": [
    "#Temp Upload Counts\n",
    "import pandas as pd\n",
    "import os\n",
    "import configparser\n",
    "import sys\n",
    "from sqlalchemy import create_engine\n",
    "sys.path.append('/project/Development')\n",
    "from helpers import general_helpers\n",
    "import configparser\n",
    "config = configparser.ConfigParser()\n",
    "config.read('/project/Development/config.ini')\n",
    "host = config['DATABASE']['HOST']\n",
    "username = config['DATABASE']['USERNAME']\n",
    "password = config['DATABASE']['PASSWORD']\n",
    "new_database = config['DATABASE']['NEW_DB']\n",
    "old_database = config['DATABASE']['OLD_DB']\n",
    "temporary_upload = config['DATABASE']['TEMP_UPLOAD_DB']\n",
    "previous_qa_loc = config['FOLDERS']['OLD_QA_LOC']\n",
    "new_qa_loc = config['FOLDERS']['NEW_QA_LOC']\n",
    "latest_expected_date = config['CONSTANTS']['LATEST_DATE']\n",
    "\n",
    "engine = general_helpers.connect_to_db(host, username, password, temporary_upload)\n",
    "\n",
    "tables=['application',\t'botanic',\t'brf_sum_text',\t'claim','detail_desc_text',\t'draw_desc_text',\t'figures',\t'foreign_priority',\t'foreigncitation',\t'government_interest',\t'ipcr',\t'mainclass',\t'non_inventor_applicant',\t'otherreference',\t'patent',\t'pct_data',\t'rawassignee',\t'rawexaminer',\t'rawinventor',\t'rawlawyer',\t'rawlocation',\t'rel_app_text',\t'subclass',\t'us_term_of_grant',\t'usapplicationcitation',\t'uspatentcitation',\t'uspc',\t\t'usreldoc']\n",
    "\n",
    "def temp_upload_count (temporary_upload, tables):\n",
    "    new_counts = []\n",
    "    description= []\n",
    "    #engine.execute('use {}'.format(temporary_upload))\n",
    "    for table in tables:\n",
    "        print(table)\n",
    "        conn = engine.connect()\n",
    "        var = conn.execute('select count(*) from {}'.format(table))\n",
    "        count = [row[0] for row in var][0]\n",
    "        conn.close()\n",
    "        new_counts.append(count)\n",
    "    for count in new_counts:\n",
    "        if count == 0:\n",
    "            description.append(\"Problem: Empty Table\")\n",
    "        else:\n",
    "            description.append(\"No Problem!\")\n",
    "\n",
    "    df=pd.DataFrame({'Table': tables, 'Count':new_counts, 'Description':description})\n",
    "    df_temp_upload=df[['Table', 'Count', 'Description']] #get results in correct order\n",
    "    return df_temp_upload\n",
    "\n",
    "def write_temp(df, new_qa_loc):\n",
    "    writer = pd.ExcelWriter('{0}/1_table_counts_temp_upload.xlsx'.format(new_qa_loc), engine='xlsxwriter')\n",
    "    df.to_csv('{}/03_temp_upload.csv'.format(new_qa_loc), index = False)\n",
    "    \n",
    "    \n",
    "df = temp_upload_count (temporary_upload, tables)\n",
    "write_temp(df, new_qa_loc)"
   ]
  },
  {
   "cell_type": "code",
   "execution_count": 2,
   "metadata": {
    "ExecuteTime": {
     "end_time": "2019-01-29T21:18:39.816264Z",
     "start_time": "2019-01-29T21:18:39.756279Z"
    }
   },
   "outputs": [],
   "source": [
    "#\n",
    "\n",
    "#engine = create_engine('mysql+mysqldb://{}:{}@{}/{}?charset=utf8'.format(username, password, host, new_database ), encoding='utf-8', pool_size=20, max_overflow=0)"
   ]
  },
  {
   "cell_type": "code",
   "execution_count": 5,
   "metadata": {
    "ExecuteTime": {
     "end_time": "2019-01-30T16:31:41.866355Z",
     "start_time": "2019-01-30T16:31:41.841527Z"
    }
   },
   "outputs": [],
   "source": [
    "engine = general_helpers.connect_to_db(host, username, password, temporary_upload)\n",
    "\n",
    "tables=['application',\t'botanic',\t'brf_sum_text',\t'claim','detail_desc_text',\t'draw_desc_text',\t'figures',\t'foreign_priority',\t'foreigncitation',\t'government_interest',\t'ipcr',\t'mainclass',\t'non_inventor_applicant',\t'otherreference',\t'patent',\t'pct_data',\t'rawassignee',\t'rawexaminer',\t'rawinventor',\t'rawlawyer',\t'rawlocation',\t'rel_app_text',\t'subclass',\t'us_term_of_grant',\t'usapplicationcitation',\t'uspatentcitation',\t'uspc',\t\t'usreldoc']\n",
    "\n",
    "def temp_upload_count (temporary_upload, tables):\n",
    "    new_counts = []\n",
    "    description= []\n",
    "    #engine.execute('use {}'.format(temporary_upload))\n",
    "    for table in tables:\n",
    "        print(table)\n",
    "        conn = engine.connect()\n",
    "        count = conn.execute('select count(*) from {}'.format(table))\n",
    "        conn.close()\n",
    "        new_counts.append(count)\n",
    "    for count in new_counts:\n",
    "        if count == 0:\n",
    "            description.append(\"Problem: Empty Table\")\n",
    "        else:\n",
    "            description.append(\"No Problem!\")\n",
    "\n",
    "    df=pd.DataFrame({'Table': tables, 'Count':new_counts, 'Description':description})\n",
    "    df_temp_upload=df[['Table', 'Count', 'Description']] #get results in correct order\n",
    "    return df_temp_upload\n",
    "\n",
    "def write_temp(df, new_qa_loc):\n",
    "    writer = pd.ExcelWriter('{0}/1_table_counts_temp_upload.xlsx'.format(new_qa_loc), engine='xlsxwriter')\n",
    "    df.to_excel(writer, index = False)\n",
    "    writer.save()"
   ]
  },
  {
   "cell_type": "code",
   "execution_count": 6,
   "metadata": {
    "ExecuteTime": {
     "end_time": "2019-01-30T16:31:46.257501Z",
     "start_time": "2019-01-30T16:31:44.613959Z"
    }
   },
   "outputs": [
    {
     "name": "stdout",
     "output_type": "stream",
     "text": [
      "application\n",
      "botanic\n",
      "brf_sum_text\n",
      "claim\n",
      "detail_desc_text\n",
      "draw_desc_text\n",
      "figures\n",
      "foreign_priority\n",
      "foreigncitation\n",
      "government_interest\n",
      "ipcr\n",
      "mainclass\n",
      "non_inventor_applicant\n",
      "otherreference\n",
      "patent\n",
      "pct_data\n",
      "rawassignee\n",
      "rawexaminer\n",
      "rawinventor\n",
      "rawlawyer\n",
      "rawlocation\n",
      "rel_app_text\n",
      "subclass\n",
      "us_term_of_grant\n",
      "usapplicationcitation\n",
      "uspatentcitation\n",
      "uspc\n",
      "usreldoc\n"
     ]
    }
   ],
   "source": [
    "df = temp_upload_count (temporary_upload, tables)"
   ]
  },
  {
   "cell_type": "code",
   "execution_count": 6,
   "metadata": {
    "ExecuteTime": {
     "end_time": "2019-01-29T22:27:47.918343Z",
     "start_time": "2019-01-29T22:27:47.894371Z"
    }
   },
   "outputs": [
    {
     "ename": "NameError",
     "evalue": "name 'name' is not defined",
     "output_type": "error",
     "traceback": [
      "\u001b[0;31m---------------------------------------------------------------------------\u001b[0m",
      "\u001b[0;31mNameError\u001b[0m                                 Traceback (most recent call last)",
      "\u001b[0;32m<ipython-input-6-e26c2fa6bb08>\u001b[0m in \u001b[0;36m<module>\u001b[0;34m\u001b[0m\n\u001b[0;32m----> 1\u001b[0;31m \u001b[0;32mif\u001b[0m \u001b[0mname\u001b[0m \u001b[0;34m==\u001b[0m \u001b[0;34m'__main__'\u001b[0m\u001b[0;34m:\u001b[0m\u001b[0;34m\u001b[0m\u001b[0;34m\u001b[0m\u001b[0m\n\u001b[0m\u001b[1;32m      2\u001b[0m     \u001b[0;32mif\u001b[0m \u001b[0;32mnot\u001b[0m \u001b[0mos\u001b[0m\u001b[0;34m.\u001b[0m\u001b[0mpath\u001b[0m\u001b[0;34m.\u001b[0m\u001b[0mexists\u001b[0m\u001b[0;34m(\u001b[0m\u001b[0mnew_qa_loc\u001b[0m\u001b[0;34m)\u001b[0m\u001b[0;34m:\u001b[0m\u001b[0;34m\u001b[0m\u001b[0;34m\u001b[0m\u001b[0m\n\u001b[1;32m      3\u001b[0m         \u001b[0mos\u001b[0m\u001b[0;34m.\u001b[0m\u001b[0mmkdir\u001b[0m\u001b[0;34m(\u001b[0m\u001b[0mnew_qa_loc\u001b[0m\u001b[0;34m)\u001b[0m\u001b[0;34m\u001b[0m\u001b[0;34m\u001b[0m\u001b[0m\n\u001b[1;32m      4\u001b[0m     \u001b[0mengine\u001b[0m \u001b[0;34m=\u001b[0m \u001b[0mgeneral_helpers\u001b[0m\u001b[0;34m.\u001b[0m\u001b[0mconnect_to_db\u001b[0m\u001b[0;34m(\u001b[0m\u001b[0mhost\u001b[0m\u001b[0;34m,\u001b[0m \u001b[0musername\u001b[0m\u001b[0;34m,\u001b[0m \u001b[0mpassword\u001b[0m\u001b[0;34m,\u001b[0m \u001b[0mtemporary_upload\u001b[0m\u001b[0;34m)\u001b[0m\u001b[0;34m\u001b[0m\u001b[0;34m\u001b[0m\u001b[0m\n\u001b[1;32m      5\u001b[0m     \u001b[0mtables\u001b[0m\u001b[0;34m=\u001b[0m\u001b[0;34m[\u001b[0m\u001b[0;34m'application'\u001b[0m\u001b[0;34m,\u001b[0m      \u001b[0;34m'botanic'\u001b[0m\u001b[0;34m,\u001b[0m      \u001b[0;34m'brf_sum_text'\u001b[0m\u001b[0;34m,\u001b[0m \u001b[0;34m'claim'\u001b[0m\u001b[0;34m,\u001b[0m\u001b[0;34m'detail_desc_text'\u001b[0m\u001b[0;34m,\u001b[0m     \u001b[0;34m'draw_desc_text'\u001b[0m\u001b[0;34m,\u001b[0m       \u001b[0;34m'figures'\u001b[0m\u001b[0;34m,\u001b[0m      \u001b[0;34m'foreign_priority'\u001b[0m\u001b[0;34m,\u001b[0m     \u001b[0;34m'foreigncitation'\u001b[0m\u001b[0;34m,\u001b[0m      \u001b[0;34m'government_interest'\u001b[0m\u001b[0;34m,\u001b[0m  \u001b[0;34m'ipcr'\u001b[0m\u001b[0;34m,\u001b[0m \u001b[0;34m'mainclass'\u001b[0m\u001b[0;34m,\u001b[0m    \u001b[0;34m'non_inventor_applicant'\u001b[0m\u001b[0;34m,\u001b[0m       \u001b[0;34m'otherreference'\u001b[0m\u001b[0;34m,\u001b[0m       \u001b[0;34m'patent'\u001b[0m\u001b[0;34m,\u001b[0m       \u001b[0;34m'pct_data'\u001b[0m\u001b[0;34m,\u001b[0m     \u001b[0;34m'rawassignee'\u001b[0m\u001b[0;34m,\u001b[0m  \u001b[0;34m'rawexaminer'\u001b[0m\u001b[0;34m,\u001b[0m  \u001b[0;34m'rawinventor'\u001b[0m\u001b[0;34m,\u001b[0m  \u001b[0;34m'rawlawyer'\u001b[0m\u001b[0;34m,\u001b[0m    \u001b[0;34m'rawlocation'\u001b[0m\u001b[0;34m,\u001b[0m  \u001b[0;34m'rel_app_text'\u001b[0m\u001b[0;34m,\u001b[0m \u001b[0;34m'subclass'\u001b[0m\u001b[0;34m,\u001b[0m     \u001b[0;34m'us_term_of_grant'\u001b[0m\u001b[0;34m,\u001b[0m     \u001b[0;34m'usapplicationcitation'\u001b[0m\u001b[0;34m,\u001b[0m        \u001b[0;34m'uspatentcitation'\u001b[0m\u001b[0;34m,\u001b[0m     \u001b[0;34m'uspc'\u001b[0m\u001b[0;34m,\u001b[0m         \u001b[0;34m'usreldoc'\u001b[0m\u001b[0;34m]\u001b[0m\u001b[0;34m\u001b[0m\u001b[0;34m\u001b[0m\u001b[0m\n",
      "\u001b[0;31mNameError\u001b[0m: name 'name' is not defined"
     ]
    }
   ],
   "source": [
    "if name == '__main__':\n",
    "    if not os.path.exists(new_qa_loc):\n",
    "        os.mkdir(new_qa_loc)\n",
    "    engine = general_helpers.connect_to_db(host, username, password, temporary_upload)\n",
    "    tables=['application',\t'botanic',\t'brf_sum_text',\t'claim','detail_desc_text',\t'draw_desc_text',\t'figures',\t'foreign_priority',\t'foreigncitation',\t'government_interest',\t'ipcr',\t'mainclass',\t'non_inventor_applicant',\t'otherreference',\t'patent',\t'pct_data',\t'rawassignee',\t'rawexaminer',\t'rawinventor',\t'rawlawyer',\t'rawlocation',\t'rel_app_text',\t'subclass',\t'us_term_of_grant',\t'usapplicationcitation',\t'uspatentcitation',\t'uspc',\t\t'usreldoc']\n",
    "    df = temp_upload_count (temporary_upload, tables)\n",
    "    write_temp(df, new_qa_loc)"
   ]
  },
  {
   "cell_type": "code",
   "execution_count": null,
   "metadata": {},
   "outputs": [],
   "source": []
  }
 ],
 "metadata": {
  "kernelspec": {
   "display_name": "Python 3",
   "language": "python",
   "name": "python3"
  },
  "language_info": {
   "codemirror_mode": {
    "name": "ipython",
    "version": 3
   },
   "file_extension": ".py",
   "mimetype": "text/x-python",
   "name": "python",
   "nbconvert_exporter": "python",
   "pygments_lexer": "ipython3",
   "version": "3.6.7"
  },
  "varInspector": {
   "cols": {
    "lenName": 16,
    "lenType": 16,
    "lenVar": 40
   },
   "kernels_config": {
    "python": {
     "delete_cmd_postfix": "",
     "delete_cmd_prefix": "del ",
     "library": "var_list.py",
     "varRefreshCmd": "print(var_dic_list())"
    },
    "r": {
     "delete_cmd_postfix": ") ",
     "delete_cmd_prefix": "rm(",
     "library": "var_list.r",
     "varRefreshCmd": "cat(var_dic_list()) "
    }
   },
   "types_to_exclude": [
    "module",
    "function",
    "builtin_function_or_method",
    "instance",
    "_Feature"
   ],
   "window_display": false
  }
 },
 "nbformat": 4,
 "nbformat_minor": 2
}
