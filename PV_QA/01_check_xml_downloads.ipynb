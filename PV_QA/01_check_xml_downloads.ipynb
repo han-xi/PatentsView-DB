{
 "cells": [
  {
   "cell_type": "code",
   "execution_count": 8,
   "metadata": {
    "ExecuteTime": {
     "end_time": "2019-12-09T16:45:45.782474Z",
     "start_time": "2019-12-09T16:45:45.511144Z"
    }
   },
   "outputs": [],
   "source": [
    "import os\n",
    "import math\n",
    "from datetime import datetime, timedelta\n",
    "\n",
    "from helpers import general_helpers\n",
    "import pytest \n",
    "import pytz\n",
    "\n",
    "project_home = os.environ['PACKAGE_HOME']\n",
    "import configparser\n",
    "config = configparser.ConfigParser()\n",
    "config.read(project_home + '/Development/config.ini')\n",
    "start_date = config['DATES']['START_DATE']\n",
    "end_date = config['DATES']['END_DATE']\n",
    "\n",
    "\n",
    "\n",
    "rawxml_folder = '{}/raw_data'.format(config['FOLDERS']['WORKING_FOLDER'])\n",
    "cleanxml__folder = '{}/raw_data'.format(config['FOLDERS']['WORKING_FOLDER'])\n",
    "parsedxml__folder = '{}/raw_data'.format(config['FOLDERS']['WORKING_FOLDER'])"
   ]
  },
  {
   "cell_type": "code",
   "execution_count": 9,
   "metadata": {
    "ExecuteTime": {
     "end_time": "2019-12-09T16:45:46.077376Z",
     "start_time": "2019-12-09T16:45:46.049738Z"
    }
   },
   "outputs": [],
   "source": [
    "qa_db = 'patent_QA'\n",
    "new_db = config['DATABASE']['NEW_DB']\n",
    "db_con = general_helpers.connect_to_db(config['DATABASE']['HOST'], config['DATABASE']['USERNAME'], config['DATABASE']['PASSWORD'], qa_db)"
   ]
  },
  {
   "cell_type": "code",
   "execution_count": 14,
   "metadata": {
    "ExecuteTime": {
     "end_time": "2019-12-09T16:46:34.906840Z",
     "start_time": "2019-12-09T16:46:34.894412Z"
    }
   },
   "outputs": [],
   "source": [
    "# REQUIRES: start and end timestamps (database format \"YYYYMMDD\")\n",
    "# MODIFIES: nothing \n",
    "# EFFECTS: returns number of weeks data update spans\n",
    "def get_num_weeks(start_timestamp, end_timestamp):\n",
    "    \n",
    "    time_period = end_timestamp - start_timestamp\n",
    "    num_weeks = math.ceil(time_period.days // 7)\n",
    "    \n",
    "    return num_weeks\n",
    "\n",
    "# REQUIRES: data update start & end dates (from config file, database format \"YYYYMMDD\")\n",
    "# MODIFIES: nothing \n",
    "# EFFECTS: returns number of weeks data update spans, all tuesdays of data\n",
    "def get_tuesdays(start_date, end_date):\n",
    "    \n",
    "    # convert dates to datetime objects\n",
    "    start_timestamp = datetime.strptime(start_date,'%Y%m%d')\n",
    "    end_timestamp = datetime.strptime(end_date,'%Y%m%d')\n",
    "\n",
    "    # see how many weeks data spans ( get # of files that should be downloaded)\n",
    "    num_weeks = get_num_weeks(start_timestamp, end_timestamp)\n",
    "    \n",
    "    # now get dates of all tuesdays part of data update\n",
    "    all_tuesdays = []\n",
    "\n",
    "    # need to -1 from start timestamp since it will always be a wednesday\n",
    "    ts = start_timestamp - timedelta(days=1)\n",
    "\n",
    "    for i in range(0, num_weeks):\n",
    "        # get date of next tuesday\n",
    "        ts = ts + timedelta(days=7)\n",
    "        ts_str = datetime.strftime(ts, '%Y%m%d')\n",
    "        all_tuesdays.append(ts_str)\n",
    "        \n",
    "    return num_weeks, all_tuesdays\n",
    "\n",
    "\n",
    "# REQUIRES: data folder path, num_weeks\n",
    "# MODIFIES: nothing\n",
    "# EFFECTS: asserts if # of folders matches expected # for data update\n",
    "def test_num_xmlfiles(db_con, folder_path, num_weeks, file_type):\n",
    "    \n",
    "    num_xml_files = len(os.listdir(folder_path))\n",
    "    \n",
    "    # static\n",
    "    stmt_pt1 = \"insert into {0}.test_num_xmlfiles (`db_timestamp`, `type`, `expected_value`, `actual_value`)\".format(qa_db)\n",
    "\n",
    "    # dynamic\n",
    "    stmt_pt2 = \"values ('{0}', '{1}', {2}, {3});\".format(new_db, file_type,num_weeks, num_xml_files)\n",
    "\n",
    "    # insert row into qa table\n",
    "    insert_stmt = stmt_pt1 + stmt_pt2\n",
    "    db_con.execute(insert_stmt)\n",
    "      \n",
    "    assert(num_xml_files == num_weeks)\n",
    "\n",
    "# REQUIRES: raw xml folder path, num_weeks\n",
    "# MODIFIES: nothing\n",
    "# EFFECTS: returns \n",
    "def test_size_xml(folder_path, num_weeks):\n",
    "    \n",
    "    xml_files = os.listdir(folder_path)\n",
    "        \n",
    "\n",
    "    if(len(xml_files) == num_weeks):\n",
    "        #print('Pass: Expected number of xml files are present.')\n",
    "        bool_xml = True\n",
    "        \n",
    "    else: \n",
    "        print('Fail: expected number of xml files are not present.')\n",
    "        \n",
    "    return bool_xml\n",
    "\n",
    "# REQUIRES: folder path, list of files to check\n",
    "# MODIFIES: nothing\n",
    "# EFFECTS: returns true or false for checking bulk file downloads\n",
    "# def check_filesize(folder_path, files_to_check):\n",
    "\n"
   ]
  },
  {
   "cell_type": "code",
   "execution_count": 15,
   "metadata": {
    "ExecuteTime": {
     "end_time": "2019-12-09T16:46:36.555029Z",
     "start_time": "2019-12-09T16:46:36.531901Z"
    }
   },
   "outputs": [
    {
     "name": "stdout",
     "output_type": "stream",
     "text": [
      "Number of weeks of data update:  6\n",
      "Tuesdays are:  ['20190827', '20190903', '20190910', '20190917', '20190924', '20191001']\n"
     ]
    },
    {
     "ename": "AssertionError",
     "evalue": "",
     "output_type": "error",
     "traceback": [
      "\u001b[0;31m---------------------------------------------------------------------------\u001b[0m",
      "\u001b[0;31mAssertionError\u001b[0m                            Traceback (most recent call last)",
      "\u001b[0;32m<ipython-input-15-90ca1a6f3db7>\u001b[0m in \u001b[0;36m<module>\u001b[0;34m\u001b[0m\n\u001b[1;32m      6\u001b[0m \u001b[0;34m\u001b[0m\u001b[0m\n\u001b[1;32m      7\u001b[0m \u001b[0;31m#2. Check raw XML files were downloaded\u001b[0m\u001b[0;34m\u001b[0m\u001b[0;34m\u001b[0m\u001b[0;34m\u001b[0m\u001b[0m\n\u001b[0;32m----> 8\u001b[0;31m \u001b[0mtest_num_xmlfiles\u001b[0m\u001b[0;34m(\u001b[0m\u001b[0mdb_con\u001b[0m\u001b[0;34m,\u001b[0m \u001b[0mrawxml_folder\u001b[0m\u001b[0;34m,\u001b[0m \u001b[0mnum_weeks\u001b[0m\u001b[0;34m,\u001b[0m \u001b[0;34m'raw xml'\u001b[0m\u001b[0;34m)\u001b[0m\u001b[0;34m\u001b[0m\u001b[0;34m\u001b[0m\u001b[0m\n\u001b[0m\u001b[1;32m      9\u001b[0m \u001b[0;34m\u001b[0m\u001b[0m\n\u001b[1;32m     10\u001b[0m \u001b[0;31m#3. Check that raw XML files have size > 0MB\u001b[0m\u001b[0;34m\u001b[0m\u001b[0;34m\u001b[0m\u001b[0;34m\u001b[0m\u001b[0m\n",
      "\u001b[0;32m<ipython-input-14-ad3926d52a17>\u001b[0m in \u001b[0;36mtest_num_xmlfiles\u001b[0;34m(db_con, folder_path, num_weeks, file_type)\u001b[0m\n\u001b[1;32m     53\u001b[0m     \u001b[0mdb_con\u001b[0m\u001b[0;34m.\u001b[0m\u001b[0mexecute\u001b[0m\u001b[0;34m(\u001b[0m\u001b[0minsert_stmt\u001b[0m\u001b[0;34m)\u001b[0m\u001b[0;34m\u001b[0m\u001b[0;34m\u001b[0m\u001b[0m\n\u001b[1;32m     54\u001b[0m \u001b[0;34m\u001b[0m\u001b[0m\n\u001b[0;32m---> 55\u001b[0;31m     \u001b[0;32massert\u001b[0m\u001b[0;34m(\u001b[0m\u001b[0mnum_xml_files\u001b[0m \u001b[0;34m==\u001b[0m \u001b[0mnum_weeks\u001b[0m\u001b[0;34m)\u001b[0m\u001b[0;34m\u001b[0m\u001b[0;34m\u001b[0m\u001b[0m\n\u001b[0m\u001b[1;32m     56\u001b[0m \u001b[0;34m\u001b[0m\u001b[0m\n\u001b[1;32m     57\u001b[0m \u001b[0;31m# REQUIRES: raw xml folder path, num_weeks\u001b[0m\u001b[0;34m\u001b[0m\u001b[0;34m\u001b[0m\u001b[0;34m\u001b[0m\u001b[0m\n",
      "\u001b[0;31mAssertionError\u001b[0m: "
     ]
    }
   ],
   "source": [
    "#1. Get span of data update\n",
    "num_weeks, all_tuesdays = get_tuesdays(start_date, end_date)\n",
    "\n",
    "print(\"Number of weeks of data update: \", num_weeks)\n",
    "print(\"Tuesdays are: \", all_tuesdays)\n",
    "\n",
    "#2. Check raw XML files were downloaded\n",
    "test_num_xmlfiles(db_con, rawxml_folder, num_weeks, 'raw xml')\n",
    "\n",
    "#3. Check that raw XML files have size > 0MB\n",
    "\n",
    "#4. Check that clean XML files were created\n",
    "\n",
    "#5. Check that clean XML files have size > 0MB\n",
    "\n",
    "#6. Check that a parsed XML folder was created for each Tuesday\n",
    "\n",
    "#7. Check that each expected .csv is in each parsed folder \n",
    "\n",
    "#8. Check that each parsed data file has a size > 0 MB\n"
   ]
  },
  {
   "cell_type": "code",
   "execution_count": null,
   "metadata": {
    "ExecuteTime": {
     "end_time": "2019-12-05T20:30:12.489225Z",
     "start_time": "2019-12-05T20:30:12.484377Z"
    }
   },
   "outputs": [],
   "source": [
    "\n",
    "\n",
    "db_con.execute(\"insert into {0}.test_num_xmlfiles (`db_timestamp`, `expected_value`, `actual_value`) values ('{1}', 5, 4);\".format(qa_db, new_db))"
   ]
  },
  {
   "cell_type": "code",
   "execution_count": null,
   "metadata": {
    "ExecuteTime": {
     "end_time": "2019-12-05T20:28:52.753673Z",
     "start_time": "2019-12-05T20:28:52.740737Z"
    }
   },
   "outputs": [],
   "source": [
    "all_tuesdays"
   ]
  },
  {
   "cell_type": "code",
   "execution_count": null,
   "metadata": {
    "ExecuteTime": {
     "end_time": "2019-12-05T20:30:24.478753Z",
     "start_time": "2019-12-05T20:30:24.471075Z"
    }
   },
   "outputs": [],
   "source": [
    "\n",
    "downloaded_xml_files = os.listdir(rawdata_folder)\n"
   ]
  },
  {
   "cell_type": "code",
   "execution_count": null,
   "metadata": {
    "ExecuteTime": {
     "end_time": "2019-12-05T20:30:31.414179Z",
     "start_time": "2019-12-05T20:30:31.405348Z"
    }
   },
   "outputs": [],
   "source": [
    "downloaded_xml_files"
   ]
  },
  {
   "cell_type": "code",
   "execution_count": null,
   "metadata": {
    "ExecuteTime": {
     "end_time": "2019-12-09T14:20:58.248345Z",
     "start_time": "2019-12-09T14:20:58.241780Z"
    }
   },
   "outputs": [],
   "source": [
    "os.path.getsize(rawdata_folder + '/ipg181127.xml')\n",
    "\n",
    "os.stat(rawdata_folder).st_size"
   ]
  }
 ],
 "metadata": {
  "kernelspec": {
   "display_name": "Python 3",
   "language": "python",
   "name": "python3"
  },
  "language_info": {
   "codemirror_mode": {
    "name": "ipython",
    "version": 3
   },
   "file_extension": ".py",
   "mimetype": "text/x-python",
   "name": "python",
   "nbconvert_exporter": "python",
   "pygments_lexer": "ipython3",
   "version": "3.6.7"
  },
  "varInspector": {
   "cols": {
    "lenName": 16,
    "lenType": 16,
    "lenVar": 40
   },
   "kernels_config": {
    "python": {
     "delete_cmd_postfix": "",
     "delete_cmd_prefix": "del ",
     "library": "var_list.py",
     "varRefreshCmd": "print(var_dic_list())"
    },
    "r": {
     "delete_cmd_postfix": ") ",
     "delete_cmd_prefix": "rm(",
     "library": "var_list.r",
     "varRefreshCmd": "cat(var_dic_list()) "
    }
   },
   "types_to_exclude": [
    "module",
    "function",
    "builtin_function_or_method",
    "instance",
    "_Feature"
   ],
   "window_display": false
  }
 },
 "nbformat": 4,
 "nbformat_minor": 2
}
