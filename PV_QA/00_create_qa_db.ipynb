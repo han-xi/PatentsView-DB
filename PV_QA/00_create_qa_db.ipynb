{
 "cells": [
  {
   "cell_type": "code",
   "execution_count": 7,
   "metadata": {
    "ExecuteTime": {
     "end_time": "2019-12-09T16:06:43.254907Z",
     "start_time": "2019-12-09T16:06:43.249190Z"
    }
   },
   "outputs": [],
   "source": [
    "import sys\n",
    "import os\n",
    "\n",
    "project_home = os.environ['PACKAGE_HOME']\n",
    "import configparser\n",
    "config = configparser.ConfigParser()\n",
    "config.read(project_home + '/Development/config.ini')\n",
    "sys.path.append(project_home+ '/Development/')\n",
    "from helpers import general_helpers\n",
    "import configparser"
   ]
  },
  {
   "cell_type": "code",
   "execution_count": 8,
   "metadata": {
    "ExecuteTime": {
     "end_time": "2019-12-09T16:06:44.907801Z",
     "start_time": "2019-12-09T16:06:44.891945Z"
    }
   },
   "outputs": [],
   "source": [
    "config = configparser.ConfigParser()\n",
    "config.read('/project/Development/config.ini')\n",
    "qa_db = 'patent_QA'\n",
    "db_con = general_helpers.connect_to_db(config['DATABASE']['HOST'], config['DATABASE']['USERNAME'], config['DATABASE']['PASSWORD'], qa_db)"
   ]
  },
  {
   "cell_type": "code",
   "execution_count": 38,
   "metadata": {
    "ExecuteTime": {
     "end_time": "2019-12-09T16:22:09.779802Z",
     "start_time": "2019-12-09T16:22:09.776188Z"
    }
   },
   "outputs": [],
   "source": [
    "new_db = config['DATABASE']['NEW_DB']"
   ]
  },
  {
   "cell_type": "code",
   "execution_count": 6,
   "metadata": {
    "ExecuteTime": {
     "end_time": "2019-12-05T20:51:46.583566Z",
     "start_time": "2019-12-05T20:51:46.573480Z"
    }
   },
   "outputs": [
    {
     "data": {
      "text/plain": [
       "<sqlalchemy.engine.result.ResultProxy at 0x7f95af92ec50>"
      ]
     },
     "execution_count": 6,
     "metadata": {},
     "output_type": "execute_result"
    }
   ],
   "source": [
    "# Create database\n",
    "db_con.execute(\"create database if not exists patent_QA default character set=utf8mb4 default collate=utf8mb4_unicode_ci\")"
   ]
  },
  {
   "cell_type": "code",
   "execution_count": 13,
   "metadata": {
    "ExecuteTime": {
     "end_time": "2019-12-09T16:09:07.219890Z",
     "start_time": "2019-12-09T16:09:07.210084Z"
    }
   },
   "outputs": [],
   "source": [
    "from datetime import datetime\n",
    "import pytz"
   ]
  },
  {
   "cell_type": "code",
   "execution_count": 23,
   "metadata": {
    "ExecuteTime": {
     "end_time": "2019-12-09T16:13:48.363729Z",
     "start_time": "2019-12-09T16:13:48.358656Z"
    }
   },
   "outputs": [],
   "source": [
    "db_con.execute(\"insert into {0}.test_num_xmlfiles (`db_timestamp`, `expected_value`, `actual_value`) values ('{1}', 5, 4);\".format(qa_db, new_db))\n",
    "  "
   ]
  },
  {
   "cell_type": "code",
   "execution_count": 17,
   "metadata": {
    "ExecuteTime": {
     "end_time": "2019-12-09T16:11:41.512283Z",
     "start_time": "2019-12-09T16:11:41.506242Z"
    }
   },
   "outputs": [
    {
     "data": {
      "text/plain": [
       "datetime.datetime(2019, 12, 9, 16, 11, 41, 507482)"
      ]
     },
     "execution_count": 17,
     "metadata": {},
     "output_type": "execute_result"
    }
   ],
   "source": []
  },
  {
   "cell_type": "code",
   "execution_count": 43,
   "metadata": {
    "ExecuteTime": {
     "end_time": "2019-12-09T16:28:30.312765Z",
     "start_time": "2019-12-09T16:28:30.304611Z"
    }
   },
   "outputs": [
    {
     "data": {
      "text/plain": [
       "datetime.datetime(2019, 12, 9, 11, 28, 30, 307310, tzinfo=<DstTzInfo 'US/Eastern' EST-1 day, 19:00:00 STD>)"
      ]
     },
     "execution_count": 43,
     "metadata": {},
     "output_type": "execute_result"
    }
   ],
   "source": [
    "eastern_time = pytz.timezone(\"US/Eastern\")\n",
    "created_ts = datetime.now().astimezone(eastern_time)\n",
    "created_ts"
   ]
  },
  {
   "cell_type": "code",
   "execution_count": 50,
   "metadata": {
    "ExecuteTime": {
     "end_time": "2019-12-09T16:41:58.896106Z",
     "start_time": "2019-12-09T16:41:58.874731Z"
    }
   },
   "outputs": [
    {
     "data": {
      "text/plain": [
       "<sqlalchemy.engine.result.ResultProxy at 0x7f95b1f66160>"
      ]
     },
     "execution_count": 50,
     "metadata": {},
     "output_type": "execute_result"
    }
   ],
   "source": [
    "# will add tables based on functions in each step \n",
    "\n",
    "db_con.execute(\"create table {}.test_num_xmlfiles (`db_timestamp` varchar(20), `type` varchar(20), `expected_value` int(11), `actual_value` int(11), `created_timestamp` timestamp NOT NULL DEFAULT current_timestamp() ON UPDATE current_timestamp());\".format(qa_db))"
   ]
  },
  {
   "cell_type": "code",
   "execution_count": 49,
   "metadata": {
    "ExecuteTime": {
     "end_time": "2019-12-09T16:33:18.675968Z",
     "start_time": "2019-12-09T16:33:18.659233Z"
    }
   },
   "outputs": [
    {
     "data": {
      "text/plain": [
       "<sqlalchemy.engine.result.ResultProxy at 0x7f95b1f661d0>"
      ]
     },
     "execution_count": 49,
     "metadata": {},
     "output_type": "execute_result"
    }
   ],
   "source": [
    "db_con.execute(\"insert into {0}.test_num_xmlfiles (`db_timestamp`, `expected_value`, `actual_value`) values ('{1}', 5, 4);\".format(qa_db, new_db))"
   ]
  },
  {
   "cell_type": "code",
   "execution_count": null,
   "metadata": {},
   "outputs": [],
   "source": []
  }
 ],
 "metadata": {
  "kernelspec": {
   "display_name": "Python 3",
   "language": "python",
   "name": "python3"
  },
  "language_info": {
   "codemirror_mode": {
    "name": "ipython",
    "version": 3
   },
   "file_extension": ".py",
   "mimetype": "text/x-python",
   "name": "python",
   "nbconvert_exporter": "python",
   "pygments_lexer": "ipython3",
   "version": "3.6.7"
  },
  "varInspector": {
   "cols": {
    "lenName": 16,
    "lenType": 16,
    "lenVar": 40
   },
   "kernels_config": {
    "python": {
     "delete_cmd_postfix": "",
     "delete_cmd_prefix": "del ",
     "library": "var_list.py",
     "varRefreshCmd": "print(var_dic_list())"
    },
    "r": {
     "delete_cmd_postfix": ") ",
     "delete_cmd_prefix": "rm(",
     "library": "var_list.r",
     "varRefreshCmd": "cat(var_dic_list()) "
    }
   },
   "types_to_exclude": [
    "module",
    "function",
    "builtin_function_or_method",
    "instance",
    "_Feature"
   ],
   "window_display": false
  }
 },
 "nbformat": 4,
 "nbformat_minor": 2
}
